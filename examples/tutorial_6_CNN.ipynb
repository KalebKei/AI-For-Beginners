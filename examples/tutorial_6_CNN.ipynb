{
  "cells": [
    {
      "cell_type": "markdown",
      "metadata": {
        "id": "view-in-github",
        "colab_type": "text"
      },
      "source": [
        "<a href=\"https://colab.research.google.com/github/KalebKei/AI-For-Beginners/blob/main/examples/tutorial_6_CNN.ipynb\" target=\"_parent\"><img src=\"https://colab.research.google.com/assets/colab-badge.svg\" alt=\"Open In Colab\"/></a>"
      ]
    },
    {
      "cell_type": "markdown",
      "metadata": {
        "collapsed": false,
        "id": "uSGZ6cdmpknm",
        "pycharm": {
          "name": "#%% md\n"
        }
      },
      "source": [
        "[<img src='https://github.com/jeshraghian/snntorch/blob/master/docs/_static/img/snntorch_alpha_w.png?raw=true' width=\"400\">](https://github.com/jeshraghian/snntorch/)\n",
        "\n",
        "# snnTorch - Surrogate Gradient Descent in a Convolutional Spiking Neural Network\n",
        "## Tutorial 6\n",
        "### By Jason K. Eshraghian (www.ncg.ucsc.edu)\n",
        "\n",
        "<a href=\"https://colab.research.google.com/github/jeshraghian/snntorch/blob/master/examples/tutorial_6_CNN.ipynb\">\n",
        "  <img src=\"https://colab.research.google.com/assets/colab-badge.svg\" alt=\"Open In Colab\"/>\n",
        "</a>\n",
        "\n",
        "[<img src='https://github.com/jeshraghian/snntorch/blob/master/docs/_static/img/GitHub-Mark-Light-120px-plus.png?raw=true' width=\"28\">](https://github.com/jeshraghian/snntorch/) [<img src='https://github.com/jeshraghian/snntorch/blob/master/docs/_static/img/GitHub_Logo_White.png?raw=true' width=\"80\">](https://github.com/jeshraghian/snntorch/)"
      ]
    },
    {
      "cell_type": "markdown",
      "metadata": {
        "id": "rugeYYiqsrlc"
      },
      "source": [
        "The snnTorch tutorial series is based on the following paper. If you find these resources or code useful in your work, please consider citing the following source:\n",
        "\n",
        "> <cite> [Jason K. Eshraghian, Max Ward, Emre Neftci, Xinxin Wang, Gregor Lenz, Girish Dwivedi, Mohammed Bennamoun, Doo Seok Jeong, and Wei D. Lu. \"Training Spiking Neural Networks Using Lessons From Deep Learning\". Proceedings of the IEEE, 111(9) September 2023.](https://ieeexplore.ieee.org/abstract/document/10242251) </cite>\n"
      ]
    },
    {
      "cell_type": "markdown",
      "metadata": {
        "id": "Ymi3sqJg28OQ"
      },
      "source": [
        "# Introduction\n",
        "In this tutorial, you will:\n",
        "* Learn how to modify surrogate gradient descent to overcome the dead neuron problem\n",
        "* Construct and train a convolutional spiking neural network\n",
        "* Use a sequential container, `nn.Sequential` to simplify model construction\n",
        "\n",
        "Part of this tutorial was inspired by Friedemann Zenke’s extensive\n",
        "work on SNNs. Check out his repo on surrogate gradients\n",
        "[here](https://github.com/fzenke/spytorch), and a favourite paper\n",
        "of mine: E. O. Neftci, H. Mostafa, F. Zenke, [Surrogate Gradient\n",
        "Learning in Spiking Neural Networks: Bringing the Power of\n",
        "Gradient-based optimization to spiking neural\n",
        "networks.](https://ieeexplore.ieee.org/document/8891809) IEEE\n",
        "Signal Processing Magazine 36, 51–63.\n",
        "\n",
        "At the end of the tutorial, we will train a convolutional spiking neural network (CSNN) using the MNIST dataset to perform image classification. The background theory follows on from [Tutorials 2, 4 and 5](https://snntorch.readthedocs.io/en/latest/tutorials/index.html), so feel free to go back if you need to brush up.\n",
        "\n",
        "If running in Google Colab:\n",
        "* You may connect to GPU by checking `Runtime` > `Change runtime type` > `Hardware accelerator: GPU`\n",
        "* Next, install the latest PyPi distribution of snnTorch by clicking into the following cell and pressing `Shift+Enter`."
      ]
    },
    {
      "cell_type": "code",
      "execution_count": 1,
      "metadata": {
        "id": "5tn_wUlopkon",
        "pycharm": {
          "name": "#%%\n"
        },
        "colab": {
          "base_uri": "https://localhost:8080/"
        },
        "outputId": "a911f63c-f906-4401-a205-0b03683ccc6d"
      },
      "outputs": [
        {
          "output_type": "stream",
          "name": "stdout",
          "text": [
            "Collecting snntorch\n",
            "  Downloading snntorch-0.9.4-py2.py3-none-any.whl.metadata (15 kB)\n",
            "Downloading snntorch-0.9.4-py2.py3-none-any.whl (125 kB)\n",
            "\u001b[?25l   \u001b[90m━━━━━━━━━━━━━━━━━━━━━━━━━━━━━━━━━━━━━━━━\u001b[0m \u001b[32m0.0/125.6 kB\u001b[0m \u001b[31m?\u001b[0m eta \u001b[36m-:--:--\u001b[0m\r\u001b[2K   \u001b[90m━━━━━━━━━━━━━━━━━━━━━━━━━━━━━━━━━━━━━━━━\u001b[0m \u001b[32m125.6/125.6 kB\u001b[0m \u001b[31m4.6 MB/s\u001b[0m eta \u001b[36m0:00:00\u001b[0m\n",
            "\u001b[?25hInstalling collected packages: snntorch\n",
            "Successfully installed snntorch-0.9.4\n"
          ]
        }
      ],
      "source": [
        "!pip install snntorch"
      ]
    },
    {
      "cell_type": "code",
      "execution_count": 2,
      "metadata": {
        "id": "QXZ6Tuqc9Q-l",
        "colab": {
          "base_uri": "https://localhost:8080/"
        },
        "outputId": "b1cdb2cc-523e-478e-e245-699a39043aa1"
      },
      "outputs": [
        {
          "output_type": "stream",
          "name": "stderr",
          "text": [
            "<ipython-input-2-bd886847109b>:4: DeprecationWarning: The module snntorch.backprop will be deprecated in  a future release. Writing out your own training loop will lead to substantially faster performance.\n",
            "  from snntorch import backprop\n"
          ]
        }
      ],
      "source": [
        "# imports\n",
        "import snntorch as snn\n",
        "from snntorch import surrogate\n",
        "from snntorch import backprop\n",
        "from snntorch import functional as SF\n",
        "from snntorch import utils\n",
        "from snntorch import spikeplot as splt\n",
        "\n",
        "import torch\n",
        "import torch.nn as nn\n",
        "from torch.utils.data import DataLoader\n",
        "from torchvision import datasets, transforms\n",
        "import torch.nn.functional as F\n",
        "\n",
        "import matplotlib.pyplot as plt\n",
        "import numpy as np\n",
        "import itertools"
      ]
    },
    {
      "cell_type": "markdown",
      "metadata": {
        "id": "gt2xMbLY9dVE"
      },
      "source": [
        "# 1. Surrogate Gradient Descent"
      ]
    },
    {
      "cell_type": "markdown",
      "metadata": {
        "id": "zJddJWoa0GT6"
      },
      "source": [
        "[Tutorial 5](https://snntorch.readthedocs.io/en/latest/tutorials/index.html) raised the **dead neuron problem**. This arises because of the non-differentiability of spikes:\n",
        "\n",
        "\n",
        "$$S[t] = \\Theta(U[t] - U_{\\rm thr}) \\tag{1}$$\n",
        "$$\\frac{\\partial S}{\\partial U} = \\delta(U - U_{\\rm thr}) \\in \\{0, \\infty\\} \\tag{2}$$\n",
        "\n",
        "where $\\Theta(\\cdot)$ is the Heaviside step function, and $\\delta(\\cdot)$ is the Dirac-Delta function. We previously overcame this using the gradient of the threshold-shifted *ArcTangent* function on the backward pass instead.\n",
        "\n",
        "Other common smoothing functions include the sigmoid function, or the fast sigmoid function. The sigmoidal functions must also be shifted such that they are centered at the threshold $U_{\\rm thr}$. Defining  the overdrive of the membrane potential as $U_{OD} = U - U_{\\rm thr}$:\n",
        "\n",
        "$$\\tilde{S} = \\frac{U_{OD}}{1+k|U_{OD}|} \\tag{3}$$\n",
        "$$\\frac{\\partial \\tilde{S}}{\\partial U} = \\frac{1}{(k|U_{OD}|+1)^2}\\tag{4}$$\n",
        "\n",
        "where $k$ modulates how smooth the surrogate function is, and is treated as a hyperparameter. As $k$ increases, the approximation converges towards the original derivative in $(2)$:  \n",
        "\n",
        "$$\\frac{\\partial \\tilde{S}}{\\partial U} \\Bigg|_{k \\rightarrow \\infty} = \\delta(U-U_{\\rm thr})$$\n",
        "\n",
        "\n",
        "<center>\n",
        "<img src='https://github.com/jeshraghian/snntorch/blob/master/docs/_static/img/examples/tutorial6/surrogate.png?raw=true' width=\"800\">\n",
        "</center>\n",
        "\n",
        "To summarize:\n",
        "\n",
        "* **Forward Pass**\n",
        "  - Determine $S$ using the shifted Heaviside function in $(1)$\n",
        "  - Store $U$ for later use during the backward pass\n",
        "* **Backward Pass**\n",
        "  - Pass $U$ into $(4)$ to calculate the derivative term\n",
        "\n",
        "In the same way the *ArcTangent* approach was used in [Tutorial 5](https://snntorch.readthedocs.io/en/latest/tutorials/index.html),\n",
        "the gradient of the fast sigmoid function can override the Dirac-Delta function in a Leaky Integrate-and-Fire\n",
        "(LIF) neuron model:"
      ]
    },
    {
      "cell_type": "code",
      "execution_count": 3,
      "metadata": {
        "id": "5lqpuT--bZmJ"
      },
      "outputs": [],
      "source": [
        "# Leaky neuron model, overriding the backward pass with a custom function\n",
        "class LeakySigmoidSurrogate(nn.Module):\n",
        "  def __init__(self, beta, threshold=1.0, k=25):\n",
        "\n",
        "      # Leaky_Surrogate is defined in the previous tutorial and not used here\n",
        "      super(Leaky_Surrogate, self).__init__()\n",
        "\n",
        "      # initialize decay rate beta and threshold\n",
        "      self.beta = beta\n",
        "      self.threshold = threshold\n",
        "      self.surrogate_func = self.FastSigmoid.apply\n",
        "\n",
        "  # the forward function is called each time we call Leaky\n",
        "  def forward(self, input_, mem):\n",
        "    spk = self.surrogate_func((mem-self.threshold))  # call the Heaviside function\n",
        "    reset = (spk - self.threshold).detach()\n",
        "    mem = self.beta * mem + input_ - reset\n",
        "    return spk, mem\n",
        "\n",
        "  # Forward pass: Heaviside function\n",
        "  # Backward pass: Override Dirac Delta with gradient of fast sigmoid\n",
        "  @staticmethod\n",
        "  class FastSigmoid(torch.autograd.Function):\n",
        "    @staticmethod\n",
        "    def forward(ctx, mem, k=25):\n",
        "        ctx.save_for_backward(mem) # store the membrane potential for use in the backward pass\n",
        "        ctx.k = k\n",
        "        out = (mem > 0).float() # Heaviside on the forward pass: Eq(1)\n",
        "        return out\n",
        "\n",
        "    @staticmethod\n",
        "    def backward(ctx, grad_output):\n",
        "        (mem,) = ctx.saved_tensors  # retrieve membrane potential\n",
        "        grad_input = grad_output.clone()\n",
        "        grad = grad_input / (ctx.k * torch.abs(mem) + 1.0) ** 2  # gradient of fast sigmoid on backward pass: Eq(4)\n",
        "        return grad, None"
      ]
    },
    {
      "cell_type": "markdown",
      "metadata": {
        "id": "4aQvFG7ajpzU"
      },
      "source": [
        "Better yet, all of that can be condensed by using the built-in module `snn.surrogate` from snnTorch, where $k$ from $(4)$ is denoted `slope`. The surrogate gradient is passed into `spike_grad` as an argument:"
      ]
    },
    {
      "cell_type": "code",
      "execution_count": 4,
      "metadata": {
        "id": "2dCWD_qajyLw"
      },
      "outputs": [],
      "source": [
        "spike_grad = surrogate.fast_sigmoid(slope=25)\n",
        "beta = 0.5\n",
        "\n",
        "lif1 = snn.Leaky(beta=beta, spike_grad=spike_grad)"
      ]
    },
    {
      "cell_type": "markdown",
      "metadata": {
        "id": "Ffn7D6omkj5r"
      },
      "source": [
        "To explore the other surrogate gradient functions available, [take a look at the documentation here.](https://snntorch.readthedocs.io/en/latest/snntorch.surrogate.html)"
      ]
    },
    {
      "cell_type": "markdown",
      "metadata": {
        "id": "Wgzf83HE2BeB"
      },
      "source": [
        "# 2. Setting up the CSNN\n",
        "## 2.1 DataLoaders"
      ]
    },
    {
      "cell_type": "code",
      "execution_count": 5,
      "metadata": {
        "id": "pxO32dntlOB2"
      },
      "outputs": [],
      "source": [
        "# dataloader arguments\n",
        "batch_size = 128\n",
        "data_path='/tmp/data/mnist'\n",
        "\n",
        "dtype = torch.float\n",
        "device = torch.device(\"cuda\") if torch.cuda.is_available() else torch.device(\"cpu\")"
      ]
    },
    {
      "cell_type": "code",
      "execution_count": 6,
      "metadata": {
        "id": "pE7eGTnulSBA",
        "colab": {
          "base_uri": "https://localhost:8080/"
        },
        "outputId": "63fe5172-e8ea-4cdb-b542-87da7f84db04"
      },
      "outputs": [
        {
          "output_type": "stream",
          "name": "stderr",
          "text": [
            "100%|██████████| 9.91M/9.91M [00:00<00:00, 16.3MB/s]\n",
            "100%|██████████| 28.9k/28.9k [00:00<00:00, 498kB/s]\n",
            "100%|██████████| 1.65M/1.65M [00:00<00:00, 4.49MB/s]\n",
            "100%|██████████| 4.54k/4.54k [00:00<00:00, 10.3MB/s]\n"
          ]
        }
      ],
      "source": [
        "# Define a transform\n",
        "transform = transforms.Compose([\n",
        "            transforms.Resize((28, 28)),\n",
        "            transforms.Grayscale(),\n",
        "            transforms.ToTensor(),\n",
        "            transforms.Normalize((0,), (1,))])\n",
        "\n",
        "mnist_train = datasets.MNIST(data_path, train=True, download=True, transform=transform)\n",
        "mnist_test = datasets.MNIST(data_path, train=False, download=True, transform=transform)\n",
        "\n",
        "# Create DataLoaders\n",
        "train_loader = DataLoader(mnist_train, batch_size=batch_size, shuffle=True, drop_last=True)\n",
        "test_loader = DataLoader(mnist_test, batch_size=batch_size, shuffle=True, drop_last=True)"
      ]
    },
    {
      "cell_type": "markdown",
      "metadata": {
        "id": "6v8fBXrVlY3f"
      },
      "source": [
        "## 2.2 Define the Network\n",
        "\n",
        "The convolutional network architecture to be used is: 12C5-MP2-64C5-MP2-1024FC10\n",
        "\n",
        "- 12C5 is a 5$\\times$5 convolutional kernel with 12 filters\n",
        "- MP2 is a 2$\\times$2 max-pooling function\n",
        "- 1024FC10 is a fully-connected layer that maps 1,024 neurons to 10 outputs"
      ]
    },
    {
      "cell_type": "code",
      "execution_count": 7,
      "metadata": {
        "id": "foos_NlopDrb"
      },
      "outputs": [],
      "source": [
        "# neuron and simulation parameters\n",
        "spike_grad = surrogate.fast_sigmoid(slope=25)\n",
        "beta = 0.5\n",
        "num_steps = 50"
      ]
    },
    {
      "cell_type": "code",
      "execution_count": 8,
      "metadata": {
        "id": "X4sd8PDSlGZb"
      },
      "outputs": [],
      "source": [
        "# Define Network\n",
        "class Net(nn.Module):\n",
        "    def __init__(self):\n",
        "        super().__init__()\n",
        "\n",
        "        # Initialize layers\n",
        "        self.conv1 = nn.Conv2d(1, 12, 5)\n",
        "        self.lif1 = snn.Leaky(beta=beta, spike_grad=spike_grad)\n",
        "        self.conv2 = nn.Conv2d(12, 64, 5)\n",
        "        self.lif2 = snn.Leaky(beta=beta, spike_grad=spike_grad)\n",
        "        self.fc1 = nn.Linear(64*4*4, 10)\n",
        "        self.lif3 = snn.Leaky(beta=beta, spike_grad=spike_grad)\n",
        "\n",
        "    def forward(self, x):\n",
        "\n",
        "        # Initialize hidden states and outputs at t=0\n",
        "        mem1 = self.lif1.init_leaky()\n",
        "        mem2 = self.lif2.init_leaky()\n",
        "        mem3 = self.lif3.init_leaky()\n",
        "\n",
        "        cur1 = F.max_pool2d(self.conv1(x), 2)\n",
        "        spk1, mem1 = self.lif1(cur1, mem1)\n",
        "\n",
        "        cur2 = F.max_pool2d(self.conv2(spk1), 2)\n",
        "        spk2, mem2 = self.lif2(cur2, mem2)\n",
        "\n",
        "        cur3 = self.fc1(spk2.view(batch_size, -1))\n",
        "        spk3, mem3 = self.lif3(cur3, mem3)\n",
        "        return spk3, mem3"
      ]
    },
    {
      "cell_type": "markdown",
      "metadata": {
        "id": "HVn3aYAUnWqH"
      },
      "source": [
        "In the previous tutorial, the network was wrapped inside of a class, as shown above.\n",
        "With increasing network complexity, this adds a lot of boilerplate code that we might wish to avoid. Alternatively, the `nn.Sequential` method can be used instead.\n",
        "\n",
        "> Note: the following code-block simulates over one single time-step, and requires a separate for-loop over time."
      ]
    },
    {
      "cell_type": "code",
      "execution_count": 9,
      "metadata": {
        "id": "AoYBY89angvp"
      },
      "outputs": [],
      "source": [
        "#  Initialize Network\n",
        "net = nn.Sequential(nn.Conv2d(1, 12, 5),\n",
        "                    nn.MaxPool2d(2),\n",
        "                    snn.Leaky(beta=beta, spike_grad=spike_grad, init_hidden=True),\n",
        "                    nn.Conv2d(12, 64, 5),\n",
        "                    nn.MaxPool2d(2),\n",
        "                    snn.Leaky(beta=beta, spike_grad=spike_grad, init_hidden=True),\n",
        "                    nn.Flatten(),\n",
        "                    nn.Linear(64*4*4, 10),\n",
        "                    snn.Leaky(beta=beta, spike_grad=spike_grad, init_hidden=True, output=True)\n",
        "                    ).to(device)"
      ]
    },
    {
      "cell_type": "markdown",
      "metadata": {
        "id": "7Qgw1dRmpOlo"
      },
      "source": [
        "\n",
        "The `init_hidden` argument initializes the hidden states of the neuron (here, membrane potential). This takes place in the background as an instance variable.\n",
        "If `init_hidden` is activated, the membrane potential is not explicitly returned to the user, ensuring only the output spikes are sequentially passed through the layers wrapped in `nn.Sequential`.\n",
        "\n",
        "To train a model using the final layer's membrane potential, set the argument `output=True`.\n",
        "This enables the final layer to return both the spike and membrane potential response of the neuron."
      ]
    },
    {
      "cell_type": "markdown",
      "metadata": {
        "id": "A-bCSQmBstvd"
      },
      "source": [
        "## 2.3 Forward-Pass\n",
        "A forward pass across a simulation duration of `num_steps` looks like this:"
      ]
    },
    {
      "cell_type": "code",
      "execution_count": 10,
      "metadata": {
        "id": "IxPPMND-pMxE"
      },
      "outputs": [],
      "source": [
        "data, targets = next(iter(train_loader))\n",
        "data = data.to(device)\n",
        "targets = targets.to(device)\n",
        "\n",
        "for step in range(num_steps):\n",
        "    spk_out, mem_out = net(data)"
      ]
    },
    {
      "cell_type": "markdown",
      "metadata": {
        "id": "C3PxtCobuH_e"
      },
      "source": [
        "Wrap that in a function, recording the membrane potential and spike response over time:"
      ]
    },
    {
      "cell_type": "code",
      "execution_count": 11,
      "metadata": {
        "id": "ykdnD3tRuHcs"
      },
      "outputs": [],
      "source": [
        "def forward_pass(net, num_steps, data):\n",
        "  mem_rec = []\n",
        "  spk_rec = []\n",
        "  utils.reset(net)  # resets hidden states for all LIF neurons in net\n",
        "\n",
        "  for step in range(num_steps):\n",
        "      spk_out, mem_out = net(data)\n",
        "      spk_rec.append(spk_out)\n",
        "      mem_rec.append(mem_out)\n",
        "\n",
        "  return torch.stack(spk_rec), torch.stack(mem_rec)"
      ]
    },
    {
      "cell_type": "code",
      "execution_count": 12,
      "metadata": {
        "id": "unJrx3pXcXii"
      },
      "outputs": [],
      "source": [
        "spk_rec, mem_rec = forward_pass(net, num_steps, data)"
      ]
    },
    {
      "cell_type": "markdown",
      "metadata": {
        "id": "zqJdfllYbc16"
      },
      "source": [
        "# 3. Training Loop"
      ]
    },
    {
      "cell_type": "markdown",
      "metadata": {
        "id": "x-kquOWLY1Jo"
      },
      "source": [
        "## 3.1 Loss Using snn.Functional"
      ]
    },
    {
      "cell_type": "markdown",
      "metadata": {
        "id": "MlA56BgOYq1D"
      },
      "source": [
        "In the previous tutorial, the Cross Entropy Loss between the membrane potential of the output neurons and the target was used to train the network.\n",
        "This time, the total number of spikes from each neuron will be used to calculate the Cross Entropy instead.\n",
        "\n",
        "A variety of loss functions are included in the `snn.functional` module, which is analogous to `torch.nn.functional` in PyTorch.\n",
        "These implement a mix of cross entropy and mean square error losses, are applied to spikes and/or membrane potential, to train a rate or latency-coded network.\n",
        "\n",
        "The approach below applies the cross entropy loss to the output spike count in order train a rate-coded network:"
      ]
    },
    {
      "cell_type": "code",
      "execution_count": 13,
      "metadata": {
        "id": "UZ2BM6d6a11l"
      },
      "outputs": [],
      "source": [
        "# already imported snntorch.functional as SF\n",
        "loss_fn = SF.ce_rate_loss()"
      ]
    },
    {
      "cell_type": "markdown",
      "metadata": {
        "id": "q39HCIeOa4fC"
      },
      "source": [
        "The recordings of the spike are passed as the first argument to `loss_fn`, and the target neuron index as the second argument to generate a loss. [The documentation provides further information and exmaples.](https://snntorch.readthedocs.io/en/latest/snntorch.functional.html#snntorch.functional.ce_rate_loss)"
      ]
    },
    {
      "cell_type": "code",
      "execution_count": 14,
      "metadata": {
        "id": "xEVzMvujcjsE",
        "colab": {
          "base_uri": "https://localhost:8080/"
        },
        "outputId": "56c7d7ee-b3ec-4a61-c289-b85991209127"
      },
      "outputs": [
        {
          "output_type": "stream",
          "name": "stdout",
          "text": [
            "The loss from an untrained network is 2.303\n"
          ]
        }
      ],
      "source": [
        "loss_val = loss_fn(spk_rec, targets)\n",
        "\n",
        "print(f\"The loss from an untrained network is {loss_val.item():.3f}\")"
      ]
    },
    {
      "cell_type": "markdown",
      "metadata": {
        "id": "HS_zeb5mbqjw"
      },
      "source": [
        "## 3.2 Accuracy Using snn.Functional\n",
        "The `SF.accuracy_rate()` function works similarly, in that the predicted output spikes and actual targets are supplied as arguments. `accuracy_rate` assumes a rate code is used to interpret the output by checking if the index of the neuron with the highest spike count matches the target index."
      ]
    },
    {
      "cell_type": "code",
      "execution_count": 15,
      "metadata": {
        "id": "yq7_rly0c9b4",
        "colab": {
          "base_uri": "https://localhost:8080/"
        },
        "outputId": "2e4c9239-75c9-4125-b03d-0b112ceadbd7"
      },
      "outputs": [
        {
          "output_type": "stream",
          "name": "stdout",
          "text": [
            "The accuracy of a single batch using an untrained network is 13.281%\n"
          ]
        }
      ],
      "source": [
        "acc = SF.accuracy_rate(spk_rec, targets)\n",
        "\n",
        "print(f\"The accuracy of a single batch using an untrained network is {acc*100:.3f}%\")"
      ]
    },
    {
      "cell_type": "markdown",
      "metadata": {
        "id": "r4Z6bnqCdL50"
      },
      "source": [
        "As the above function only returns the accuracy of a single batch of data, the following function returns the accuracy on the entire DataLoader object:"
      ]
    },
    {
      "cell_type": "code",
      "execution_count": 16,
      "metadata": {
        "id": "IqxDKFvrdXuF"
      },
      "outputs": [],
      "source": [
        "def batch_accuracy(train_loader, net, num_steps):\n",
        "  with torch.no_grad():\n",
        "    total = 0\n",
        "    acc = 0\n",
        "    net.eval()\n",
        "\n",
        "    train_loader = iter(train_loader)\n",
        "    for data, targets in train_loader:\n",
        "      data = data.to(device)\n",
        "      targets = targets.to(device)\n",
        "      spk_rec, _ = forward_pass(net, num_steps, data)\n",
        "\n",
        "      acc += SF.accuracy_rate(spk_rec, targets) * spk_rec.size(1)\n",
        "      total += spk_rec.size(1)\n",
        "\n",
        "  return acc/total"
      ]
    },
    {
      "cell_type": "code",
      "execution_count": 17,
      "metadata": {
        "id": "_u43hKAvefWM",
        "colab": {
          "base_uri": "https://localhost:8080/"
        },
        "outputId": "bbfa9acd-8cf9-445c-f979-cfbaa8451258"
      },
      "outputs": [
        {
          "output_type": "stream",
          "name": "stdout",
          "text": [
            "The total accuracy on the test set is: 9.81%\n"
          ]
        }
      ],
      "source": [
        "test_acc = batch_accuracy(test_loader, net, num_steps)\n",
        "\n",
        "print(f\"The total accuracy on the test set is: {test_acc * 100:.2f}%\")"
      ]
    },
    {
      "cell_type": "markdown",
      "metadata": {
        "id": "F1pzWXlsYoIu"
      },
      "source": [
        "## 3.3 Training Loop"
      ]
    },
    {
      "cell_type": "markdown",
      "metadata": {
        "id": "KAUDYl3gf0G-"
      },
      "source": [
        "The following training loop is qualitatively similar to the previous tutorial."
      ]
    },
    {
      "cell_type": "code",
      "execution_count": 18,
      "metadata": {
        "id": "y_VQ9es-gSO3",
        "colab": {
          "base_uri": "https://localhost:8080/"
        },
        "outputId": "0be69fbc-8ced-4996-8f03-2b00aa12daac"
      },
      "outputs": [
        {
          "output_type": "stream",
          "name": "stdout",
          "text": [
            "Iteration 0, Test Acc: 9.81%\n",
            "\n",
            "Iteration 50, Test Acc: 92.13%\n",
            "\n",
            "Iteration 100, Test Acc: 95.31%\n",
            "\n",
            "Iteration 150, Test Acc: 96.46%\n",
            "\n",
            "Iteration 200, Test Acc: 96.97%\n",
            "\n",
            "Iteration 250, Test Acc: 96.67%\n",
            "\n",
            "Iteration 300, Test Acc: 97.22%\n",
            "\n",
            "Iteration 350, Test Acc: 96.61%\n",
            "\n",
            "Iteration 400, Test Acc: 95.62%\n",
            "\n",
            "Iteration 450, Test Acc: 96.73%\n",
            "\n"
          ]
        }
      ],
      "source": [
        "optimizer = torch.optim.Adam(net.parameters(), lr=1e-2, betas=(0.9, 0.999))\n",
        "num_epochs = 1\n",
        "loss_hist = []\n",
        "test_acc_hist = []\n",
        "counter = 0\n",
        "\n",
        "# Outer training loop\n",
        "for epoch in range(num_epochs):\n",
        "\n",
        "    # Training loop\n",
        "    for data, targets in iter(train_loader):\n",
        "        data = data.to(device)\n",
        "        targets = targets.to(device)\n",
        "\n",
        "        # forward pass\n",
        "        net.train()\n",
        "        spk_rec, _ = forward_pass(net, num_steps, data)\n",
        "\n",
        "        # initialize the loss & sum over time\n",
        "        loss_val = loss_fn(spk_rec, targets)\n",
        "\n",
        "        # Gradient calculation + weight update\n",
        "        optimizer.zero_grad()\n",
        "        loss_val.backward()\n",
        "        optimizer.step()\n",
        "\n",
        "        # Store loss history for future plotting\n",
        "        loss_hist.append(loss_val.item())\n",
        "\n",
        "        # Test set\n",
        "        if counter % 50 == 0:\n",
        "          with torch.no_grad():\n",
        "              net.eval()\n",
        "\n",
        "              # Test set forward pass\n",
        "              test_acc = batch_accuracy(test_loader, net, num_steps)\n",
        "              print(f\"Iteration {counter}, Test Acc: {test_acc * 100:.2f}%\\n\")\n",
        "              test_acc_hist.append(test_acc.item())\n",
        "\n",
        "        counter += 1"
      ]
    },
    {
      "cell_type": "markdown",
      "metadata": {
        "id": "TjRPDFWxj2eS"
      },
      "source": [
        "Despite having selected some fairly generic values and architectures, the test set accuracy should be fairly competitive given the brief training run!"
      ]
    },
    {
      "cell_type": "markdown",
      "metadata": {
        "collapsed": false,
        "id": "HxU7P7xFpko3",
        "pycharm": {
          "name": "#%% md\n"
        }
      },
      "source": [
        "# 4. Results\n",
        "## 4.1 Plot Test Accuracy"
      ]
    },
    {
      "cell_type": "code",
      "execution_count": 19,
      "metadata": {
        "id": "_Pk_EScnpkpj",
        "pycharm": {
          "name": "#%%\n"
        },
        "colab": {
          "base_uri": "https://localhost:8080/",
          "height": 472
        },
        "outputId": "f3288005-b3ae-41f4-fe86-da1cba33e933"
      },
      "outputs": [
        {
          "output_type": "display_data",
          "data": {
            "text/plain": [
              "<Figure size 640x480 with 1 Axes>"
            ],
            "image/png": "[encoded data removed]"
          },
          "metadata": {}
        }
      ],
      "source": [
        "# Plot Loss\n",
        "fig = plt.figure(facecolor=\"w\")\n",
        "plt.plot(test_acc_hist)\n",
        "plt.title(\"Test Set Accuracy\")\n",
        "plt.xlabel(\"Epoch\")\n",
        "plt.ylabel(\"Accuracy\")\n",
        "plt.show()"
      ]
    },
    {
      "cell_type": "markdown",
      "metadata": {
        "id": "nYFamUJLkVY3"
      },
      "source": [
        "## 4.2 Spike Counter"
      ]
    },
    {
      "cell_type": "markdown",
      "metadata": {
        "id": "MDE3ms9ulo-t"
      },
      "source": [
        "Run a forward pass on a batch of data to obtain spike and membrane readings."
      ]
    },
    {
      "cell_type": "code",
      "execution_count": 20,
      "metadata": {
        "id": "dqIjaw1kk4-6"
      },
      "outputs": [],
      "source": [
        "spk_rec, mem_rec = forward_pass(net, num_steps, data)"
      ]
    },
    {
      "cell_type": "markdown",
      "metadata": {
        "id": "n4QiJx2HlkMH"
      },
      "source": [
        "Changing `idx` allows you to index into various samples from the simulated minibatch. Use `splt.spike_count` to explore the spiking behaviour of a few different samples!\n",
        "\n",
        "> Note: if you are running the notebook locally on your desktop, please uncomment the line below and modify the path to your ffmpeg.exe\n",
        "\n"
      ]
    },
    {
      "cell_type": "code",
      "execution_count": 33,
      "metadata": {
        "id": "4HcwxfC6kfy0",
        "colab": {
          "base_uri": "https://localhost:8080/",
          "height": 925
        },
        "outputId": "87ba4d7b-ada6-4a36-e38e-19ff87f21b3c"
      },
      "outputs": [
        {
          "output_type": "stream",
          "name": "stdout",
          "text": [
            "The target label is: 0\n",
            "torch.Size([1, 28, 28])\n"
          ]
        },
        {
          "output_type": "execute_result",
          "data": {
            "text/plain": [
              "<IPython.core.display.HTML object>"
            ],
            "text/html": [
              "<video width=\"640\" height=\"480\" controls autoplay loop>\n",
              "  <source type=\"video/mp4\" src=\"data:video/mp4;base64,AAAAIGZ0eXBNNFYgAAACAE00ViBpc29taXNvMmF2YzEAAAAIZnJlZQAAEkBtZGF0AAACrgYF//+q\n",
              "3EXpvebZSLeWLNgg2SPu73gyNjQgLSBjb3JlIDE2MyByMzA2MCA1ZGI2YWE2IC0gSC4yNjQvTVBF\n",
              "Ry00IEFWQyBjb2RlYyAtIENvcHlsZWZ0IDIwMDMtMjAyMSAtIGh0dHA6Ly93d3cudmlkZW9sYW4u\n",
              "b3JnL3gyNjQuaHRtbCAtIG9wdGlvbnM6IGNhYmFjPTEgcmVmPTMgZGVibG9jaz0xOjA6MCBhbmFs\n",
              "eXNlPTB4MzoweDExMyBtZT1oZXggc3VibWU9NyBwc3k9MSBwc3lfcmQ9MS4wMDowLjAwIG1peGVk\n",
              "X3JlZj0xIG1lX3JhbmdlPTE2IGNocm9tYV9tZT0xIHRyZWxsaXM9MSA4eDhkY3Q9MSBjcW09MCBk\n",
              "ZWFkem9uZT0yMSwxMSBmYXN0X3Bza2lwPTEgY2hyb21hX3FwX29mZnNldD0tMiB0aHJlYWRzPTMg\n",
              "bG9va2FoZWFkX3RocmVhZHM9MSBzbGljZWRfdGhyZWFkcz0wIG5yPTAgZGVjaW1hdGU9MSBpbnRl\n",
              "cmxhY2VkPTAgYmx1cmF5X2NvbXBhdD0wIGNvbnN0cmFpbmVkX2ludHJhPTAgYmZyYW1lcz0zIGJf\n",
              "cHlyYW1pZD0yIGJfYWRhcHQ9MSBiX2JpYXM9MCBkaXJlY3Q9MSB3ZWlnaHRiPTEgb3Blbl9nb3A9\n",
              "MCB3ZWlnaHRwPTIga2V5aW50PTI1MCBrZXlpbnRfbWluPTI1IHNjZW5lY3V0PTQwIGludHJhX3Jl\n",
              "ZnJlc2g9MCByY19sb29rYWhlYWQ9NDAgcmM9Y3JmIG1idHJlZT0xIGNyZj0yMy4wIHFjb21wPTAu\n",
              "NjAgcXBtaW49MCBxcG1heD02OSBxcHN0ZXA9NCBpcF9yYXRpbz0xLjQwIGFxPTE6MS4wMACAAAAP\n",
              "gmWIhAAr//72c3wKa0czlS4Fdvdmo+XQkuX7EGD60AAAAwAAAwAAEA/S3vXMYlvlIAAACdgCSgp4\n",
              "GxWxACzZd5DeFJXK7sGptl8fUAWinq60DLLP3Yl6Li5/gHeVoJvKDX391op6wOx6oQUnlua7HnX+\n",
              "3MIwMEiO+g030T5Uf02L+/bRpKCwARTpP0iCFmKUyFC+UrJFTcouhgdI0Z/VXkiK/Tl9Imo/ujzr\n",
              "2uBPYN1TMnw4MZHyL+EM5uGO5TOoeTfmZTymCTYnXmtqTiT75EwPnzfBg6pI01xu9dzzhCHkVcXw\n",
              "ROsbflqIKLOxUDZ4Z+YV/HFMEK/iS+eZ90+XVJBESpOF37frMKxc3GraHIqTtX5UiLX3QqP7JYaS\n",
              "se0Fk0iatdabOrZ2Im2u9cSm+75HsfxdJAbByQZhcH5iGOqWMHO+GyaUiEl6bK19OvUcXkHeBfxj\n",
              "RmUXCdPP7FAn9dqmbyG2zT1dAEAMA4K36+qhlxtmTGB7ifonyWjKsVeqUHgpS/1YwbjP6JolO+MR\n",
              "5B/t7MKtsaElWFuyznOfaeTl5TXrGNS3HTV9GdN7OSlgRpMNU+kEqOU3DqA+1htsOFGyIMBr3e5u\n",
              "Hb5c4p3pT4OeBtDUeSxcQSsoT2AQI+fTX5IqtDnk32N55VHcU4VJ4Cufa9+n4pBm5PeD2vYFNx8h\n",
              "CXsgJqux/zmj/LN0u4f2OWnED8F2wduU5tZuY+cVQW6y5sX29PURCNwCmYsUae9hgofIDToenh6F\n",
              "LCZT+UcyoJ9b55OtZLpfuDui8QEaekVpgU8G8kcCf2RIjoFWQH2rwnyNpD38GMSXYmrzEMOhONvV\n",
              "cw5iPyBMgWpvKK2ByB0F2aK9zfodXTB6D8NRBLcGfsz85h/jmJ0F65RIopzt32rUCxriHPCycOza\n",
              "cufkOzBGyZCpC/g9X6eZTG5Y+QThNpZ9AmYkSRsLo0ynrHkrJw56va4Ujg/HZpMZkzkHOWVq4xCt\n",
              "n7hKow/U8J6ee2LoCYnpis1Nb4Yr6f3raUY5/QUPt291EYeqdNR+oTKhY1bqzd5UW0MjpCTFWHhd\n",
              "UUMxeO+7YI6L9DtxV4DD4cUXF6mecwGy/kn01PkBOEVkrDY2HkgacuF/gwvhewM4jZupq7kszk/D\n",
              "kCQYZu2nbVvjpOgAbGNv/MMIlbTUUUKSOt9psB5IYVfkSPM7+xWhvgKm15DgQM3QJ5T3aOJqhxWL\n",
              "St07loSt45QruzQ3VGjg7SRGDSvXaNQPgC+QBLjjZxEAM9Ri40JwI5H4lS0RiNj6yN1t826PdJ6X\n",
              "20bv5829iA9BMBXNHswjJEJRNJtSOMzKxoUr/6d3+/IUDiNghaftHCBDpjyxujHCb242cQtyeHYR\n",
              "XZLV8c70dsUNlWcF7yeirZ9ZSY2drGz2rTSsMCiiIJjOBPc6rDiA7i1KfyUCsHGDqY+91mEgLtFH\n",
              "jQbg5h1531tzzWhBuBvJumpbKkmB7LkorPjrzvkQ7VILr7ePHxSeTLJdoBdYSD2UKoQaQ+eHBwE/\n",
              "btbkG2hcK/R/E/MPMR0CjeE2OqizUsNh2Aidtp8ok9ES0ysA1Wgx3/KvHeALbAFNoQGaG/KTx59B\n",
              "3XwP0Qur2zfy2Pb3MrKgioslHXPDJw4cvOtuhYQ767JlcuFg9eSs4iOO8mRkgCqUovA+7//gZ7Li\n",
              "ysAZrXthXevUbPRWWyP5mZhA5KF7ktDOA2KmTmVfXlSURjgcA2xdPXgJ6hAtj1+/1ZAprG5f3h7U\n",
              "WSuvouItvd1quI0+h0eRBUdQJlM8azKfOyAov8f34Y0q2MMgAYo3NZrJb0k4DwA+lqgGI2H+uFaX\n",
              "0izuia8540qsAH1UJjozjEOxV3msz18BaNs5s8hd+gqb9z+vY5nqzmDS/P5cA88PiFOpC3+pNclf\n",
              "DGheRxx5xfuMckO9ECvrc+/+a6CWRJqEOc9EBulc+x7Ikq84jvSDY8OXnpyXkb+oEBQbXx/bY/Q9\n",
              "SlFrZi7KFKbiU6x2sj1uzsnOO/KY+85davNHtwgyhD1n3eglzqYdmdhHZXcKa4YCjwg4rDvRN+BQ\n",
              "wghgJgNiajjqaaIm6eBcSEMIYqcNMG815sYoWTm04ygqEFI8I1D5SIZ/+YWxtX4YZmg++6G9hlqF\n",
              "IGnBmAhrNraTK9K0+cNG3l/xcDU68HSHMxmWFKIeriom0sN7g9cNpFBOOoMUrUeBicmbWG3uTbww\n",
              "4vCIOdUKS+2MmAzsM4uy3HSjtaziRzYREwsOOObCz406ezrxpDyXBYs5bvhMzm3O/7WGP2ujFciE\n",
              "+/XxYpiaQCRZYMWKkQ9vniMm0oaHxg9JxCZkDS/cw122c39zc362lw5uo59K5TP13ztjLYfkePjQ\n",
              "H96Vo+eb+5QApBJjr0KrDOBkVhcmC8+u5ort7xfoSR1WppcFCdrvGplqxq5g2+LaNROPOtBvWiEj\n",
              "Ncw6H45jNk1VFscM8y6i8+7LOFx8JT/S2Bo24B8luaVManp3D19ToKPmLInEryj8mURUIrxuReoJ\n",
              "lU2aDesR2UcDzZ1RpO6bnBA4oZYP1SZ4FDryLL8vyhXr95BxwSnT0K6xTeHzzFPBahAQAA3xsF+U\n",
              "twspsSE1k6zm+PEfZktwEkdOogTs66ruf0Wc7ow7tslv6nn1JYYovVnDOFNwEf/V97dbCVZPz7Pr\n",
              "wWKpxsD4+Xk+4/y2vlArMNYsA99I2aFijK5bJsvLagXkRV8LMM76f2mdOaFSoU9JwohQvJyg80Un\n",
              "dfGfqbNTDKyxet7VKiWqy/fIa05E6loV1iiEzHaZ27RiuSyvwVnRWnAelp8nlFpYPgs3MbQsGloi\n",
              "rgKl7iiP4dvlEcgKePAQcMDVxmXNnOKKYEdNBmO3WrXmX6n8gE7+PMEQyB56amsXxode67vMbCGl\n",
              "4FdhD1IUWlBAqVF4nPVuppLasKLj4H2fHhwsskAb8bInj0MGo/J/Wj7K2aafB7MvF11A1DBO9/rQ\n",
              "Se+ytEV93eH0hjWXRY4/hzHdAHmmBmvrS6ZgZJJ18R89aK9S2h1q0WVtIOEwPTG/fsDIBQmTxYRR\n",
              "0tUyjwwp0kb8Ni32MylTUmQPL18fVhtwdk3Blb6OEuyJ70k17dn1FbsYizwe2TAPLEZKdAcLjOm2\n",
              "82q3v1eCC9Z7B+QKo7yhjMzHk0vNtb+o70SuBIirN/iyNXiV6lOrIlMmCiXdVr9F9BkadMIlyfKd\n",
              "taJSuBB8aU1rVLwQGHEa+HHKUxvvXVtVUb/35R+s/6+zcf36hxwIiGPFcfJBhxHWfy97F5/tf/Ff\n",
              "/EB0F6Ks72p/RoQ7YynyjVE+PV+6kgp/E9YWLEb29wMsNj/eYViKVVhzwcak/0FWg1Vfzym+2lBX\n",
              "FbHw0FzE6/+j+zGxDm94fmEDZ5tvIayOU0+mCbdB+smsxaDQy1FQAXjCV32dXEgamKvLIu7pmqTx\n",
              "IPmKvMfK4qYdtAPNO5ETD0l1Py9by82MWn2ayEGoSmlmFmBj2zN+aP1lvPwzdcoshqJp3Ahj+SfZ\n",
              "/P+mbvi/0809PDCKsRx453fZRb/mXxnVKyzO6/eJqbEhPnswXeUDXIKJpu32sXt6xJDsq5g8+VX2\n",
              "NP7AiZUnEOlKrmhy2hzpjBgd77kGuLdKJdpqE1wQUm9y65v7efNelpN+0saelso2l9kUGkfHOrZu\n",
              "jB9LnLGixB9n8cyk0V3XjmN7t3GpJNIAxWjlgRwKaj0Lmhw/sfowkAFTxvbh380I79xmM6Iy9r2w\n",
              "19PpWv0ERVKFAx+QUnDbtX9AZAiB9ApzGrNIQZHoCxjnvXXP2O9+Mr/XRk/GdI4wtM9TjPz3Fa15\n",
              "sGB2za1G+4AAF0rn6FubBaon86EjoQWnf4bwZOTOrYjGCEbtryBUnPCYeGLaTJ2iFjhc+c6WntJc\n",
              "E09FckxDAH2Mf/nlYZ8yqj+QO1Aibzqw+cmGFYmZaDOcRkIj8eZCmS9lrhJbj5no56PtmFSb28uG\n",
              "S4D1LM2u+ncrFKk4bnMHHWv9L0rALD772qKdWGvyP7sFryvXh7HV86tggEt2SfWsafPhVQ43PMFi\n",
              "Ad3x2YsZoX7VcLRXuefl4rYqjL7MDwQ8Hgh1YtPrKgbwiBsI1YSscD5Q1X3QsIFDrsm343AKAetv\n",
              "TXEZo2wJx8qQSPkfco+W6gOq4vqCag+EoCLAp269/eKZTDZn045lFReqin019Nte3Ymlp0KRbFpB\n",
              "2egkBi12bOvPeK3koA+Wa6PQ2AmYR9pvnb6+sND+iufzZeIZHFItlvBsjzTDIIMMv8n3BhYe4rsE\n",
              "C5hYaP1DU3Vljpym+yo6mQmNuiOlZyJMXdwRkahUUNcSQLXhwlKqgN4XUpf669/52mE0MweSwlbV\n",
              "SGyfZvhAAABVUv0DATLZ2kgfo/4TwyTXjQPgZ/0N1AEBG/Wdjl+C2aNDA26Um4icd62rNMvAg7Hn\n",
              "P74hmxkObCt9BU4lP8JyFi0G/qWUn2qKQwBua4yQAD0Ctj1Wyj3Y1p2RGdw36azLQm7p057pE36g\n",
              "EDDKw6lsRNopdU737QrigPuYIwXVirec3HAi8RKf9dlZlcagw4SKZN5z8D6sjFV5yzNec179HKzG\n",
              "PH4Rbc4ER6i0YfRZ+ONEaA07fDeReFRrS+EEQdoaXm/zfOYyy3vDrYn+GxTmEn9uup8mqssheVLb\n",
              "4oAGBNxyoNRNl4BpkwsV928MV2I0Tp1ToSH+VpCW4JfSkPXgeTm4oO5+uDwsVoz+ZGnGJxXjUX1y\n",
              "bazwYtsQsdUoouvFTorTtyx8/OOWRdtMoJebrJEvPXPXJKDloLJNNcLvD0ME8cT7OJiHanZcRHeg\n",
              "UsXWDNKdfyVeUfwu/7ltBxQvgFywwqsBqsbLG0ps66SF05hleIz7qRv96lBnWvQfA2PoWmrdX0z/\n",
              "GneolW5akbjiN2liYBCpgA2fzfFyzHq9w6QQZ33btbwDQlHYFz7Puk9VIvxAfLrSCJT9d/DbZUzl\n",
              "v7mYbMDNMzoA2i0QiWXX60v81/YlckUEm04eTw1GVgS1yDJ0OCnmt4DL6M2v8qLceMVui9Wxc75G\n",
              "PCMriV4/lmTDkA7AMzvm5ABtByLrGfcMoyQVqytADPh5yf3XmpdpgQc346FWA2lpw+m2R/KBdHaR\n",
              "z1FqjjarCAp519C25+Rx1Ii6w8+hmQpjTTxtBOxTxOPMuXo4xUUbC8RBgIbVPSqR7mLrmw5qN5FP\n",
              "PnSzqZm7dcWtxoyjAexFozX883XOr+UlOvjVpPQ2a4dy6hALYISUE2YdBTJyTkK97T83t2jL7EPG\n",
              "D6AO/qFyzoO9yYtd3l8DOUATNHDDb9wHuYAAAIUTRNVQAAADAW8AAAMObW9vdgAAAGxtdmhkAAAA\n",
              "AAAAAAAAAAAAAAAD6AAAACgAAQAAAQAAAAAAAAAAAAAAAAEAAAAAAAAAAAAAAAAAAAABAAAAAAAA\n",
              "AAAAAAAAAABAAAAAAAAAAAAAAAAAAAAAAAAAAAAAAAAAAAAAAAAAAgAAAjh0cmFrAAAAXHRraGQA\n",
              "AAADAAAAAAAAAAAAAAABAAAAAAAAACgAAAAAAAAAAAAAAAAAAAAAAAEAAAAAAAAAAAAAAAAAAAAB\n",
              "AAAAAAAAAAAAAAAAAABAAAAAAoAAAAHgAAAAAAAkZWR0cwAAABxlbHN0AAAAAAAAAAEAAAAoAAAA\n",
              "AAABAAAAAAGwbWRpYQAAACBtZGhkAAAAAAAAAAAAAAAAAAAyAAAAAgBVxAAAAAAALWhkbHIAAAAA\n",
              "AAAAAHZpZGUAAAAAAAAAAAAAAABWaWRlb0hhbmRsZXIAAAABW21pbmYAAAAUdm1oZAAAAAEAAAAA\n",
              "AAAAAAAAACRkaW5mAAAAHGRyZWYAAAAAAAAAAQAAAAx1cmwgAAAAAQAAARtzdGJsAAAAt3N0c2QA\n",
              "AAAAAAAAAQAAAKdhdmMxAAAAAAAAAAEAAAAAAAAAAAAAAAAAAAAAAoAB4ABIAAAASAAAAAAAAAAB\n",
              "AAAAAAAAAAAAAAAAAAAAAAAAAAAAAAAAAAAAAAAAAAAAGP//AAAANWF2Y0MBZAAe/+EAGGdkAB6s\n",
              "2UCgPaEAAAMAAQAAAwAyDxYtlgEABmjr48siwP34+AAAAAAcdXVpZGtoQPJfJE/FujmlG88DI/MA\n",
              "AAAAAAAAGHN0dHMAAAAAAAAAAQAAAAEAAAIAAAAAHHN0c2MAAAAAAAAAAQAAAAEAAAABAAAAAQAA\n",
              "ABRzdHN6AAAAAAAAEjgAAAABAAAAFHN0Y28AAAAAAAAAAQAAADAAAABidWR0YQAAAFptZXRhAAAA\n",
              "AAAAACFoZGxyAAAAAAAAAABtZGlyYXBwbAAAAAAAAAAAAAAAAC1pbHN0AAAAJal0b28AAAAdZGF0\n",
              "YQAAAAEAAAAATGF2ZjU4Ljc2LjEwMA==\n",
              "\">\n",
              "  Your browser does not support the video tag.\n",
              "</video>"
            ]
          },
          "metadata": {},
          "execution_count": 33
        },
        {
          "output_type": "display_data",
          "data": {
            "text/plain": [
              "<Figure size 640x480 with 1 Axes>"
            ],
            "image/png": "[encoded data removed]"
          },
          "metadata": {}
        }
      ],
      "source": [
        "from IPython.display import HTML\n",
        "\n",
        "idx = 1\n",
        "print(f\"The target label is: {targets[idx]}\")\n",
        "fig, ax = plt.subplots()\n",
        "print(data[idx, :, :].detach().cpu().shape)\n",
        "anim = splt.animator(data[idx, :, :].detach().cpu(), fig, ax)\n",
        "\n",
        "HTML(anim.to_html5_video())\n",
        "\n"
      ]
    },
    {
      "cell_type": "code",
      "source": [
        "fig, ax = plt.subplots(facecolor='w', figsize=(12, 7))\n",
        "labels=['0', '1', '2', '3', '4', '5', '6', '7', '8','9']\n",
        "\n",
        "\n",
        "# plt.rcParams['animation.ffmpeg_path'] = 'C:\\\\path\\\\to\\\\your\\\\ffmpeg.exe'\n",
        "\n",
        "#  Plot spike count histogram\n",
        "anim = splt.spike_count(spk_rec[:, idx].detach().cpu(), fig, ax, labels=labels,\n",
        "                        animate=True, interpolate=4)\n",
        "\n",
        "HTML(anim.to_html5_video())\n",
        "# anim.save(\"spike_bar.mp4\")"
      ],
      "metadata": {
        "id": "JmPHXzYUsC-M",
        "outputId": "84b0fbd3-0084-4c6c-c4c3-241b147c20f2",
        "colab": {
          "base_uri": "https://localhost:8080/",
          "height": 1000
        }
      },
      "execution_count": 24,
      "outputs": [
        {
          "output_type": "execute_result",
          "data": {
            "text/plain": [
              "<IPython.core.display.HTML object>"
            ],
            "text/html": [
              "<video width=\"1200\" height=\"700\" controls autoplay loop>\n",
              "  <source type=\"video/mp4\" src=\"data:video/mp4;base64,AAAAIGZ0eXBNNFYgAAACAE00ViBpc29taXNvMmF2YzEAAAAIZnJlZQAAgSVtZGF0AAACrgYF//+q\n",
              "3EXpvebZSLeWLNgg2SPu73gyNjQgLSBjb3JlIDE2MyByMzA2MCA1ZGI2YWE2IC0gSC4yNjQvTVBF\n",
              "Ry00IEFWQyBjb2RlYyAtIENvcHlsZWZ0IDIwMDMtMjAyMSAtIGh0dHA6Ly93d3cudmlkZW9sYW4u\n",
              "b3JnL3gyNjQuaHRtbCAtIG9wdGlvbnM6IGNhYmFjPTEgcmVmPTMgZGVibG9jaz0xOjA6MCBhbmFs\n",
              "eXNlPTB4MzoweDExMyBtZT1oZXggc3VibWU9NyBwc3k9MSBwc3lfcmQ9MS4wMDowLjAwIG1peGVk\n",
              "X3JlZj0xIG1lX3JhbmdlPTE2IGNocm9tYV9tZT0xIHRyZWxsaXM9MSA4eDhkY3Q9MSBjcW09MCBk\n",
              "ZWFkem9uZT0yMSwxMSBmYXN0X3Bza2lwPTEgY2hyb21hX3FwX29mZnNldD0tMiB0aHJlYWRzPTMg\n",
              "bG9va2FoZWFkX3RocmVhZHM9MSBzbGljZWRfdGhyZWFkcz0wIG5yPTAgZGVjaW1hdGU9MSBpbnRl\n",
              "cmxhY2VkPTAgYmx1cmF5X2NvbXBhdD0wIGNvbnN0cmFpbmVkX2ludHJhPTAgYmZyYW1lcz0zIGJf\n",
              "cHlyYW1pZD0yIGJfYWRhcHQ9MSBiX2JpYXM9MCBkaXJlY3Q9MSB3ZWlnaHRiPTEgb3Blbl9nb3A9\n",
              "MCB3ZWlnaHRwPTIga2V5aW50PTI1MCBrZXlpbnRfbWluPTI1IHNjZW5lY3V0PTQwIGludHJhX3Jl\n",
              "ZnJlc2g9MCByY19sb29rYWhlYWQ9NDAgcmM9Y3JmIG1idHJlZT0xIGNyZj0yMy4wIHFjb21wPTAu\n",
              "NjAgcXBtaW49MCBxcG1heD02OSBxcHN0ZXA9NCBpcF9yYXRpbz0xLjQwIGFxPTE6MS4wMACAAAAQ\n",
              "pWWIhAAv//72rvzLK0cLlS4dWXuzUfLoSXL9iDB9aAAAAwAAAwAAAwAAAwGMR8kHRr9MkrqAAAAD\n",
              "AACUgAEnAAUMABvUPzVpnsLyoCdrygJehF95k74cQgB4EW0bYTGmJEPM7aYRlacNlfKMW8BK8Oqh\n",
              "1XIovW66byBfaBH3xs3q5mg+1By69p1F/yyXZgq/f4AAZI40kt1n4S18GQyq/nhfN7e0F1AIf+f3\n",
              "NsmfXWUSgHEk7gigs+gQ5pdRTGYHYswjd800X4LhPahz8l8/ylExbM0ZkPARaw24fHXA1oZ/ufam\n",
              "T6ESnMyMPQDZkBWc3Yc58X7ngjttBLkIAbey9ZT1CS6X3PFjFfY0ag3woflut9mEJKNWhgV9vcN5\n",
              "LXtsY0zoZJKdaqqqp9D/GuoA2Wd/OYAAMxKwAe8/la/MZMGgO8HWnYyYP6xBKnvvh+WgyBzTg91Z\n",
              "6VIYYDQp/gwBf1yT5HfrmAAMfS4bg/Elt8orX/b+pEo6PvDsF8fWhyDEtRCSb3INK43ckBwQ+iyu\n",
              "hCiVxW/mZrISlocNygTJ1R9wQfp581lkwjqiDszvws1UCer5qYseT3oi843S76PU2C6KlIiyZqmi\n",
              "NnkchH5u+iY4z9B5Kw3UKGL40unkr8AAJCfVrh/35L+Y+AAAsIoAHVUc0sE2J6NjKIkC2eVq/jPz\n",
              "cqbdpd/j5yORhde6CAR5y/EPw7HoOo4+MQXz+ovfXWMjFjOLRZB+hrbV12XwRFpsWP0ZP314djW9\n",
              "iNEUhLwqDvZe8jVceaR6w410GuxrbPbJ5zTKAAFh/Vmi2ry0KkjH563u8x9m6kHuAAB8pYupWh9a\n",
              "FaAAG63DtZTiaHy47FKSiyNp14IaP2Oi4BhVLwLC6JMDegOpUfHB+xabKGM9wHTbyt6GzEqqGkL7\n",
              "I8RxDpl33u+cF5+i3Ct5fFvAAC2EdZQvEltoKk2A1xASSvY+0ESfZQkmRoRh6O8R7ql85exdvC2b\n",
              "jLMxQrig3o/bpvdukldLSOcS7wYgwe8lbrbeI+aJ8GpPdBRDdZVQZWhZ1AQABKfTzuPypwNw/4AA\n",
              "LG4CWx5cf6XWNKkXAABL7YA9zxo2bQXsEnHcPHKWoQKgnkyMEuIYy1kfzQYHOdKJtnSoXkrMExyp\n",
              "Ws7NADmfLIH+5YUTEFTZcMEY98ogdAvjcoKLqkMyKBxsvtYn+FYG4zWsJ2ELdNzV3R7U5QzNJws0\n",
              "zavOwzzkRpDM5PqvxIz/4dOzp94dfPYf0b0/aQI3rJoz/6Qp3/yawHZSXXMW3J7Mjfs+XNsiL/3c\n",
              "3PWcJA/4RlMR7NlNdaZ3+dbbq05huwpirNB8VdSxKAd0qLEh+m5NztwAm8zmYOJOMMV8FnRy+nL5\n",
              "FU19xUWDzr9V0SVtBNPOpWR6AAB5RYwlyUvZ3n8C0z2lw1x80eSWo7Ua11HNnsh5sAlATLYsDSun\n",
              "mymS00sC/zbv0li8BwQKJQCC+HXf+27WYdu6RLr9DEdkt1h5/DhHjldcPu22UsCgFiYkXOPn2HjG\n",
              "BOZgOY1V5PAO3Bz5AcmTxJm6W2WT9TQ8WROcandqlea9OeONa2jdmWcLQAACfbkgymq/y4MR23cx\n",
              "CIvkOl+fCRGbn3FgGXIkGUcp7vv9xbUtZFW1Y8Pnn7P4gPwv2pPQXyV1QImK1PxPTTCuaKXGbw1K\n",
              "EMdl+ysXelzHt/xCQJ324O1gXgmCrefvHvELewXlYUrG2+w/cKfK/FA3LjnBj4sm+wKu0CwAoC2g\n",
              "9v5yEiKTxyDf/AAF+hKlwt4I9zUFP/f4GQMP1ABR4Itdbq/9ystFli8lY/iuu94g8O1rLkEzuwe7\n",
              "pOiK2OE0Ii92QbXVVDIDZTiJ8V7FExrHv2ySHKrV2WcHxSQj+bJthZbz3Oukq9ITLx+MrYYTgFzZ\n",
              "E0eQMyj7BRvIoirBj7u5t8kKZUtrot1lPKGS4DP3sLRh3s1/kitygwRqST/Mv1nRNezDoRkFSvsh\n",
              "rkRJdmOApk5IR47isdNf0rfF+LSfxh+jJ6Bwcn9TuJMjr3TVU+cWv2D7hIAE1QGtrDI8aKrAxg9E\n",
              "28IOUDSc18su/FLWWs9wHgE/5kRdaOWd/qiLv/GDaMf4Y78mi65wkiSn0CCXU20QHiKM3w/AvGQ2\n",
              "1PjsbogY/5LcKWpquUiEVPIF0YrxiD1rCGbkABi4aIAAay/lweQEZb7bksiclik0EpeMTU+mXg9s\n",
              "eEQIKTeFQE1E7fafXgpjQegFdAAbwm0NaTSzGvYM1643le5Oxl4Rin2CUxzCPPXtHhXuPwfd7Pyt\n",
              "1MgTJoju4cMlvs/b0L/TzFPbJI3fQ50NB2NBM81w+n4TE7heOe1enyG+yMj5gTPbyB0I5fhRtHsc\n",
              "xvDiNOt+OABuNoYAANBwAHZyLHc5ruZCyAh4l9g5H8nmDF0G3SOazm0x3U7NOKda17+jqhwaH0PM\n",
              "ClTUuOvLbDPVEGWycuiB/FTF2aEAiMQGh2JUeXa2PSKqbKml5Gznwd0v+C4Lns+TysOrsYbYOElT\n",
              "TcNWwvMp0+m4QQAFtVswry9s3SZnYVQaTaQ5vCiCy4afb5Xzje1zllIB2lwhUFVOyS+vBr96xvW7\n",
              "5PQAAwRw/mL22gAAK4dkwgPY4+ctU08J1elHtZ35qWeFU3GaWVx9oYzcwFVzrvJQtKZJDEwfJhqv\n",
              "IGbEAAOfnm+KgEvDzF2nsrSjxlHp+BEE4+xwzIsv2oFBeGW2H0THEcZaGFgKsioWpba81svGwzES\n",
              "Vijq4unQQAAJ+Vgx6kFdjwAAPrwAHUJahkrfjLBUXwnfC9ZOskntAGywm4jJ/SEdSWazJay8lpck\n",
              "cVN8FasKRDaF9dKurKQxWXylskOCW3hWrwOPIJtvgR/FLDHsOQf1ISEAAHGG7cOkX5Epf6FSOHzN\n",
              "Fyt0Cx/tRsaWF3GtnAwM7GiZKg06rR8aQWll+HaxUdcMBAAB2OWfBHj95k4rqFUYHDRombf5zjxu\n",
              "dCo437Hsmbp32Wfh+fgrKsGh4Bd8dwtQvNvMC+CG2EwbG0uud4awj+MgABW5njevU4cDAKCkAK+W\n",
              "pMABMTY2vqoDTc5y3gpAkGYw3EeCxkZCSYS7Y7gXXwHoQ46IXYnrgghwtUiu+ug/MkPU2rivFqR/\n",
              "iUz1W7AIdCfJMx5IZ9VQy5BKO+1eOGDcoWZz1O7v9tZ8nybCNJCpJZ1luhsWTxD+jebTuVBMCCV9\n",
              "7Iob4JSaZ/Xkufl+r3ieOtPY6msALJBfVsKMwCHK2Q94EZEdP0r2z1dWkAkyEwZvYIluxqR8Sf3Z\n",
              "0TU2gA5L097F+U+0WB5rpIbJBl6G+LobXS2XKhh+y6JePV/ARrvg3k2fTX5mlFQqdtsbCjrOC+Nf\n",
              "pqmwak5HiJarBO+YGaznyVC7yKGkuYoup/aVKTiUoDi+Ad8d9tSq1igSe0eWD9WbK/X6TMrHd6Lv\n",
              "/vhVtBGfXk24pUO8wikpoH5ia5/7GO+yUySwCGUM/n+gGlH1YTwgbOlTAtFnlSA4gIhQDdDGtNzM\n",
              "5QjP33/sNuwtMLLGnBQyjwnK4lbQFuDLra1sTPMuv3vYJsp3io/GETZ/9SQWYdpA4wkn9myEG5WU\n",
              "8ubAyZRfpcWILWKgCcTExOWFbmHeb+oDcz5FtwHXiC/ArOc3IAGMJVI07ix3Pv21vTBlmvWwREeh\n",
              "wIur9cV4ItyM9j9DQ3t8UQbz23zh5UiYluodKOLrRC+xB6zAhzriUU98eGCBtJKDLlqpU0A/O4+7\n",
              "uf5Q8rqSfAK179juEPljokMJxwfK1WFPAAaY/g2Em8qKuu2tU+v+2st0OBUFWZb/k96fK0vEdIfS\n",
              "XzlkNtd4Qbba4/rNJ99n68q1e/kafusV/eKUEbFFxhW1lN7NCjm1S8GILQwGtqOTql6eieUnal5d\n",
              "FL6dBXMqWY8eO4OlWts5xelGHVbZdbvXQegJQU7dL/foP0wPzs/4IDAL5y0Jf8OBBmMb6wsmMMV+\n",
              "daEgp1AM93iFO5M7sjSxE4fax3ZjwrHAvJmV5z6gZqyHdc2+nFNduzVAwYrqaWOYnyO6G9BwpZ9d\n",
              "DDJnKn1zBmyGuSMvYontKZ6HogytFOLM4OhCz+dcAA6bwFlznHg24TEgRBr5XayL7eOxE35L6JSp\n",
              "yc8i5a16ndXhtMqNe1VyQGSD+94ZDPAZHzo9QXi2TX6c2Op9TgTPDEIbwIFfO4sCzNU1J3/By5vO\n",
              "WmTsZjEymL2+L2DM8dQgrMUaU/xvWpD6c94saCO3uV4cjCBnsFqBl5whBAPPuVJb66/72I+gPkXF\n",
              "Z7HyYSQ4x65hy5KVOI1zmP/5CUSoBPWdWb/KCMFxFKmWw0fdnfqKh/6vS8Y2w/dg405yOiXCOw/Y\n",
              "ddOfHlxA31ulpUqA8ulq7CLh20z6kkjd7LJwH7DZWNlKF5hUJIls4ojnpID7j0Ug42whMIybJNhE\n",
              "Rnasj72E3dNOOoHERgcvYIaaOp5s5Pqb5PnwfmUPt9OXbSYYavZ0BLJ5H2ygYQ1ijDxjiolnv38q\n",
              "4J324nGWUrjrfxjtc/r6oRxOqikGYLPtYctEaelt9RthegM6IwhLxyN+9iKx0MUi58UL1AvJQie6\n",
              "9YV7vfg0v8Podr/Vkhdtgg4Y/6h83dgpL2YnseOXd1yOgeAhyVGqjJqqi2BLoIaI/jIFchsfwaXh\n",
              "ga6fSvMV4zea5sdBNEG/WrN0pvWAWeC1LfHKjjqYk6EBxGAmSH/+zcZgj5bZqButWqL6/dRB0vni\n",
              "F6PUhWuX8VPC21WO+l+/qQ+MlTM1v+y3PIuHKiU3BKnogR2v0unBJ0K3/DLLJW01Jb2gTdPKckF6\n",
              "0C/F4DiRgoGPCAFt3lkL1vUV3YsAmtSBSPsail6oOBpwhB5zh64XWO5CMKSxm1JHHlvgWsaBpzyC\n",
              "6SaOKJTZoh2uLTYApnNOAMiaUMU7EnzXsuoFV8DcKIkmx8Lwoo+rxOS5vZ3mzZ/mV5LHd/gCzlVL\n",
              "sepR4gBbCHdv3nU73Vgp/yEfAiLFMOO/DaGaWWtuLcotR/lgw/7Mv/++VD1i6QWnUsvKf/wjPaHX\n",
              "vN4uBWdu8MzK5mwRcbnbpqQcdnKRwMEVOo4b1pcewFRsC5zbbmZuvqbibq/kXiKpgcMLbirdFf8M\n",
              "7yl7+axxTOOO9YhZy9uXKdLjSUHMu6zRz2TWx8MSaRpZ+rsKi+EUq0VQyOOjMAA40+jC9ugAAfFn\n",
              "M+LjPHAahc2JvZw04bxVhv2oloUU5zp8Bg+9fIOKMkLR0AqK6Thg6wokBdw3ZBsDfzGrdqf87smR\n",
              "wBBRXjH+S482TPYapCvnKPL/d/J41AhQy/8AbJl//ByPhHlBlUgLF9J6Sl6YkeuUHECi0Lv5Sr5V\n",
              "Bi4PgAiarb8kOOn8DgF0ddrHaY2jACrjELTnSWvU2vGmtrZQM7Y4Xw4ql+lmUEJEYhFGe1+b52DV\n",
              "+JDhWY4ZpZVAMlO6mkFFHZ7GEakxfm0y1DMIRMmazL17FHDARgR8tSJGDE0GDQuIrurN6V6rEp2S\n",
              "YEI3KDsgSyn96Opu/L1HdbFUseB53mvVWYtVxhmwI856T18gfFpFjg8d/uGi74hiG9DRw3427UaA\n",
              "IkDTe+FfGIANbvH/celx1qeC3upp03kIfqKL1dbX+wLAEelHzs7vIJMDcV4jSaHajPNmzuv/++6H\n",
              "HHtSwqtBIabFgGVWEj8TGXXdMUh7XSTAGWKi40XxwKbuGT4o/ay+gAAAPSEAAALdQZohbEL//oyw\n",
              "AABltaZoyL8YAAG1C3n/qqftlFJVqXlJeK2XLu8JjrWTlNa9UuRMmsQiFnki/tT6ajSruuieI4FJ\n",
              "6fIntSrEhkoaJuyg9frUAkDCaY6Yq6Lj2y8/mRj6nwp1wGopaGUrcn/m9HBjNOXf4QWF3EzFAI8z\n",
              "fCVxVSOGtLLM3Yig/SZIyX45jbpe8DgUsEQlMELIsIzr7AjoFabcbYH7F83rM9y46LF1pNnO2ITF\n",
              "YjiN95i1b6AzPOU+8jBIQOb4bdv0/LLSiTdpJqrsJXvuFqbv5+SjyVnkwagl5UnUiiGqNZdi4zNp\n",
              "Ff8IGhmrKvFhNWaXQu4pkkkxedVKNinyktXsAvgGugfjv6OuEwJfUNOWd/1/ZjuF7d8RwlJgA9O3\n",
              "7uu21Klmc1xSZ0fFrDX0ps2UwLbNoc+K8jIdDtNj8DArdS+7+Xi9jAzEjXIDleE/PCyejdbIK29u\n",
              "e68ly7RDU3XjbSE+PxmhqYB/+NjMtWX0BeDp1uW7VvyxgISFusAi0Epxq0/aoXm9k0jBJuVVoH9X\n",
              "l3cMtoV6oOePeiZkE2UsoVz/llD/sW6Qz2Vc957kq42tab3+yQt0J/7Prn4SM/VRqj2LaTO848iC\n",
              "JnE2ppsFi4kRE+RX7FT3Lpyfwcb/uN62Qs0Ph9/D58/VrqulG9uyzmmEjyB1jMrQm1QO9Qx+b8xd\n",
              "ij8gLxTjY6oHOaME7wfeo6t46lGTItrnmZeSIDFmCAHH5SYKxG3gJUew23bLwblzHERywIHOchXY\n",
              "m7mntDX1bkYsyTM+cDSlmzpqoOoUUqBbwj4rFkG6v8CMb9ubTds8xu5vl3bxDmRyUHl2vQhh2a61\n",
              "5PrpMv1aj8Z/4bzkZl3ERRWD4i4xkw73sMY9J5/Qp2KMG920Yi8tyTJGh7zOh85XxyMgOL9mdyMO\n",
              "U0Ll/8BfZPZ2bxDJ/TQSXoIONJktR/d96aWtkeELCWTCVahvs6Z/vAAAA11BmkI8IZMphC///oyw\n",
              "AABlRQPdZAA2oW82o8fkhdMs3qOESwkdqiJtqns/HfYtvT8GQTLP387FEsXh2btLIl6RwYQV//5/\n",
              "aRcCjR8uqbx7EInUCHZ+BMtZ2dv1pPLZb4hfAvasOjoomsFcHnqQ/UL/fVe5PZUcYxtwKER1a63P\n",
              "PRH54X1ibIEEAFf093FcEzwL15TWwr3Hpry10xGfm9A9rG2aGxTgNk7AMQTjnj8TQSQ9tMjsspnM\n",
              "PtMRqCZUkklrD/213jylU6989HijwwgmicmFoVEdRKZYvNoSqX57M5jA4wF7kVwSYCFALGSa3UMo\n",
              "PIw0/uwfHBV8s6rfaZk/q8wKxbKj9ZL4TnrzP23s9lbPujmIwTDzS+nks1foA98FMb6C+wdya4eY\n",
              "1LMGjVhsqOotMhlZoZIHzcbNCUcc8burwnYXFa9PXkObsemAdeG2vWR2D5bN9wfnHEfmJXpu1e70\n",
              "CIn5liHcd0c7vhZyyHJHO2lJGgpWhghVURANHZ4Ch0Ih79gFCiPVgzK7AkLL20n2lSMqJQwZzyp1\n",
              "yxVfMUsCQAylHsmUucsgTild71tMjoqFVydUB0Tymz3K87O1W8ENqHy9EEyC5xTmLvaR8D9uB2e+\n",
              "NNBEF4S9QFNkjXspNigM7Q4RyCUGjW9LVLE5a3lb7ymzPJwsToV4+CcYJd9jWHuE9TjFCzEjqGoD\n",
              "IqNoKHn3f2aM8MletgXmZcA0u83uvDowR8baOLZvydNUISQrf9CdDRpAgUQLrQbRwyjw+gOstqT4\n",
              "MJbQDRkoy83M6gLoIuGPStmfEHLkadcIRuc9vGEZHaKteJ6Td0jAV2mRNIZO8tpqIqeRkvvRSiHm\n",
              "onQK4gBPvduy4kCtyA4AwZT35Uj4wn8ZJqIQ8NclYmMrZWPGLwTDL/xCZW6RCNpW8oPRywuY2/kG\n",
              "p+JozfU/JZQ9i8D7EiCAnZ7tTokJGHOxl1gs+NSZu/BHm6hq6GJWdQc1RiIQfC858ZSHFUoewAj0\n",
              "COG9oG5P9enZGQzXPTqLssGW7h0ns6p+Y48HdspnuJ0VjDoffCgOIe3i7C4knzA78xdZPkkFf6yF\n",
              "SKmQxC6+Y3hQZ6WKlb+Gs4eOB6/Slv2b9xuG56G3rrEfgLlAsZNoCkC94r/tNsNJPEEAAAJNQZpj\n",
              "SeEPJlMCF//+jLAAAGVSFT/ABvFMhI88Ogrnfin22AkuXM5bYcMxH8TFqL2fe/OQ6gnQE6JWHPep\n",
              "BNE0924EkgUc9scM9zeLzc1lZS91vrMeSXGVXXaco018xKfVhv56o41HQubktZT22jL645zNjseG\n",
              "clR9KNE1UcqTa6LlZHbiAOxjb8P/xfyBHDm8XxEQsgShSIAojq0RT32XVXbW61k/RZDk98pRXB3e\n",
              "vlLgV7euCGBHv5bYyyHlG/WmuxVkzjzRB86dOj9K3v+xfMxk6rLKFRk2+Ps3h13wRuylkrEZzyOt\n",
              "Z5MqaDiKWdLfDOotmmVO9QoKiWHcVgwIAtwShoB3Eeor7t88IlSI1qtPqwRfBDz0UxdmVcZyPbdg\n",
              "3b+yr2oaJkCHtt6IBd7ySjYzxO6gRpZiknj29Idvm1gxijJe/rxtOxRbHENVUfgbHFdwVpD5ykVD\n",
              "ykwxthZzBmuPKcw+t765JmFvVBUp85nXlxX2IooULH0dO3qjrROZAh1d7YjidzaEqWccUZRtxILd\n",
              "9JMwh+TYpeUEmE2NHfOPAmNALkYFuNoodIQ2E3jpbRJoHR2vSQY4+Qjig/uFTDkrwg5ZYnNYDVbM\n",
              "Q4/EQTuv74nqf+Rt8+fHUiRrRrBIey1Ts0NmGL6DHLOOiAHyb0bXaOznGZELwk5XC9rZ8vhsmXvc\n",
              "fCyIqASC+SXA3n26UCaOTsT6w6FyZFuyO8uCEXLktbVTtC7AXsNAUlr53Tfg0O8/FPEmV+cXrw37\n",
              "ahXByLHxc8/tt+YrEACPgAAAAPFBmoVJ4Q8mUwURPDP//p4QAABh/9lp/SeoAb/pX/Lqy5m81U0b\n",
              "VeRSkFOzRTytmEF0I9reFV6iGwtRflh+LMH57as3zJArMSu/XvtNO7Hn1EmmjW7ll5lespCHGrvy\n",
              "/xqJ6cqy3SQ+igyw1UagCPN3Fb6jpE2b2G1/myNxiuTcb24T/zqcUl//FcaQnNUFnT7XJuB+XhD7\n",
              "S3GFWCaQjQw3v0fXdq5quG0o1nXGTly72+5GamY0ilg83BEcJcOsImKdJucyFjQNQBJlcCKjXyJk\n",
              "nDIXZ/w45N2I84JRYR7bDsXwXP7gshOPGTWwc8yPQGXBAAAAhQGepGpCPwAAHwx22jXfjlYVR0QZ\n",
              "FpqxXAmGJ7VMOLBDjVsdKNBh40GZVyyeQ5uVHL99ObT6DSeM1OU2znDcBLleeWq2K9nhlWM3Zpfi\n",
              "/GKE6AATjEM2FggKvuEqWuM2amVhKlplGVzLWOlgzNd15sfexHpQFp3ze1YByEUUv6F09wKAFbEA\n",
              "AADXQZqmSeEPJlMCGf/+nhAAAGJ1z8NLD2W9+VrHX5ukMrDh8H+Lt1Oa8zwv3pTdp1FsW+gHOx6f\n",
              "E+VMxnKZMe+71+35+CqyFkbB37Km1nPPYY3cTzCKy9eZkPUEZ0Q10aAVthJKp9aJx72anSGSLGVC\n",
              "GW2VMe4Ve+HjG4xW0IfTuvHl5qapgOruJY2vM+Cj6lV3SmLKGoxD0D4XsapKddv7kHukAquoNGXP\n",
              "Z+ozcPtNCi+uDFG/vC39V0n80tbHulFlytYz1pPkWTjfkoQPCLYK1vA+/ahmABcAAACRQZrKSeEP\n",
              "JlMCGf/+nhAAAGJ9jsH4oIORqsOGolnguws5n3eVoMiBRRkJflhangtnWGjQ2unNfLJSeMADMHCr\n",
              "kZrFh7ltpo+9Cislm6cPMyxxH4OUPUGgzsGQNkk4he8LCgAOXfN//H2A7mx78sjPiV5b73OCehAO\n",
              "tfV9as33h/r5b+ZCAIKh3qP+YoBNcywFBQAAALdBnuhFETwn/wAAGmEvOZO8JXPPkw8+Ky5KP2Pq\n",
              "suMQI1n/dfbM75YlkgnbVihSTjekOCzfbQpcXWH/Gl+NaGzEklKEwXQhI9V6uMMiymPGuMGp0A8O\n",
              "YpGNBk/sUoi8iyV8PpsCVpoxeE9K2zQ8eXny7ACZvVaJDrzaFN55wHHKLveNUOYf6Cau75AcL7mF\n",
              "sdFS7XHK5TKc2K3bgkcAttNKcBSJHtjr+yI1j6aaIoH/1I+a5QAAVUAAAABVAZ8HdEI/AAAfDIpZ\n",
              "ICFpAynes/r6WrityoZ48u5BFHu0j0OKdVYXjnnBmTpnF7TTpwKaxdkreyy3DOniqSe2nspQnTEL\n",
              "wUaSS86XJEdfUtnJ6kAi4AAAAMUBnwlqQj8AAB5cjqSCx3ooARuHkmHOm3ls84jfddKK4y6zC9fA\n",
              "smi4+OjYPof+EhK4he0Ya66VA/A83z6aWl2fyK1RDSvUunQNr1S6PF7KidfIknevgWAbqbl8efQ4\n",
              "0Pdj1eQSgtUjIOD/CIilSRaq9kOn8EWRGRoAme5kJdePP7QL10zNeZcpdP6M/63LyDDM6xKLTWmw\n",
              "aSAGPJVwXu36JqhWcbR9v5nQKe3/fzvuCN2IQ7ZoRV9TD0PXQiHXfWcs/OACXwAAAGNBmw5JqEFo\n",
              "mUwIZ//+nhAAAF15lzrXWo/fRlkKSDsxFFwWjjit3p/P6pkilwbgwgpRE9RQaC1K+SRWAKpOhHgz\n",
              "76HK/AGDcXTqeYYDo5HmeI2cfOuCI6TbmMpc1QqNx2QzoqYAAAE8QZ8sRREsJ/8AABkfTSxAAJRa\n",
              "yVhU7r+RgZHW5ZK4+StsRjCyNDN+q2hyqnjn+bNwl+EnEcWcBsTkIvK9KqS6AnRqhB1LU6SnDHpF\n",
              "/CMiP0YZpJqUsc5IMxo5x1RVYcX26/Rud48wheErTTFqmiVpPp3TtaTMA+uIPVkOaOlTg9SNv47M\n",
              "Etseu1sYLTn+gCUxhYqHmjvFFDd3PSD/1KBVza8T6Z7TmAiNS8vVaNl4ZJx9QuLx9XR6xd+kRCjw\n",
              "tbF2+3kK9rHGfmKC7fkRbZHwgD/8mv3UjdNcElyF40aPXmxzGRD3unl6YmI5CrOYc6v4se3xe0ks\n",
              "Fq1goJw5GYUIxKH/ed1pBqQyuelje0IWE5Ufvgr0vvxqQgrFbHcg/ZA4VnG0t/6Uu8IBlFJkb97t\n",
              "KLenX8hqhlOmYAAFXAAAAGwBn0t0Qj8AAB24eYM2Zh+LzIO7ppegxi/R8oQtHh5nQXqNoY2X9+oz\n",
              "84d5TGhJu+6nPp+k76zUUgqQDMi4O8/y6HSJwRVt2fV54xtrZH+PAjev53cm7pLIACdV/+8rCujt\n",
              "wOioDmvmjrAAHTEAAADYAZ9NakI/AAAdtvsdACtJZF5vnClI8dRcssnrRGPLKgOi+udx0s1Wmh5v\n",
              "LDLU8mLBFPjbD5aKH/wkGYeXCsm3Zop6hhWBTFWxdgX3khq3ZqDLW+jrAAwt6J6yu6DKOrcBYYBK\n",
              "WHEGUeB5IThezwXCV4vmQN+5tmkI/6+6hyof/WH93NYATEd5cy2gXvxQ2okDT68yI8WFr0o3Vw4V\n",
              "S+IZMI3etIqj/YBsvkLOdcFyVZaaLNh4yWk21b+bf966G0Vai/bAtJj6pR035Vu8IljF/XKm68JM\n",
              "gAR9AAAAeUGbUUmoQWyZTAhn//6eEAAAWzmXOtZyP30ZZCkg7MRRcFo44rd6fz+qZIpcG4MIKURP\n",
              "UUGgtSvkkXOisGk3efHCfebtAFgDwYR7w1d8E6IlIgqP7kBwW/D9hLfeP9SQADN4Y/ITn/d0YwTC\n",
              "jtcTM0e3yB+tDngAf4EAAACLQZ9vRRUsJ/8AABiGfGKAARt+k56r9jebMWPDBNmnTgAqlB2hdQaN\n",
              "HNVjcJpDeWemoDJm1F4BalNJKtqZ33T9+kpraIiyJY5Kp8I+DvA3j7/kH/RMIwKiekt6UxrICyzO\n",
              "mkCyVNKjSfl87QuPSOKbBPec4bZXUVSH+pN6jCjX8NMnIe7NxbOQ2AAMqAAAAL0Bn5BqQj8AAB0G\n",
              "+pkGAZQOZ8igBHPzNnTWW6qRinm62mUjUjd1EE89FeD3eJuG3B8gwbMa4IuPmym+LET5h0Ub/EfE\n",
              "uCRh6j/h8ha1532wTtoV925P7rRKKTt3CuhT+EwCDPlpEB/1BUP/ZKuPCBOpxIOGcYqQUGJa3B8N\n",
              "zogY13tgS/JdWXIdmWQUHJwod/RSruFoZGGbIUl+AjpsMvbOggmHKRDiMCcW1ByoRPfiq5ZZZyfJ\n",
              "Uers9TAAIuAAAACPQZuVSahBbJlMCGf//p4QAABY+Zc613FOQAWK9mEVQ2vyHn49fkwTdRMIrkNf\n",
              "LZL3QP1c7lPjVR4FDCetkwZa7VDjoUj9aGrvaGKgS3dcv+NB/QxnHKrUR5dVIMVEhXwcgdo2sM3I\n",
              "Hj3lciz+o0XXy8J0MVNuTeC3lvM74IZgn8B+kN00nN3RTVVu1gJgfkEAAABOQZ+zRRUsJ/8AABff\n",
              "T0w33sPQrDoBsN08h86c4eouehkhb7KV1TEDNWS8bceUKphmeFLpKNl3fYzwRqsjEV6rsD6z68PN\n",
              "NdOSIwiAABdwAAAAWAGf0nRCPwAAHErHYxIugBnYFy6zcBxWgQY4P756R17Kd9untiWI7yRL9iot\n",
              "U4T6rS1ABAM3t/P1yqFOxbu0eGBxf2K55CLHPbgV/c6TiG5847kAfUgAeEAAAACIAZ/UakI/AAAc\n",
              "T+NdKHzkQvzPZig4I0+No3EbDvfgP+Otb5z9tcbxFIDzk8Nys/HuQpsu+x/QLy7ozhCAAtLKDgwj\n",
              "hR2LgteNxIOJbk/EI4VdNiaU2m9HHD1YlIJByEg8AHlBRtbg7wcK3mcbFuypMXTjBtSlH0W77jaf\n",
              "6HIyQjV4cnWtQIAEbQAAAHNBm9lJqEFsmUwIZ//+nhAAAFa5lzrXWo/fRlkKSDsxFFwWjjit3p/P\n",
              "6pkilwbgwgpRE9RQaC1K+SRWAQu9nHUWy4V5sT4VUMBUHe/VpujkhE3xv/XlTD0pOHop5rlKADaj\n",
              "gJcxlNt4hZ7RN5xuEG7QOB/gAAAASUGf90UVLCf/AAAXRHUkN1xD0Kw6AbDdPJa1jPeAhZ7F3kpg\n",
              "IOw1UoKWkpYt/elZs49aF8O4NcKIEw6wVjnY7y0EJ2rUoDpABj0AAABvAZ4WdEI/AAAbqXUwMvUQ\n",
              "ot097d5TqggZWn23olN+o5YMUb+CR0Kfb061Fy3lBoPjAkBv9Dzsw0h/QKGRAF0KlTcehZYojs9X\n",
              "dMHkBEFCy+CcWHG6xAnu8e0rzrR9pcpH8cfiAE1bt6sR/IEPAApJAAAAhQGeGGpCPwAAG6JlOOHz\n",
              "cS/MVooGQ06incRpWV3aejKZxf1sIQda7S5t3aGjFZEVUdL9JGvburzUvwvD/MQwZFVJacbDzMGC\n",
              "cdKCUKjEpT6YdO/pACWql+pcDBHx6JRT8KfEa2hG+HxozTb/1KwBusS6Q5UhAcITaM60pbRqdLZA\n",
              "PiFAI+AAAABdQZodSahBbJlMCGf//p4QAABUeZc+KxxF99vATbSmiCPeUaPDMv4fhKiUDOVkIGCC\n",
              "ArIW6aurnJvH5bCUzk19Uwzeswa5DkuDLGUvPkqZQYBZgBB+YJFV5NWAoBvRAAAAdkGeO0UVLCf/\n",
              "AAAWtlJLyuZWC26bxQeyBfnnfALyG8Eg+MxJZlI7yDcCMbskzPBiT5CDpqgKJNGG8eKtWq2/boNm\n",
              "L1B9mOU1jHnz7V/xMFGBPkhalzxQyxU2qZeHwACX3Sba4xaoTMZvEOymNa6o3Sar9dYAG9AAAABV\n",
              "AZ5adEI/AAAa/ddUmMRKd+FanpEkaVT6Y0TsRmOyV2X0VYDviJ29L7r5EjGsqKJRJRJ8ruO8fqAD\n",
              "uF7eaq7FhJtYLRq5YjU8uw3RBwMyuRpkFoAj4QAAAIEBnlxqQj8AABpodp7PVA+HaLcqrdS1pBKb\n",
              "Y+mMJch0RpfPpEBZHIgjieafK/+l1NRjs18lnqzmrNo9lgJm8FdE/qscHFbKET/1iBCQABNd8lBK\n",
              "OHBX1a52J9u3XyBBupb9rFaZe7fI/Ik3PkGudQrE3ZmcDf5mwVTOCKFDfXGSAccAAABQQZpBSahB\n",
              "bJlMCF///oywAABS/cuDNabRJd0lT6js4TRiks04/8M3aSZNkOojogPHrNzUFADku0cdmrCA7OMf\n",
              "RUW8cnXAKe4sl5auZgiA6YAAAABLQZ5/RRUsJ/8AABYmWE809+0J2IEWsDNOLutkfOV7KeB3mLoR\n",
              "a43eV0w/ADG2//FMxWXSiKruJBvZpN4BwcE4lJGip1mzfXY1AAUEAAAAOgGennRCPwAAGl3LUkeE\n",
              "p34VqekSRpdPpOtMrGdI6LeWirAd8RO3pfdfIkY1lRRKJJF9w4Tk+O7gBo0AAACWAZ6AakI/AAAZ\n",
              "v28f4cu4pFK9gtBS8cuBgcnunEKK0BThhiQbh3tMd1QMcDO9Xic+/KXNgY6Egzc6w0+jjxY+cCtf\n",
              "8CP+xFlCJifJ8lObRqwoq77UAHipOpKxyTXbHuSu2pJiugWqVCdf83m9PfRJ5fXyS7xX+TZRrM5c\n",
              "etre7ADkl33odaUtPlMFNXyaSbEOPNtLAB1QAAAAeEGagkmoQWyZTAhn//6eEAAAT/mXO+eNVoQL\n",
              "buwKBGV2Mb7Bw6gOatQFz46VjAC5UmVAvLNp1GHNfT+1W/zf/Xpu+nG1BQVCCsYZI5g8IApIc9FI\n",
              "0+GNAB97U4VUv8KbFaLOAwqjBqp4ul0+Ry+ulnuoDNgtkKEDFwAAAElBmqVJ4QpSZTAhn/6eEAAA\n",
              "TUQxo6SaljxIXgCdvNlKB7wfXzOLhgOVQ/Kiht3XZaTwYVNjASdAjPVoT7PgttRIsXV64A2Du7G4\n",
              "AAAAbEGew0U0TCf/AAAVCpoaya7ycpXTuwv5PFVjz9IoG4Er+xHbmSWu5tZROuSuupndfNPUE+nM\n",
              "GuJMiOxywLCUj+NKmazmH52HPRDzdCjUXylZKaXKATopGoWw3+YCmCscVa+1rTiypIhTrQACHwAA\n",
              "AJsBnuRqQj8AABkodpWMvUP298+i5eUZxrj5ZB4ZvbuLVjwaM23FXO6kGg1pmubgTpTAWvbph8SL\n",
              "STiHyEzeKp1hb9xn0QpOPBlD1UotTwOdcL9NNyqnUcEHbH5/nTZmAATBkIiGwS76PTI8pwWoONBh\n",
              "7wuVwJJc7k8eq9AAGf2I1o5aNqgNlc38UpwXZI7E7NJsTptirhALpcACywAAAOVBmuhJqEFomUwI\n",
              "Z//+nhAAAE2+KzRjTesObB1zmAEsZ12heY9lyIYExVB/sV6WLWbaPJrdWosi6C47EpQEP2lZTHIt\n",
              "hEMTK7tQOK54VaJqrKiitPhvnD5mh9Na8vyGSO4tdjSDnxtN50Eb1gsC2vK+3Y00ykecFTWfEgQw\n",
              "UahBjMux66E+hai1913aHxiCJgGXWYKbl8tqbkI2NMzGCWS74pdht+HZLzdv2zcS6AK/PI/kSVd3\n",
              "8Fsnzf2+KP1a1mFgl0BopFh0BsinZjsOtZQ2QjHZR4c0jOxdGW7mgLkjzuBBULKBAAAAdEGfBkUR\n",
              "LCf/AAAVBlI8WMZ4vzpEbdD8GkzGtTsYKJaUueSwNE/j1GcXYZe+FdbcHcrPfTxC4zr2EJhGZKz7\n",
              "iyYTlxfIucfnT53+c7nY5100Y9QT6a57AnaTMc+dzvegA0Y8VXhl15+OBYn3LRgTILMEAA2ZAAAA\n",
              "fwGfJ2pCPwAAGIh2lYy9Q/b3z6Ll5RnGuPl4HiW9wLtWRRm7Re8ed1INBrTNc3AnSmAte3TD4kWk\n",
              "nEPkJm8VTrC37jPohSceDKHqpRangc64X6ablVOo4IQI6g1HymxluaoAPZ6A0VN8w+5tJL9IHbuV\n",
              "6DvJYlcqyNE/TIAAf4AAAAC9QZsqSahBbJlMFEwz//6eEAAAS7pvRt1fl9jEAFuL/0XuXTednNPd\n",
              "kfkBcllGIYyc0EII7wff6XiEDmfw+lG384K+aw8DyfVhnpBZbl8OqhqtdhEAtv+NbJgykTv2TsEs\n",
              "PCKApgSqvYGLm252qGPVsFiFeU7o2sZvyDA5YemE82B9Uy3QrBPtxCSNdCSPLqrGYIKjVIaMJ0LY\n",
              "m26bkxx30s/JP1BthtjXlmuSrMqJWfJsgbsp/u2XtJZOUgGLAAAAdwGfSWpCPwAAGIJlOOHzcS/M\n",
              "VooGQ06i8YrCQl8gaZ0YVhijt8Q7q3Yn0rQbZjTzj6UwMGxV3d0gdlpvSmPP5V5nHuxC8VJ8PldJ\n",
              "1k2H2XodeK7b08AJHnOjM2MBUpPLzwQD3P7D+A2kGKBA+w3dCq32lBIUABJxAAAAmkGbTknhClJl\n",
              "MCGf/p4QAABJVQ/8zLKuAJ8D3JwH+IabbJ40TMccPfIn8d1GX71EcIBZrbllbZl7hHtt8K5EBibS\n",
              "LCoU2tOqeovsgaDMCCehJpjuGzL8QaAX5Sqqt1D3ULPdFXDwNmZX9vvWGYr6z4NzdhSOfg8wB1z7\n",
              "oATr9MPDE1Ib4NWencnVKovp9J6jXWNMoypJ0ScYfcAAAAB0QZ9sRTRMJ/8AABPmSTZ9vCVz0Mge\n",
              "wp3HTOmHj0yqdP3F9I1lg80yeKxCP9YoXHgz2pvvzihRnRzczZK1yrYfdtP9sH0/9envlfK1aWQx\n",
              "t1GjAv5yGr0EV/fbgHekzCM+CgA7fTjoEq8exkKjR1t0hQQACdgAAACqAZ+LdEI/AAAX3ddyAAFw\n",
              "tZsV1juToMUWPPJnWy+Hrz1IBB8IlW9JjRF61Lp1QhaS3dcaZgQu4mqbSJERav2TyJ/RichbfqPK\n",
              "fkAIEyd05reugJ4N+2+qCz9zTFcAui35HOpyQ0qmy/9qxCkfN/INjkb3+lpf/KUGXT8YS/4RL37i\n",
              "j8WbfSZo4jvKN7ygvbLi/YqSm/BC8XMWjnSWDLaz5fM34RJCdv0gHdEAAABmAZ+NakI/AAAXSzae\n",
              "z1QPh2i3Kq3blaHhW7uUqPQ4FndNbptNrI5EEcTzT5X/0upqMdmvks9Wc1ZtHssBM3gron0skVHJ\n",
              "zfAAJil60uSxDEqGaNhvjIjWcz9Ro4YsPgAWccYptw45AAAAbUGbkkmoQWiZTAhn//6eEAAAR757\n",
              "DT7v0/moZx/BIJOSZ9ePu2b3nuXksF6F+Gv3K9WTFlPtq3wRPKnKVfHcUSrLZ9oomVYAU5MABwhW\n",
              "GmK6a4o8CfWdATlLt+SFwLUf5+vjGdAc/RPBez4ZkEEAAAB4QZ+wRREsJ/8AABNYkkq2ONCMShTQ\n",
              "jAmeAWoT5/yqrSbKX9fiXEu8pjKc3qfwjjDIChvuftZ6qNe4NUui+znGPSJNtlnMcj3bOXj1zEBP\n",
              "j2b1KBuUBQ+UlvlXOsfRrwdbgqJ4U8/gE5gJsMOSgrQr+6oKtYPYAD0gAAAATAGfz3RCPwAAF0CL\n",
              "UkeEp34VqekSRqIUlJ2yo3ugslvLRVgO+Inb0vuvkSMayoolEtDkxXqo3WeaABOr7bU32m6dtYa7\n",
              "TMQPBIHgBEwAAAB+AZ/RakI/AAAWskRekALe3ORZxUAh1BqfChocRXVuKlo4LvTeP/hJFBhjNxj1\n",
              "VWNUQyZbYXIBPYsK7BVPmXccmFW2EW9CbGdoc+BSUHZQ3hCF95LaeJkSMkItR7dOD1GepbTOdUhm\n",
              "ui0e0pv0eoAxoSswp6NvorJUxulncIGpAAAAc0Gb1kmoQWyZTAhn//6eEAAARb57DT1a0/AYZx/B\n",
              "IJOSZ9ePu2b3nuXksF6F+Gv3K9WTFlPtq3wRPKnKVfHcUSrLWDyPe3gaA/UAHXzibNaIBrg9oueB\n",
              "6bwSDrvstTdTXbp/9u10vemoU9pABuhZRorm8nAAAACZQZ/0RRUsJ/8AABLYiTaLYACvQZ1+SwHX\n",
              "Jle0QkQm89BR2lgCRMtrACe5E9BJuiYc5cf1xWAlBHAVrLGzDhweosklAu73o9M912rc9v0N6aXq\n",
              "jo5CxvJk+A29jQYOC9fhhSimAtQNvNch77QGnLCPY9O30f67V6r89iL/j2hKzcn6MVL9oh11+a4J\n",
              "cGWU+uibU05PJGk2AAx4AAAAhAGeE3RCPwAAFrJMFXAS9gp+bmR/JKmlhnSq0bk06ghldHg2EqU2\n",
              "/jINNzyW/VaukbFL0rRcl7M3k6bp68aRCr+8Lj7M/3ntNE5BHSEuJiE+Q+QOHqi3KOZ3lHf91MAJ\n",
              "w6ZwhsMouqvqt2kZYw8VEmIhGKMblE9Drw8x5vFoIteF1gALKQAAAIkBnhVqQj8AABYrNpWNlKA7\n",
              "O7ZfxUokKLiKo8UXCPSlSdUmVPwj7Cqqph91/1tpL61ljKL8CbJTLeeWuVPvU8x/TssQNsUcVRgo\n",
              "/biQWNye5ZgQmzwSoD9dttWRTjSGJWnaIASOepYFj9t3+tyPzGKeRlpZ/7V3FKlS6xRwkfW/Ml3A\n",
              "YbxKPAALuAAAAJ1BmhpJqEFsmUwIZ//+nhAAAEO+eylnp/hFMgCje/7pqP7OK6LR78TKecrc4T3b\n",
              "sLWZiGL2UbjXKzNJqDoAkskFd1CSBBPgRWDzvwNKBQ25FVxUzktALaX/NLj97zekVOj6aJFW3b76\n",
              "dbSOtOXwFzd+117rN+3P6qNov0U5Z16+wKLDGI+F8TAmiJe02DUM5s7P3uItuJa9uxuxCAYFAAAA\n",
              "f0GeOEUVLCf/AAASWIk5k7wlc8+TDz4rLko/Y+qy40b/O9du1LY7y5wQ1Qu730wlfyMtPD4IsKF8\n",
              "0zgpLLbaxTS0e24+a9WTcO9lI4CsWPpu/yKD4bGB9mlJ8NevhCvGbcJuMfI/agUSjtfwf9QAay0e\n",
              "OkmekVHThPoQZiAAu4EAAABcAZ5XdEI/AAAWIj/zj0ZpAynes/r6Wrix85RcTRA9xko7O2GySjYX\n",
              "jnnBmTpnF7TTpwKaxdkreyy3DOniqSe2nspQnTELvknCJNxd7jclKFmavMALrc+vV8AAl4AAAABc\n",
              "AZ5ZakI/AAAVkkQkQsdpdqQo4NnqoSdPxguUWF2FEfBndowupMcpCh3VNYdkofL9h3oeisupvMui\n",
              "AFj1aZtSx5n0E1fbAl+nQdclbyd2mrlaHAipQv9xSGUAA+cAAAB0QZpeSahBbJlMCGf//p4QAAA/\n",
              "aBGHdtqWfRryjgMGzhsFEgTNlsIzSzEICWUDV2fj143YoFcuYGoBuPLw9yCXlHqOUmNyeDu3gaBP\n",
              "r4A+minLOvBseoKYIC+c9ue+4RjavHtdJP/JX8fWl0/jJI3ZCteFKfwAAAB3QZ58RRUsJ/8AABFW\n",
              "tSTStwJyIWTHB3yeGLHl1eDAWOXo4QROZf52uD41fLB1UNU8e7RJ/a9lw5kTZeVpYR0f4pUyWcu/\n",
              "Ow55oeboUWi+UrJTS5QCVFI1C/m2nTs2eX+5hEjfsk72AEo3WTp4fCB1o/y0+4AAO6EAAABgAZ6b\n",
              "dEI/AAAVDDU9nqgfDtFuVVvGusGOxcXXf7McbHPVnFEBZHIgjieafK/+l1NRjs18lnqzmrNo9lgJ\n",
              "m8FdE/qvRHSyzRA3hgBdCD/1qllLfI2JulpNhYLYcSkxUA7pAAAAfwGenWpCPwAAFQUlOOK0yDkF\n",
              "R8NGrH1mZr834OsFwsVlf2dUv7XHHOeC4ZXcFbpgiMD7gyL3UiPs+JCKCjWMrAoSq0NgOB2donj4\n",
              "07qrCNAbBtD++gKnvbCkn2bkPbFHkul9H9zcS85uh2ATQ+M9Nl5QLjhHU7uTtNmQESrbAQMAAABt\n",
              "QZqCSahBbJlMCGf//p4QAAA+CBGHlfqE45BfgM9RfEGOsqWwLS64tstISyH8k7J+kcBktO4Mu1Ii\n",
              "gACfMgICgp4XHwEkWxmCx6jgpVqwGqxy2GWJjXu3gZ5bbJAi6OJs1pgK+h2GS5GsmpWLYAAAAGlB\n",
              "nqBFFSwn/wAAENzmpquAeg/wGclS7f1nzVEMWBohF7HzvuFW5+5lhmfutCMoAg3QLRfUXgNue4vO\n",
              "H6pwWc9GOZgBJcumCuhBAKir74/TxrJejiL/W6Rnti1klB+VSVfIEG5cvYgASMEAAAB9AZ7fdEI/\n",
              "AAAUfECsDL1EKLdPe3eU6oIGXke3QATsKOxhwKb2COhT7enWouW8oNB8YEgN/oebeEcD5NJDadau\n",
              "SHRn2GwseOCH5pSUnlU7BmWdJ9sBOvbK6rAAPqXLtYEYAWqk89bUUACdDpYfUUSgdpLYp8g1c0Mz\n",
              "fSAAAYsAAAB9AZ7BakI/AAAUdTbtcDHUKMzB6VewZT9jTiyOqNQ003aOO/iZXbZEUsmah5aySaB7\n",
              "yIJJuwVOU28X0QzS3xSiFfElsIQR9zMtG3fj8Uv46r2/+XulQJTo1QtscyOWblIAWWWkEeecXSLg\n",
              "ZeaSXzI+z7AkPWBnfxm6QhwAFlEAAAB/QZrGSahBbJlMCGf//p4QAAA8qsDhh/KgBES4/ZuP5nad\n",
              "Hdjg5PHHwd8+E+1/+BP4Sk994shnZlM1q+bpBoR1Uj4ZNZEwbU8mzuLuz46GI/gC3q65YOlkTUFn\n",
              "JqfC7ha4IHIrMCL4nNUhs7feAo3RLhXnKHsojJug9/XK35ADLgAAAIpBnuRFFSwn/wAAEFzlycoC\n",
              "/scwSr+KmHpQsr5ciTa+89+NbMfvbB3E4UUh+TiadhtF8j2OCI6Ojv+3wgHlGoIgND0eJM74o7XF\n",
              "lAQ5LMybm3KW8aRYH27/lwA5YKRvsDEKSt4lY1qjSXajVimF88p2Be10mOrpiB4Z0ftf5t93+cFN\n",
              "3EMB9IMADFkAAABbAZ8DdEI/AAAT4ItjEi5z6UcD2uRrZ9t8UTj83HaVATOKGSBSEx44piSClifu\n",
              "w9nCpTwMQeBqfTAiXPiJ8Wfl7NmTU6Gk+1nVi0gLIzwhWPhyfa1W5qIL3yABFwAAAHoBnwVqQj8A\n",
              "ABNV75xWano9Uyps8kmxPOBz76++BepvkbNlHSZERmtZPDo8ONl+PUrIm2Eb2dFX501uIlQYuSfk\n",
              "A+Bdr6DGRECJnvzsy4E0VihWqu9Re5gse4jzSGgA9SBit3PAQ8ERyjyEbfpY0T832z3Ge3dDJAAS\n",
              "8QAAAIJBmwpJqEFsmUwIZ//+nhAAADtKwOF+M8mY5BfgM9RfEGOsqWwLS64tstISyH8k7J+kcBkt\n",
              "O4Mu1IigACfMgICgp4XHwEkWxmCx6jgpVqzqzSukMcugb5NKkpIRGFPTnqW5AIATHCFqxqDyoDfz\n",
              "LkTO+WIFfun9ny3/1VDow1u8teXhAAAAcUGfKEUVLCf/AAAP4DjLyA4eFMfcfAPZAvzzv0nlQxOA\n",
              "ThvrSD7E5rnr7cgtU9rVD/qRts46z4bRo9W51zaVmsuzqDtlaQpePOXCUMchusOdgpw5G91jggDU\n",
              "s4jKZjxKrnW+AATXeDefKhZgAplgAJOAAAAARQGfR3RCPwAAE141Dxsh8JgZ8aHWxm8Zf82/CbUf\n",
              "4bCOj6At5pHgbHIB38WLtBA573+yGX2eqFUygXOqES5+k2JIVgAEXAAAAGUBn0lqQj8AABLdNp7P\n",
              "VA+HaLcqreu5ovK4N2mMJch0RpfPpEBZHIgjieafK/+l1NRjs18lnqzmrNo9lgJm8FdE+0lP0FiF\n",
              "gBNdmREjvwgoQjeNCNB7cbDc2PwNryvg2Ymu9ZQg4QAAAJtBm05JqEFsmUwIV//+OEAAAON7jWYy\n",
              "Y4/bARRDMAH7a84lY+J7dqh6x5oprMDT/1yPvvn9vdr4fttwUrl3T4CLZVNwydHGc2E/lQM//fD3\n",
              "BCT9MVJEqx2SepUaQHsjOfhAjg2qI5/ThQR8AbVCcwfT3d6zCb00KMc75ytLdrLB1gNg788ZjWnw\n",
              "Kppk86GRn6VBoujEicUdV/jWhQAAAGpBn2xFFSwn/wAAD4g4y8eYtLlS3un1QMMcaFsVMOKeBLXy\n",
              "L/Vkllxh8FkGiA1qsrWqyfVkrJUSxmq1sxGNsyRRdaK2YvY8dFXSzuA9PPWT1dLfS6lXtRTb0Zp0\n",
              "g1+Yq1ymTsg/gO+DOh9wAAAAbwGfi3RCPwAAEtXnkjhkj7rr6bP6+lq4tBOsXFdQQNjzQT4ek/+J\n",
              "UeJ+qKL2836K6OVrIYuyVvZZbhnTxVJPbT2UoTpiF3yT//ygQXRACZjf71/7lPeEQj55KqGFPLh9\n",
              "RzU0FAn8eFwVadhCKKApIQAAAJUBn41qQj8AABJdPGVYARuBhZ5zIE+TWoolIWCIU9xqLcNswoTY\n",
              "aNT5W9uMxtiG/cYXwM8c/7w8GwnWZkt7xwiwvNW0jhCzK4Al1Q5X+8y4hModzKG3JNunXS5BTEmk\n",
              "vqmFb/6Ds/QrlJxEha2GSR1te5GPUpP7H/BttsbPx/4xwrGZFfYb1cSRyhs78fVn8TX40oMccQAA\n",
              "AG9Bm49JqEFsmUwIX//+jLAAADk+9s2r9XFd4xDj4xZj/inu/UyLlY9zAz1yZwLDB14VkKiIXqrQ\n",
              "qkDkFU4kZUl3OnMIIK5Awt7H4OWc9U9NzB2MCxntzWAADlt6TYj5YakJZnImgC/+uxsZk0VkNSEA\n",
              "AACYQZuwSeEKUmUwIX/+jLAAADeyONUk+ACMk/7PnKvmbj1lWn6hKJpa3NDeLmuGykMygx2PoZNk\n",
              "fF15jIFQlaROuuCouWlbWjfunLeX+JGv441y6HMEF4Mspq8bVF7M7X2QdBgNA/AmnJc//m4RlSbT\n",
              "F+EcTSM8esYFSfru6GcvFeC210BR6wojECA1O3lbbM+/rko0Oy4JTugAAACmQZvRSeEOiZTAhf/+\n",
              "jLAAADeLDwXAAvucMGD3KgrNSuVhnsBtLXo1w1N8a69VXS8kIaf/2SlceAH+qk0kqUa8hqvDaJsR\n",
              "TY/6Np/CnmCvjeo7uEsGoLMRVVbkFnr/a26vHeoA8GnLxnuvUwql6Rud4l85XYiEQHXl/XYfrFzx\n",
              "PSgW8ljNBDOiwHvMDp8WE0QtQRQE3bSJ6HsKxGrDdAotuNPsVVcR/gAAAH9Bm/JJ4Q8mUwIZ//6e\n",
              "EAAAN0g1/cUhY2AjAqOPOudAEcGbpuKqef2xStjohGXJFM1pFBLqIBNaO7Y5/PRfN7M84C2wPYYs\n",
              "r451B1duGmFua+Vdh+XDB1D+i6f3mYYJY20b/3SakD/sknLqlW4f0rDDth5Q/wetKHuz8/9TGTGh\n",
              "AAAAZEGaE0nhDyZTAhn//p4QAAA1672fEAG5TAzfnbiszQvPFaI7Mqpo2q8iiRIOdujyLOnUXpWU\n",
              "2I5WIvxM16SptIp+DJSlSuma1UrQEiYNMwPciyKpl6bJyBOEOtj4lB0GJMYEGzAAAADQQZo2SeEP\n",
              "JlMCGf/+nhAAADY/kcQdNrDH7dM9n8lnOsP/+HhsFUpaUx41Qxp5qUAdyG4/BrbTwouDMZIJrbay\n",
              "vIK1ueCitWL91OTMtWwlLrwMxk09p9JlPiFrPysHW/4cNMeDeyMc+2PM2xo6qmY6ctuAKMltKita\n",
              "fzNSbH516CFW7GQt7Ql2TcmOQ7tNBCEv3vd3KFBWlpBmV5bB+nG4ri78Kctls/0itXhAJ4i/YvtR\n",
              "15WSXE4bFOm4Wy3SK8iFc5enSNBISp7czyeHa+jugAAAALNBnlRFETwn/wAADoM+Kd11nekAH8IY\n",
              "t/GHk1fKStqG5JKV+7m1IWlqx/B8g9k5bqi/mS99KmDqJKOM/xJfR+9/7H2HRTfWUonhPBQuXXWk\n",
              "LV/bBt5vRoQ3O+m+SFR0YH+ZL8QdBfb59l28cly44bJUyv6z5e9r0LEC9AKCi8noE/7jnc3MhScB\n",
              "uklazvdT+72gByOW8DbGCKZp12x83085NLcw6ufSTgJa0UaJFmvAbIAMqQAAAIwBnnVqQj8AABFd\n",
              "NozDAMoIYmQDktewV8uQfAiYmvg947TScJerqY10LBwMHfZzW7qbcKhKfDJ9hV6Y5biXMBDwJfLX\n",
              "t30khv2t7Eu5ioRjAASE30S7Wj+Uq3wPPilpLfsPaAU3DioAAnGJXSY6vfjeYD+HTdKxQBMtuZ4+\n",
              "bhyYHflSmL066RCpVIACVgAAAItBmnpJqEFomUwIZ//+nhAAADT8JzrXcQ/fH4/pQ/rsRRSB7cWe\n",
              "gvnaf0pA+WYTiVadmEVuedFAxsZ/htYfRGS8j6FhL9Qdtv7J+tvDp/n4MuDe9+bnokzRn4sj0lAQ\n",
              "iUqnkbvnCBfRtAb+4PVqzV7BcppkmJqCd5enIOBrjd8prJZ/SYcsypeZwEXBAAAASEGemEURLCf/\n",
              "AAAOJtjH+CLPvu4dANhuns12qjBvLnktIt8Eq9UxAzVkvFdnAJ1K4DElqkKOaoG7Ne5z5X79+FSr\n",
              "QQOd0AADCwAAAH0Bnrd0Qj8AABDUsg6QNfkACxBOq+eKxvJgPJiWqOQLcxnaef4dgmKn7lVSCwRw\n",
              "BJbYSA+injLnv8RYYORR/gmtJ1DxHcvum0jeJLzy/SaBOlZzgva6R+X31d2QoQ1KLk45dq2tz/yv\n",
              "aPo/1DpYfUTIb9D0HeKvUaND0ADugAAAAIYBnrlqQj8AABDX8S+RIARzwR86uRi9gHlV+cFMOn0E\n",
              "e4tI1BmTR9+8EDHSWxWHUyf2Y/4Rq6HYr0Fb7y4Zz+HYfVpCUebFZ6yhjvrTQEekM/ZtjXPLtJys\n",
              "fihcd1wQBL9RhZDrM5qXLQKZQz5pegkpfKnOcRe/xaORYFIXDBbBKtLf2QCkgQAAAHZBmr5JqEFs\n",
              "mUwIZ//+nhAAADO8Jz96d22oQLsFfoiGQhbgUzNIWIfDDyClgokUVDk6/xVlagDl6xNuw57V+7DJ\n",
              "dF3umIpqr0l77e0+y/fAVjRTSE2GkP2omhmfIBfwAupIiEzPlfT7v010g1bs145XFThQfQt6AAAB\n",
              "GEGe3EUVLCf/AAAN0Ss4mdnnTcDdillFhq7fU/+2W84eQXxhK7kx2Q2R0CsljQSIJZ8XeuCubPdg\n",
              "zHnYmgTB3gWS54/dUPZvP+Xy5bQrrbjd6JPIWSDChE1rkUrOFHsrlNYli4R8k25y8B+q29GJiZph\n",
              "hzzb+tlF0FGLNryXpWOCLE+8LE1hYVrAXKyWUTfY1SbSzfOiSB2JSRdSDsOl+m29rAvVzPLZs61p\n",
              "HiBhSWZUK+Fb6cIxmvRFPIOeAo5Foh0vPgAvhwtVsbl7GhJ/Rv1gdXv2Ui6+qqAIN5gKV4VFTElo\n",
              "mA5HvN+6JeSZxk4hV+mxGzAUU1VBcaTy3bFWaqByN1mod2gKXbMl4QDsDYwUslghWm8ABZUAAACM\n",
              "AZ77dEI/AAAQVLs/pA16kKHL/6lr9UEBZaBFom5U4TcNXGTqyJBPf/xJeQnDFHTscQFJgbgaNFfF\n",
              "uze4ArBx6RZYwYUiAShbLfQ0bTkmqV9S2Wdu5WdnORM1agBHqdJ3ZhbNda215dgo8eBpZB+dO0qW\n",
              "LKCOZV2F5Sjuzk7swaAhsFFVIYyTeQAA5oEAAAB8AZ79akI/AAAQV/5+xrna3EABL19HMGWLwcU3\n",
              "PlQi3yBiyJhDd5/ejUlka3N71rF9zfmhJAi1Pu9nrwp1aRDyPezCS8NnfPX3VAMEB3e8wleFS0tS\n",
              "MmaAzvkepxf+u8J2j9eazfmTlkuT+R4b0jlooN8CGQzffqiTzwALKAAAAK5BmuJJqEFsmUwIZ//+\n",
              "nhAAADJ8JzvoK4QeBBbapqw7eKavpyXh5XqPV27DWs/bnkI58jVxnftcHB3CUVujphhKeS6JOTOU\n",
              "3Izd1TC7UMurc6oJIa1TdAXIlznW4WhCHG4bUAY8iPC1NrSABp2taE2zTLU5Tch5dOlqVUmN8pl5\n",
              "7GscHvj8RSTUEa5gzUgV2ACG/aA4KFlxfFRquqKRk2bBULzZkorVrBSuUcNR3/AAAACCQZ8ARRUs\n",
              "J/8AAA2AnyeaxtACtHWjy/PmMPh6liSibFXZBR+IYqPJ5HoCkfhszGYWK+tAWn6F+PkYAfmmZTTn\n",
              "pf2Hr0T8Z6fj5eNRB4A1KO65AHoJIm27M+8lI+EmJDLo5OpI+6upj8tZ9WrDZO5JyejkQJ/mmzuE\n",
              "ejpuR2yJCGACdwAAAHYBnz90Qj8AAA/dY63d3hc2dkRu2R5EaNjEJI1e3BKm3IOdMlndyyAFy1bj\n",
              "m8DYbTn17QE7AkzYYoi98M1GjqsCYAZwf4ph+cQWxc5F+sqGucfEphmzrWoJ5DNI0hGUyLxlNNcb\n",
              "pUap0MmH7Pn8gdfeoie2ABbQAAAAcwGfIWpCPwAAD4ZHWBviJIdie9Jv1FzPVjNNAx/o0SoV8uul\n",
              "7nPHwT2iPe9rYZyqr2OQFGm4qWMztuwp5noz7pgEg0pWOwJO23LNkudQAsBRbACcYldJjq/p9UhC\n",
              "NFtKyZQmmHmb4MA4uij6z4GiXAAA6YEAAAByQZsmSahBbJlMCGf//p4QAAAxPsahveYV/AYZyKk/\n",
              "jxdalO8AaBgPdPJs1T2UNv38+vG7FArlzA1ANx5eHuQS8h9tRRe+5nnmVIpeeosAAshCpJQ0O71P\n",
              "koq7S7tfLTv86+5IUSSsI619ZUohuAmwk1GTAAAAdkGfREUVLCf/AAANMJwlWxxoOI+/rWvNr1RC\n",
              "uohrWXvPLjHawdIwrQIPFss/fKPNrGMvvs/YMJWWZDjemmRNyDplOFMMZJLeGYpBU+sZVbGfkRPk\n",
              "8OuauBf/AXGWvCXKIykYQn8kN+4HhkfT6TJtR3o4DcAAE3EAAAB8AZ9jdEI/AAAPjDys6PDUIGKr\n",
              "wZ/yBDFlsmO8vuHykEo+nTe4baGKDQCPD+4kcUdE8ytp751B64Ch6Jjp+ctvgRDayc+T5siVfqM9\n",
              "EfxLpB1dTriYPW4vauaAAJyN/86CrsfesswfPJUZQIk3YNdUYBR6Sf9jTZOEHwgl4QAAAHEBn2Vq\n",
              "Qj8AAA8uO2BviJD1Q5fVpCur8mUPsbIzfBTGrjWWFoyhzcF9ttHB2luxHSnAte3TE4kTwiykMXN4\n",
              "6nWFv3GfTCk48G0PVSi9PBZ1wv1E3LqdZwGVg6hOIZW2ZKOgA9MqAmHo+b+40rsuw5A/wQAAAGZB\n",
              "m2pJqEFsmUwIZ//+nhAAAC/+x2D8RXg+zzcaiWeC8Le4H5mtVKN+XYgCDABwoFoBC8Y6WEaJEPIu\n",
              "mU5ZS9d3jQPsKHS/4+JpBV/gz6t7SWYSsHqbUlbj+10v/9nMt2HL/Lbou4EAAACQQZ+IRRUsJ/8A\n",
              "AAzgnCXlHGg4j7+ta82vVEK6iGtZfD88LOyqyJIx0reK/wl1lLl5zHO2fTHfqkpAFgbm9D0d50ST\n",
              "dHKzSTo6Lgcmgc3MW8Z7eEb52zifi2Pg1YFr2MlcmhhOG9+81hMo9iKZ9gBCnw5ozHPyYLHigPSd\n",
              "PEt8YcdHmUt8SL9oxziZ9CAqwARcAAAAfAGfp3RCPwAADy5MsF4B8kIwAXstig7iZJGoQAzKb5KU\n",
              "jAKHai9ZaSya9OHuKT2hGa5dyKq5LmMwNjUzJGcDIVoWnCYZcuPP8ASMxDCMREpwPcIiDEnMAAlX\n",
              "InZKz44VZZGgCFG/A0asfWjjKP18NMJ6PHGjGpkbELB0BUwAAABZAZ+pakI/AAAO231STVs27r4F\n",
              "DK5juZ1EKVIKY1GYLQrB0MpRw2tnZy0SXxg9R+RRaSM/9esc9MAcZp4APFoHxbDzIiOSV0SneAGJ\n",
              "5EMq/VA2OmJQ3eQAEPEAAACHQZuuSahBbJlMCGf//p4QAAAtnMuda7inIAOLC1vk9dDrdpGBCO7n\n",
              "grWnOBCd52R6vWqogyrsI+23AD7OTBlrtUOOhSP1oau9oYqBLd1y93t1KJ8VUnRLyLc41uGIQbxo\n",
              "Gk/+OxPMOsug+zrBTnV20SymEifcfar3HtMsQJCfQFGMt7U0ZBgQAAAAb0GfzEUVLCf/AAAMP6em\n",
              "aVuBORCyY4O+TwxY8u7VnnRzCUvBMSfjIpYXoV8sHVQ1Tx7tEn9r2XDmRNl5WlhHR/ilTJZy787D\n",
              "nmh5uhRaL5SslNLlAJUUjUINbohvXm41SBxV+Y00ZdbJS/KMHABZQAAAAFQBn+t0Qj8AAA59Y7aN\n",
              "d+OVhVHRBmGCn7XKzfXf7McbHPVnFEBZHIgjieafK/+l1NRjs18lnqzmrNo9lgJm8FdE/qvRHSyz\n",
              "RA3hgBOtlTD0KN/jCPkAAABUAZ/takI/AAAOfkdVSwCWt4SDFNp5fcUqtRW0eywWZ1BosPbH76C0\n",
              "F4AAjllGLNc4Nnp8uiAEyxLEirdX/AEIOL8f1GWHbSFzN8fIJM5t/+OoJBDxAAAAZkGb8kmoQWyZ\n",
              "TAhf//6MsAAALJ9XVUu5hRhEcUuNgjumQAN3++vpVlJ2aPo9Gx0l2SIABswDYHow19AS3o0dAKNX\n",
              "37FBznVw3038CpD962AdQI0LrpxZhY6h33gW25wpBxxUzyHK4QAAAEtBnhBFFSwn/wAAC++mkhuu\n",
              "IehWHQDYbp8UtYnD1ERKQsV8Gag7DVSgmigbQXgGGOWMolpOET/6hKRHL/Ast1jcVqxdOdIkgSII\n",
              "DVgAAABwAZ4vdEI/AAAOLDzBmzMPxeZB3dNL0GMbQ6JVsFachFmWNgILLh+ZhEW86pl33Kb5zxdN\n",
              "wAR8AtbuqpK3Edgn8xwgewmE3xcsuwfjtmGWfdfp5Xu1XbengA/TMkgiTvQtS8x0gdu5VqmBTO7l\n",
              "4sAPCAAAAG0BnjFqQj8AAA4n+na4GOoUYuWP4xTtg9zcbOyYriKxxwos0bs6+GjkOhfIu+Cbu4Bo\n",
              "sNzJJT8QRDTq2QMp90/P18Lf4KDcgxOZ1CTNFWKzoXseFBizD3+YQG1qAD4fAoBJGZp/rCo1zECz\n",
              "gAi5AAAAf0GaNUmoQWyZTAhf//6MsAAAK7zLjzvXfWy5zBdOM8LEy1fOAAtX+/HD9zaPDa2fvClz\n",
              "ZXmf4M7JIoZzt7D4U/LIM/eIe3BDTrNYt9hDAWot1WDa8XLRmGkOhA9AmFLYm78uBReu8BUi2kfO\n",
              "+uGQRHPCvCxmAOZffJLb/p9Y9y4AAACQQZ5TRRUsJ/8AAAulTQ1k13k5SundhfyeKrHn8y481OZG\n",
              "mFVsk+9BXAROvsg6md1809QT6cwa4kyI7HLAsJSP40qZrOYfnYc9EPN0KNRfKVkppcoBOikahxHB\n",
              "Hy9hsnaqlrYuIdz9tU7vyHUgA/79JbL+SjtnSwHehVfXZMVd2FWNYF9Md1s/tr0sHLLJhAVMAAAA\n",
              "egGedGpCPwAADdQ7ShHrXL0fAoZXMd0OvROK1g6ncuOnYOhlKOG1s7OWiS+MHqPyKLTXFUKXRAC0\n",
              "TGwcGGHA3NQ4ObDKGfCPZhP4LswTgovLRZRDIafLTCeIt8auvKupKegxIJz4KUVidBZ8QrYJsmyw\n",
              "b/3U8w4DKC2hAAAAikGad0moQWyZTBRML//+jLAAACpVNqgr65YAiPcBsuq/BU2uEOEJqnclU75A\n",
              "2fo99IVzUQa8zx/s3xtNQorDqoT6m265Ozy2aLl5tMeOcC6aqIrjVbzoMsYHCllff/2NBGn+qZCv\n",
              "pHvFQog/SSOFcX24RX/0mGrwXSXbWQcunelf2tbZpY13UKA3oAAAAGgBnpZqQj8AAA2EPiqxl6h+\n",
              "3vn0XLyjONcfgf4ZPfBKRkNQ+8E+268Rn9tvo4Ks90sglC36LF1bOYTc3x8gSHiFdlNLQHl3J2tN\n",
              "Uetsp2S69OytHJ0oHU+jGryLnM0HAJObNrWx7YABMwAAALVBmphJ4QpSZTAhf/6MsAAAKpzLkxlJ\n",
              "/5dgAtnvVrCEafaSiC6DLzF3Q9vygBXpI77/+z5MHjC7zY7ehKYTBXtBlPmtAXT15LSrey4A0ZVz\n",
              "fQdYDmMM0g5ywNDvI8MW/h/aPjOoOx+By/4OoxOft9zuTeaDPkyOe26XD2FD/b/AUn+ABtn/HifH\n",
              "fs+hTLqK1XJFrgVVGfdffeBhYy8laPwQlCOe50pJ+HPlF1eCZDmDVoki4AStAAAAfEGauUnhDomU\n",
              "wIZ//p4QAAAo1b4t1IAW8MGZCsp4FWQyBnw58OsXXSI15FEiQc7dHkWdOovSspsRysRfiZr0lTaR\n",
              "T8GSlKldM1qpWgJE8wH80Hgn6LOp8kmyv9A9x6MdLZjIIJ+san8Oq7WtdwpiNZfTgAkoOPavrwoP\n",
              "N+AAAACbQZraSeEPJlMCGf/+nhAAACjVszdSAImT/+zn/xoTHDnw6xddIjXkUSJBzt0eRZ06i9Ky\n",
              "mxHKxF+JmvSVNpFPwZKUqV0zWqlaAkTysRMa4hafmdDoYqJYWnk8/UrTqEAQgEnK9gE8oEk89IDL\n",
              "9djf7X5trsk+4wJZ/DZP/vrAEwUPmK1wC/sO/KAtIQqyHJ5gPgMEuLdeD0HAoIEAAADiQZr+SeEP\n",
              "JlMCGf/+nhAAACkb7zw4/3xAqf///B8YbadY4d/5I2JHRcZkNOJyzarnm2doFHvCyiqosaNzDafg\n",
              "jZqMkav79ddbiKTe+gIkKXiDIO+0352x99Jyqkq8uzcIbATUA6GXLFAhPBJSBtIsoMNVqQwGzUz2\n",
              "T5UHT6q1RL9urEDA6Hom+mLqdz92s89IXQhzkbO/WTdHO+SC3IZclfGnzXkTkKxkC+tqGsxJ265P\n",
              "jDrWcj1p4LIyPpYA+q3H1vEbj1C1SxRrKwiGc+sXGD5lb2jTRuoqATBiNvc/npkf4AAAAJ5BnxxF\n",
              "ETwn/wAACxMpJeNidyn6Qsi1ENnYswTVoM5BJeu7B6DsC2qugMvry0JqshUL+4LAXRth7GhuGtDW\n",
              "UIE6aMyOW1Swh5mmhpkXOPzp87/Odzsc7HHax+1/+f9nxFoXhswdLxNzQAJvvavA18IDDb5gdFfm\n",
              "4XBlLRCg4NUoDv00XTqiKp+Jbh5hAUJQst2QcRETziybBExzWACkgQAAAJgBnzt0Qj8AAA0vxhBu\n",
              "SAEl8qmjTFxLsH22LKhxKc08a5YkX8ry/CBhXlgiAY8LJU1OJnk3pNClzma1NJPfJUN4hf3VZUuC\n",
              "0AryQzUqE5AJIE7eUinHgTexuwZ8NWhsaRQFaAZlu8EYT6f10pe0WBAHcCXLq8f/kylh3wL0Iyf4\n",
              "q9glK+mxlN2T7AtJdhyHetm8EuNzXrgOmQAAAIMBnz1qQj8AAAzkO0rGylAdle1Cmroo2TmfoE2d\n",
              "OMRikA21gTKoshCHuP6XST+Nv4JVCHewYtoxZTaqFoS4ePpI1FRovNdD6ZiFokAjceUjZkUm3uhr\n",
              "qOsqR5lpfHpSqADtvVPqXkbFkPs7fjRB7YEcI6cYdTV9CT0cqPC0B96PLACdgAAAAGdBmyJJqEFo\n",
              "mUwIZ//+nhAAACe96YzduQlAvVeeUuU7N0E4TlFeiEF1ikqX5wLeALTAleF8iAxmhtkEansndZnq\n",
              "D+hEgHWUON7x8TSCr/Br9ZuvCH1Z1wADj5VeMAkdYtblJn8+QO6AAAAAekGfQEURLCf/AAAKyySc\n",
              "yd4SuefJh58VlyUfsfVZceOHyCZIGi5esD+dk2LnijC4p/Vjj9Df+qC8AGFunFS7OvRZR0UtNFQj\n",
              "kvBw6hzdRofnr4xsobLJ+Fa97XgStYiVyKOF38e41rBggAZAGSYh6HB9N1V0NS3AACthAAAAcAGf\n",
              "f3RCPwAADN+/+cejNIGU71n9fS1cXgMoKUDGfux44Nt/uP/iVHifqii9vN+iujlayGLslb2WW4Z0\n",
              "8VST209lKE6Yhd8ka2++1ACNkidj9qp1c7PNmipg26wibTsya+ysVg2era2hzLz392Ygu4AAAADR\n",
              "AZ9hakI/AAAMj8IvSAFqtZsV1juTlgrHLNtgq6v54VXlUFed6emJ2ij3ZNmjZsi03mcTK2872U4d\n",
              "0V3BgQA+3j4y2YR2/4CngXkIPuDwrTjFHJZX8ItpyQYYvAxASilvGlcn2/lecNfjAAaGyKVjVR3q\n",
              "5AiSHeugt3YhsuoaQ/it7YVXQ68BvZP90V7KwL2iI79BGoHOMX7DNiyV6sVFB7B0dqbopc/Gd4yW\n",
              "1Nx4j72G0BKpUkDQBG83q1wk3wkhVwyx6YTMaST6M0W3XjkA3oEAAAByQZtmSahBbJlMCGf//p4Q\n",
              "AAAl3z2hKt2lj71Qfs5C9OCQmdlCv58hIOl2LU087O3MIyfOF4BckeyWie03h8eG49uyQ/6XSUAo\n",
              "Dgl/NGmJL1Qdzo0M9F3qeenZkK7AG+5LMfa+fHls2HlXumepnNk4Li3gAAAAiUGfhEUVLCf/AAAK\n",
              "OjqWIABVUU2afRDqfv73jnmOYYPP+KpPVoW7YQvK5qA4u/Jim1acZE0a9JpJl/W0TQNqyywbOuKY\n",
              "WOTer1QQNhEoj+WJwTpMZx/D9lksNGHponn+2iZagdrbHNiUOnE6N+IADiZVjMkDjcMyj/LeN3T+\n",
              "gr+zlfojpOQAAImBAAAAVQGfo3RCPwAADES6ns9UD4dotyquFHL7OM5MAGYi1ImOsUHQNvamLyjW\n",
              "OKbzG4nYFAOaZijYtOwqGUF8qqFfyQ9DN4as3vmFyNqgpq4Gho2JO0AAPmEAAABuAZ+lakI/AAAM\n",
              "RDtKEetcvR8Chlcx3ZPRNBxhcUnKkz/PHc//HfehPuFo7K2r5EhGJoELlgzWK3rRZajS6iAFrW22\n",
              "2JMDKW/v8ZRuxP4dvbGJi/5NTEOb/LquFs92dCwZ1HV30cZSUABw+CgAccEAAACEQZuqSahBbJlM\n",
              "CGf//p4QAAAk3z2Gn3ptADVUWwrAEnfkPPxvoIofcvWNy1/LXKDyhcFp63BAdBAWauD+uGbfUV6h\n",
              "maRTDCzBIrw6jI8tpu4LfuX2cObRk/T1slBYnjeh2dES0Y3hRTBW3nvHgESL8jXpTlQ8Ece8S70g\n",
              "n/gSF0ZIQHTBAAAAc0GfyEUVLCf/AAAJ8jumaVuBL3UYeewPyNh09kzCkp1Zd5LD42+pHDnqxpmd\n",
              "ucwl/eQKvt1CS+z7GvnNOYUFigpIjt38X9ixYIXGDpIjzlLQ/d3J2sHerFel8ouNdaiXvj6fZ3ZY\n",
              "C/qurdUJwFqjIaAAIOAAAABxAZ/ndEI/AAAL7uW3M3WMBOuivRTNBHHm34Tvj8qqSgNqJ7VzPCpv\n",
              "WP2yK87wm5cXJSHFKBuj0EV20BFaFlPnghYBdym9R9fGJnl5fVoxguzVM8r3artvTwAli0lh3fzg\n",
              "15joVuU3Qc/rk7VPQlAA2oAAAABrAZ/pakI/AAAL8Tt8XgY6hRi5Y/jFO2D3OsdpNEhEQfQtPqjj\n",
              "8T3ATDoXyLvgm7uAaLDcySU/EEQ06tkDKfdPz9fC3+Cg3IMTmdQkzRVis6GEnT9sUPQX8wgNuaoA\n",
              "SStX+MdVdSwA7o6gBrUAAABzQZvuSahBbJlMCGf//p4QAAAj3yd9b+KkwDsQr4PNkVSqGg7vufzO\n",
              "jzJf9U25nEzNdAzptFKJXXT5Ca5q1Gf35MNyunbCvD3MHZ/b/AODCe+KEkJjD4/r3Yhr5NXn8h9Q\n",
              "AlNnuRTonf8gIqXuhqZG2BZ7gAAAAERBngxFFSwn/wAAQYXcoE3FcmQrIErRmmxRQy3uKHgxjM8X\n",
              "txleOMViNy0ruNr4zuEIVXLgBE5+zR4sZLXTv4jYcAATcAAAAIQBnit0Qj8AAAugS7kAAK//0H7t\n",
              "hE+VmJ/cDXeXQr2AscLyPTV3Ds+4t0UyMvvUC6KzmfG3RyI5dYwuWxdIQ8JW/xEnLQJFvoZ1mL13\n",
              "DJnNf9pQo+Tk9uWipzSosekfqomtcDpE0ZqVzixF2rxxBZnEYS+YctJMTKUK6YVE+Pz5TvIAWUEA\n",
              "AACPAZ4takI/AAALopt8bkgBLeJNHZ8pOQFWwYk7gREYWoD8uLD8MU999cFr+ssq2wH2a4J1doOx\n",
              "Nc9OcWZMdm3u4wEUZTfc4wWgCtPv33K2jdiiQflJOu/5C1gxCaT3wuAlgTPLuA+ugTk2VKO2kZD7\n",
              "SZ1EtCbDbpBP0ED5ahuFTzfuYjQyYXHGgIJDayXwAVcAAABuQZoySahBbJlMCGf//p4QAAAi3z2k\n",
              "WOKIoAcBRy2nLXKDyhcFp63BAdBAWauD+uGbfUV6hmaRTDCzBIrw6jI8tpu4LfuX2cObRk/T1slB\n",
              "Ynjeh2dES0Y3hRTBWz/xWEF4R96ffbuhn6Sl83bjiUEAAACGQZ5QRRUsJ/8AAEGF3aIPlLgggBpu\n",
              "VudPYcCb4fUdqFj6A5+rYiscO2E+Rt+Kc77FccSIn6qQtCy4upZzg0jnuoHiPKtH9ozCLQKPu9hS\n",
              "ONOefH3xPUGWo+KA1O/eRdKoMECayjBRZhNueIeNqgYLacBOLt5UUKoM9rOuY4TJPf2iMMDgAUkA\n",
              "AAByAZ5vdEI/AAALXiBS30AAmDSelhLD3MBscFx1qmGYnyNbxe1XJEpMtOKU9V9IOWdg7l9SSKQb\n",
              "Fkn9Ch18/S+p+BUdNitB/pa39cH4+wOrVjL0Lavywq5WVd2EPG3/YQK1FYOmqETjd2PcaLTGbune\n",
              "AAH+AAAAcwGecWpCPwAACxWbT2eqB8O0W5VXEK/uNm/NGUdl6TLVJ7yQNvamLyjWOKbzG4nYFAOa\n",
              "ZijYtOwqGUF8qqFfyQ9DS3ihu9Me5VaAWORLDACcYwTkyYHsTmuVLJ0n7Ck72YNqlTI2IKEWb60c\n",
              "GZCwdIQAAcEAAACQQZp2SahBbJlMCGf//p4QAAAh3z2Gn3ptAEEkOZ/pFARG3EYGrodcD0rsQ65u\n",
              "2WzCR5INe9GDkUXbx3zu1tUHIrl8LmkMJy9jM6jAugBZYFsokRHL+Bw/SCEZ3qfu5Zf8AiO5mqOi\n",
              "SOAyrrmiTxcKLzbb5G1Q/H/OVKYst/zSs+tddNQyHecASTzo9LPyyBdwAAAAk0GelEUVLCf/AABB\n",
              "hd2dt0999vvADYrR/3Z81NOTwIFCyjLat2FqiE7yA8w9S7fDIHGCt3EGRYPwv7SiTyizHwLx3gMk\n",
              "1dzjXdqnwN9PtQO6yjnO6XBR5iKC1EdbIF03LsJKtT3ZMBvIEwJjoB0XVZouLtsbr1vkX6OyjmC5\n",
              "sySdcMz7Q6d1YbHajru8qZJdMAABJwAAAIwBnrN0Qj8AAAsRH/nH26JD8AYphVqjkj8KvibW5h8o\n",
              "JOvhYwXxSwk8SWbW1irT8SuZ9IF4api2vSGS+/uOQEcBiE/7hH5VCqyhiteCGVY7ybSiLech37BJ\n",
              "s74HrvSXoPaNPw5QtK5UQAKC3SXxEOoAPfkvjpqejrFiof51Z0aC229oZfMgj6o2wAAOmQAAAHoB\n",
              "nrVqQj8AAAqm9gzC37ZEYDZfaBivU3QDlrzLFudS8DaGkHs+wt5tIc3AdYUFqhbTG/Xf7kwKrMuZ\n",
              "WiBzVPaLuZfKGK6ZhSWIZjunCYclxsK8r5b30JzpqQaepmZScloaqIDCBgBLQQ43lMfRqYq2e5sX\n",
              "LrOcAABgwAAAAFhBmrpJqEFsmUwIX//+jLAAACE/QkmS2ill4j+/MSoapu2ta3mKdPdJaczpWIc0\n",
              "cPRaxapqHf1YSVl9wnCkPwz+OzomJrCnZqQc8hnXWz7HAg28lH58arxXAAAAWkGe2EUVLCf/AABB\n",
              "hd2ZuG7OEUCiDJ8GjCkquXV0jY5FUJOgArEiNVkvfqTYeySTTnV42QdwKL/A478xIHo88r3G5nQW\n",
              "DA57lXJm0lQbFxbBm1qzzADc84AI+QAAAIYBnvd0Qj8AAArJH/+/cACw9/e/FuxOa9HGuFt6Tcvz\n",
              "MsTcQ3eGyiN/ICW7GbGUPLXRTzZUw+DCd2KlGK988PQv3LYwHxNzBQfRX26pxVgzJvax4XNF9i2G\n",
              "V6GQTzhpS+jXkscYPZmAfr+LNEt1hEitYxC4qQsr7+TB7q0AC5kIb0sOj1ACkgAAAIEBnvlqQj8A\n",
              "AAqFm0rGXqH7e+fRcvKM41x+0bcJvxIujIDK2bfZzndSDQa0zXNwJ0pgLXt0w+JFpJxD5CZvFU6w\n",
              "t+4z6IUnHgyh6qUWp4HOuF+mm5VT7XHT/opSjzE5gAFzgUvma+8rubRG8a9TBSnGnMlpYDgd3obP\n",
              "wjONJ1oAKmEAAACQQZr9SahBbJlMCF///oywAAAgP0IGvWyl9B6d7MeIZX5LhTtFWX7wFqr/fJHG\n",
              "o0ZHBKIL063osxZuIduuilyGlXgGRuzt18LInWyADfK4LP/LNXRrLB1gbJvQBno2o33NY/swAnHh\n",
              "ttCEm8HpiqHvDJXApE+7kZ4+kxOl2DaSmSE+JwZTLqlbiyZhOdJqZVbMAAAAWUGfG0UVLCf/AABB\n",
              "hd2VuG68o4wgg0yAssWgYGxvwcf9Nu8ih2AuvZ3XvKkpMKqjw5cO9xeyjcnwk3z0q+hMQCoVHy1x\n",
              "a8rsAfnIdPKqpfKP+2QQkKQMAM+BAAAAowGfPGpCPwAAChbyuwt+2RGA2X2gYr1N0A5kwPFvzIyD\n",
              "SjTP7gO9K9WDab04DafUJXg2yMJkMiHYxfTGUo8rXrK/8TvwiSsiAaLPKF4tVdK+Z66jl1vMpJBF\n",
              "KltjV1mYABXLNFt5uAWCssJxjABJD5Vuen7PSO75jucyFBmlaFQFqwfktSrhb65FoMWKF0OyfZCo\n",
              "A0dc2GN62hT9PIIujvsAK+EAAABmQZs+SahBbJlMCF///oywAAAfX3tqi3QCS2deyGxhrwOJJbex\n",
              "nc1u5QgLQfoPoFJCDJsp/TfY05BXOFCVLGVKxSD/tgAL+d7EUtnOnmn7CbEBwi0vG1LXwgA5cg/a\n",
              "vp0OQ6J+kIeAAAAAbUGbX0nhClJlMCGf/p4QAAAeTzksQAN1uUPd6OIA7m5qasuZvNVNG1XkUSJB\n",
              "zt0eRZ06i9KymxHKxF+JmvSVNpFPwZKUqV0zWqlaAkTBpS9n7GkUWdGZTKi3t3TswZtgdwE+Tfg+\n",
              "ixFJ/rjZgwIAAAChQZtiSeEOiZTAhn/+nhAAAB59XbpaEPKwMlU3aXONNQvUT+xuKfqwNqz4a+bW\n",
              "kb1W4KRiajhhAzhtSpAOnMvriV4HU6hq+CiQXI5wJIh6Qu0XGWmeU0mUpCEAk+Pn+f+y7TMZpCku\n",
              "87h/jfTOp59FSvzcTLYcLmHOMCYkQvTJG+9Mdfovg7La6jPBigiIbMQkE8J/3lhFup38NKuTY/Ln\n",
              "01MAAAE/QZ+ARRE8J/8AAEF/MZoW2/EABNUPrpQWHokRhWkfGvgue6uf0qBCgtq49gGYKrHW2IuY\n",
              "5mQTqPckkgfWrjFfXH/+psB64BJ9kjXrFAS3imHkP7dWNzQExGW7yLsVmLSAU+eeTShDeeAkABZF\n",
              "kQW4sUDjvrMxnjhHvVCalQxltikkwaHJ9DfNq5AUE5r6kWflsuCIS6mWFhaWiAhYKug887IR1+5x\n",
              "oLSth9dLP9Bc6qqYYTncJktjvswVRO0hjGBjgobKG0yO6WIjK/zcwX+0DyuHDEYW1syBJjuSBGWS\n",
              "9fUQcqudRg+Ur9sh1jPECciqRpvBJu6B5mnj/wfbVQCxE/wHvscvysUxpc+wLioC3UxDZVXAp0gG\n",
              "aqzU7aLRLTQe1a/3SYrN47XjmM9PHm9rWJK4Et0ztmrTbBjqiABAwAAAAGcBn6FqQj8AAAnykpxw\n",
              "+biX5itFAyGnU1q4kk+eyLw2rZAOZyhgj0gih10JMx506B0ZUcjY0DdafxfuvzDiA608uNfKBI+M\n",
              "H2AlksxKn+HXP6Jv5gmVyABOrE35SItb6+Fa8gu2TAGzAAAAtEGbpEmoQWiZTBTwz/6eEAAAHaso\n",
              "wv/dtgKfADj27Ta/tWN4W63okhNELTIcuoo9o2lB9+5+hn3wLljMbKkBHKIqhtKgTzUuwu0UrxPo\n",
              "LjpYshnzBb5JKcO8fBg6dCgJ2epSwmig8zqhvsfzuKcFNQwbH+xi3Pai/WRZmqmB0/3VxWnxOYR7\n",
              "d6pZhf4RSgoaGFeVHMYD84RsPKBsQ7fLaxGMnoaI7iayxZoCSByKksSHYJIR8AAAAJEBn8NqQj8A\n",
              "AE/Ce1X6ISPAAr//Qfu2ET4xJX2Nr7CeE5wIkF98z++X96tYJPYDJn9wKR2OhxsO4INAExOXRxm0\n",
              "i/eKhSOhnooQKFZ+UbyJRwcHk/nkjBGeg0oKxiEn6wuzG2NHI23ijNgNBcs+j9mNE13HXb6WAys0\n",
              "AIcOFNm1k0ToqhQh1m2ITns3l+ow4BlRAAAAiUGbyEnhClJlMCGf/p4QAAAdz2OwfiK7+W2gCNBe\n",
              "VGoshdKK3KLdf1VoGWIfPxFefPAG5pq5BhWwsOIgtIrn508G2wpq2Aa9M8juzFvL/flx+6R0CJzR\n",
              "1NEh5sJ9hNxo1Vm0G8Zt7XIfI32DDT1RL8ORzn7fhOrH5xwR31MFpGrvMFhPa7zHvNlRAAAAuEGf\n",
              "5kU0TCf/AABBfzGXe8pcEEAJa3OcZBCbe9/DbCkMfUMSXVYYE8B6yI2Uu7ZbAFwM66347Xkk80BK\n",
              "ZMJcWVd6HP01vggg57DI/HQdf7OdA8b7FuKEZmqQ01MJnxkrBEFyfb7G/d5Tj5ml/lipdbC64W7x\n",
              "07e/UWmfbCWhvyH/au3tXikqbbV/Iljx2Mds+9i6mfWJcGUUoVCaetmf7dnHljDP4pJYXvaFKzoq\n",
              "AJ5d1GQkU2QA2YEAAACHAZ4FdEI/AAAJqvPNpQwqyB2UTwv6t8Ulf9cSC+fEDYZDeuk1mrKuNe/O\n",
              "USQHKiELJJtlIZnJPO8/PSQWLYOPb1ytO/U9w5FHX44eZq5gwtrcbC0rVqaLzUh1+GL6JQy3NUAH\n",
              "gCQda1sJYz9VDupyX40y6pE6z+FqYJc1XDV8SlnRjy/qoA6pAAAAUgGeB2pCPwAACWrwO+BHZlC+\n",
              "I9h7bZSis5nnrqmWohRsK4gqgP4MuXxGlXYcRJlZh9DRjJB9aSpbG9I79u7lPY/5AAExjuKWpWfr\n",
              "S0LJcWogCggAAACpQZoMSahBaJlMCGf//p4QAAAcbhOe4rkdjgCqa+tPNQahtu1lJtK43TVBNBD7\n",
              "zG9vAD9XO5T41UeBQwnrZMGWu1Q46FI/Whq72hioEt3XL3e3UonxVSdEvItzjW4YhBvGgaT/47E8\n",
              "w8xw0LN90WY19cKG78wliH3hyZeACBipm/PBoXi3aUm5HhV6yLJ9aWGWrozBGH1yNzPnUSiNOcL/\n",
              "XVzY4uip6eAOCAAAAIxBnipFESwn/wAAQYXdgd3+TkiJ55zjDusOBOye5gVKf28FqLdpLG56n2Ho\n",
              "K5ru8uAl4dbawuN+h7PyNu0aPxld9NDYHEq+VLMj59N38TbD+Gp5urkrMuX0Dfv7czRNMNooQQcJ\n",
              "HzTc0H12v7pc7vqnjLQagBKZ03dBUqPmeV8W3A4hXCq5+gTGRwgDCwAAAHUBnkl0Qj8AAAkqXapM\n",
              "AI0xRlluvpTxshyqJPvOxFQ7ydWMQqn5sx9+tl96ajaaOFBBE6U8l+9K6Z7GxrJKPU3MGZx4K8Ti\n",
              "YC598qY0K11jtxxOzicqWXAPAxQtyDslb/NESjD2yhJnMuZeUnIYOSOS8J9+QYMAAABaAZ5LakI/\n",
              "AAAJKvfLEdbJgBxqhlfNmgJROkO5I9Ns5h7sdwd/pFFf9Lx+bva2NDQZSUWPVLrwFx/5hvHHiOVE\n",
              "pzjugAmlgBMqbT8nTyFfTNV6ewSqsVpdugOOAAAAYUGaUEmoQWyZTAhn//6eEAAAG74TnWutR++j\n",
              "LIUkHZiKLgtHHFbvT+f1TJFLg3BhBSiJ6ig0FqV8kisAVSdCPBn30OV+AMG4unU8wwHRyVaHwn5b\n",
              "iMYwLhl/BJ0577CAD0kAAABmQZ5uRRUsJ/8AAEGF3X5rurUST2IeJVbaM16e8vy8MB2uh4sejfxu\n",
              "MG0+38eqTO7sgTCDPdQhug2YPwRkaIdA3O51Y/xWtpa/QfScAB7Ps2P5pHw2mZ9yX6BQXf4OgtS+\n",
              "EUkaADehAAAAjAGejXRCPwAACOpdqkwAlrc5Mlh/y2pDHkJdK7Nwu0cGE6hIRtrH9b8GzbptUu7V\n",
              "HsXXL8OZ6v96WjlnjDCbFbvI/jH2NgkgBVCg2VS4vOcMGc8STmrQMVH104vUdClxVGekXdmNYne6\n",
              "k6UUaakkpjO+P3IvObwgJj1DPX/2FwVyHYxft9dq+SRxMAYtAAAAdgGej2pCPwAACOv/Q39wALD3\n",
              "978W7E5r0w+m700rwttedGBxbGJdCan3XJeNmK8rHNI858G8wI56uZn+oriUqWXWU20WQ66NMgl/\n",
              "Bpgo/3n/vf+1fIIAYAiMnoDV52mUPkk8fOGawNJ/oGFOE5iqJb99yOmAEvAAAABoQZqUSahBbJlM\n",
              "CGf//p4QAAAbH2NqXFb8b6LpgPLxwys+KV5vIFfRtj/CWmJDrk9CVc1RVswbjiPJlkykVijKFr1H\n",
              "JSAF26UdL+w4t0hEhzagvoq249Xq0s2v3KOuCwz2+5MtkofifEoAAAC7QZ6yRRUsJ/8AAEGF3XuR\n",
              "QX4/Q2wg8ZZ+9WjLHRVt34lEwUZZrYo7YHGJMBpdf94NzxvU1fHacdsDVRoZXzB3vcJcxBnLm3hB\n",
              "U6O5tp3z8xKfmFOuqPQTmMJC2U53R5iYvQc0Y3UQaohfou08H1J21fO8eenSV8jIFcBd2vZ0poqd\n",
              "3HyVvZbYdrYEExSbt0vN6kEkRCKB0JSUh9x6II8RM4hmhQiitr+9LXQS5JZFE8up8Ugzw0K66wAF\n",
              "JQAAAIYBntF0Qj8AAAiqXZ/SReswxt+or/V/Tyk6LF729GnrvQEf/h5uT9H5I8hObHYSzahuGGdT\n",
              "J9Chwzpan70r23d31tQgPhPvLCUkUrR87dSZaSPcLLW1N8anWaGgjR8dyPgAEwsj9OnwNbM818WH\n",
              "/XOWu/BSl0PEqlSYURZi8mIbSxHqTaAErAAAAFcBntNqQj8AAAir/z9jXQPa0DCzEJfChp4pRKQp\n",
              "rXXUIvcFek9IjOHYWIaPwwHYvRdt+INAxEqAUaZgUDRrUPXTaZcbd/gK4C7rx6scBKtEhLnIwoLQ\n",
              "AccAAABxQZrWSahBbJlMFEwz//6eEAAAGn4ToCqrdqsIFrXSRD6bCmmwbNPe/TMmoqHkYNGzAihr\n",
              "qRTPs1lxKSKEv+Td/vGUh/tH7wgASds8pf36EcVYdoc3zkj9QAfMOx4Nqhcbm694s/gYFsmK+b+n\n",
              "F4J3D5kAAABjAZ71akI/AABPwns/ZTS1RL9sBIkpS3E1hW36a3IO88B0MmHQIaBqQl7xV0AnguWU\n",
              "CoatCv4oPeSArUopp4APw9IGR7uqsODx/BSl7snNhX0ZKTwmR0zzV0anD3x1uuy0AAxYAAAAYEGa\n",
              "+UnhClJlMCGf/p4QAAAZtfTX4qUeflScUoc8qX778g7GGMybXQ3sS9mpzXI9tyRV3xFW0ch9k93p\n",
              "vCfZH+c30EdB4OB8X/uXr79SiUFa1ATjK1EqoOP77q7Wj+sHdQAAAIRBnxdFNEwn/wAAQX8xiWLb\n",
              "eIllzyOH+ebjkrhWEC1u4LMJKUqz17RRTHy45FoT9sSRJ78S+8faVHsq8OF4wdoreJNUKpPFep+L\n",
              "4i9Xj3Dfi/3c2WrC4fTa+ycBm8dwWw/smE887xebYy9ulvBPewAnVuS0JULOR4M+UlfAj9jBjqQA\n",
              "MCEAAABnAZ84akI/AAAIKvBmAMNAngYa4YlerZswA2W49P7amu2Q3jhz6g4XDobhH2n1KYiQlSRo\n",
              "9qPe6URPVFoN8UeslM9QgAo2V+TbdjxKcCjIit8UjGJcMJFEoHaTzb3QChKuN2rU/gAMWAAAAKdB\n",
              "mzxJqEFomUwIZ//+nhAAABnfY0aWfacawzkVJ/Hi61Kd4A0DAe6eTZqnsobfv59eN2KBXLmBqAbj\n",
              "y8Pcgl5BNYvS2XLKP8GmAAtvGWu5V+58rUSpD3nbUFuUMU7DDaQV5piqAM8+yOVL8Ul4zhvmxEXC\n",
              "BmcEker2zo+sjlWw/FQXrcJEnyaM/GSteaywDhBrgIzvE7Olct3+O9Nzhf/O3lfQjrupYQAAAGxB\n",
              "n1pFESwn/wAAQYXddji2H4FOAOG8/vy2gBILwomWV/3ozNjS8nAz3GevZmijkgF2Dnhh3wNRfzPt\n",
              "1lbwLM+wsQZkuhRkXOPzp87/Odzsc66aMepAr8PWbNUvYn21/xACBMOT9HVKyVrAC2gAAAB2AZ97\n",
              "akI/AAAH7x2wOHLuKRSvYLQUvHLkPzxMtJvwhJSboa1GqsXkLyoGOBnerxOfflLmwMdCQZudYafR\n",
              "x4sfOBWv+BH/YiyhExPk/6UMZLJPTtm7CDVdt6eADxegHYyO2TN/PBASKJQO0nm3tB50XglKQACb\n",
              "gQAAAGtBm2BJqEFsmUwIX//+jLAAABlvW6597XLnb19c5uIomX9dkRbSBJ69BCLKRfB/WtrIE4bp\n",
              "uV6yFY8rBJHikzIVsPoc2HYngOjFJSorxfNHM0ECmO8qPeDv/MA019vZQaeQ9qsSYACa9E+T6wAA\n",
              "AJBBn55FFSwn/wAAQYXdc3i2ueixv2c2H9+W0AJBeFEy3P+rGaAaX04GcCkUqM0UckAuwc8MO+Bq\n",
              "L+Z9usreBZn2FiDMl0KMi5x+dPnf5zudjnXTRj1IVfh6x5qyOtfr8o/BcEGRMoAP+/aso+asPsXn\n",
              "SvYDbmzYw2E8knxV0gp43EJy4dD+fwYYTASY89rAD5gAAAB7AZ+9dEI/AAAH7yZYLwEvYKdW6X12\n",
              "nbArh9Pl7GBDk1UN8rhcf8GZ8yQKVo3OIYKVVan9y+EVSyYQZmnkY3CKH+wpvCIuwx5j+esAVOEg\n",
              "QnObKwcTL+pOsO1AKtzVAB3/6ntq4SDFksFGnVInWfwpY2To5HWQgpj4gAFJAAAAWwGfv2pCPwAA\n",
              "B8W+qSbfQBcGwNOEhatiehzDMcR5JywZGeARLFncJBw0cWQyb2HdIlBl5RsiCciX/WifN4Glhr1K\n",
              "zi47q/AkHCzs0cUjZzSOPFX7FFytPxAACXkAAABrQZukSahBbJlMCFf//jhAAABdeT60OSV6QJms\n",
              "FYABDrloOn2g6+/VqQmwDhHSulAHUDMYn2w+OjM5M3hS8Oi7uXG+zup+uQAY8SYn87iX0mIT7FYT\n",
              "UF28ajIWHs+k4RQVSBusqDKsvrbV0VAAAACIQZ/CRRUsJ/8AAEGF3W4yTfcAA0w6Tnqv2N5UZv4j\n",
              "uGB6Z13S36Z2lFC+4bmsiXqLv6zBSfe8VkvwXiC2ZWe2vGQ1WZS3qEnqHCiKkGVOMxpp8xUI2LiK\n",
              "Mlxo6R+Dugi8yLI6aChtt8WrbbH9RoMX7A+yEMN4f69WaF+NOGSPMBI4/hkldIATMQAAAHYBn+F0\n",
              "Qj8AAAeaHmWZpivAWxE6vxaM0mzJCIK/rzE52TRzuU1L/XvQmDTbU9Woblu/TAFKrUywrMfxELCV\n",
              "lgLQmzCZ33lteVrnSuTVtaaJxOucFABNEMJPDxcdq3CQs3YhCNFw+oZDCc0AnCgs3uZ7BdAoAGVA\n",
              "AAAAhgGf42pCPwAAB5cdpILHaXRgQ5S3X3/MAI7X/7dP13ROM/gal6gMAYBLzazt6672jntf75cK\n",
              "CJ4PFQZ9qwVc2y4zN9iOr0TXl1S3+TkeFLcWpGXoW1flhVysshrZ4MNmf8a7M8OMgABOHStF+Etn\n",
              "1a4olEIp9vdbEeF6PPvkSMZqKzLpABFxAAAAkUGb50moQWyZTAhH//3hAAADAWP1sWVYB8ypAC27\n",
              "jUJww1dFLFDSt0bTDeRsOddTvHQ5zQ1wa3LOMLZnegBy2UUQyuQmTgetXZZkP69Mc88vMCCxoaAy\n",
              "7NqTWm65g7n1cOXWBEY3y3zjra/Fvjyj0Kpb1bsNyJlGuSFwPw/5qKKsVLuUIPyq0MWCTfsSdwUY\n",
              "gUEAAABjQZ4FRRUsJ/8AAEGF3WvW2/EABdW5zkTUcGR0hxVLvMgLiWG8GC4JsEDwZ+7AvgdFH0vB\n",
              "LhAvKHpzj+2G95yYo19Dh5WNi4VG2Ykrm+MC3vdfB+U3nwqizkbjpUYY0wApwAZ9AAAAZwGeJmpC\n",
              "PwAAB23AtgYEg0vL4hyT3x3i6hg2wROWX8Iospcsq5kL7EdyczT7X0zt276fFYULj/H+4JxViuxj\n",
              "LUAHg72s6YApZRNzlqosUJUr/4KUvdqDraVSge7Bq5xiGj/5ZOa4CpkAAAvzbW9vdgAAAGxtdmhk\n",
              "AAAAAAAAAAAAAAAAAAAD6AAAE4gAAQAAAQAAAAAAAAAAAAAAAAEAAAAAAAAAAAAAAAAAAAABAAAA\n",
              "AAAAAAAAAAAAAABAAAAAAAAAAAAAAAAAAAAAAAAAAAAAAAAAAAAAAAAAAgAACx10cmFrAAAAXHRr\n",
              "aGQAAAADAAAAAAAAAAAAAAABAAAAAAAAE4gAAAAAAAAAAAAAAAAAAAAAAAEAAAAAAAAAAAAAAAAA\n",
              "AAABAAAAAAAAAAAAAAAAAABAAAAABLAAAAK8AAAAAAAkZWR0cwAAABxlbHN0AAAAAAAAAAEAABOI\n",
              "AAACAAABAAAAAAqVbWRpYQAAACBtZGhkAAAAAAAAAAAAAAAAAAAoAAAAyABVxAAAAAAALWhkbHIA\n",
              "AAAAAAAAAHZpZGUAAAAAAAAAAAAAAABWaWRlb0hhbmRsZXIAAAAKQG1pbmYAAAAUdm1oZAAAAAEA\n",
              "AAAAAAAAAAAAACRkaW5mAAAAHGRyZWYAAAAAAAAAAQAAAAx1cmwgAAAAAQAACgBzdGJsAAAAuHN0\n",
              "c2QAAAAAAAAAAQAAAKhhdmMxAAAAAAAAAAEAAAAAAAAAAAAAAAAAAAAABLACvABIAAAASAAAAAAA\n",
              "AAABAAAAAAAAAAAAAAAAAAAAAAAAAAAAAAAAAAAAAAAAAAAAGP//AAAANmF2Y0MBZAAg/+EAGWdk\n",
              "ACCs2UBLBZ+4QAAAAwBAAAAUA8YMZYABAAZo6+PLIsD9+PgAAAAAHHV1aWRraEDyXyRPxbo5pRvP\n",
              "AyPzAAAAAAAAABhzdHRzAAAAAAAAAAEAAADIAAABAAAAABRzdHNzAAAAAAAAAAEAAAABAAAFsGN0\n",
              "dHMAAAAAAAAAtAAAAAQAAAIAAAAAAQAAAwAAAAABAAABAAAAAAEAAAIAAAAAAQAABQAAAAABAAAC\n",
              "AAAAAAEAAAAAAAAAAQAAAQAAAAABAAAFAAAAAAEAAAIAAAAAAQAAAAAAAAABAAABAAAAAAEAAAQA\n",
              "AAAAAgAAAQAAAAABAAAFAAAAAAEAAAIAAAAAAQAAAAAAAAABAAABAAAAAAEAAAUAAAAAAQAAAgAA\n",
              "AAABAAAAAAAAAAEAAAEAAAAAAQAABQAAAAABAAACAAAAAAEAAAAAAAAAAQAAAQAAAAABAAAFAAAA\n",
              "AAEAAAIAAAAAAQAAAAAAAAABAAABAAAAAAEAAAIAAAAAAQAABAAAAAACAAABAAAAAAEAAAQAAAAA\n",
              "AgAAAQAAAAABAAADAAAAAAEAAAEAAAAAAQAABQAAAAABAAACAAAAAAEAAAAAAAAAAQAAAQAAAAAB\n",
              "AAAFAAAAAAEAAAIAAAAAAQAAAAAAAAABAAABAAAAAAEAAAUAAAAAAQAAAgAAAAABAAAAAAAAAAEA\n",
              "AAEAAAAAAQAABQAAAAABAAACAAAAAAEAAAAAAAAAAQAAAQAAAAABAAAFAAAAAAEAAAIAAAAAAQAA\n",
              "AAAAAAABAAABAAAAAAEAAAUAAAAAAQAAAgAAAAABAAAAAAAAAAEAAAEAAAAAAQAABQAAAAABAAAC\n",
              "AAAAAAEAAAAAAAAAAQAAAQAAAAABAAAFAAAAAAEAAAIAAAAAAQAAAAAAAAABAAABAAAAAAEAAAUA\n",
              "AAAAAQAAAgAAAAABAAAAAAAAAAEAAAEAAAAABQAAAgAAAAABAAAEAAAAAAIAAAEAAAAAAQAABQAA\n",
              "AAABAAACAAAAAAEAAAAAAAAAAQAAAQAAAAABAAAFAAAAAAEAAAIAAAAAAQAAAAAAAAABAAABAAAA\n",
              "AAEAAAUAAAAAAQAAAgAAAAABAAAAAAAAAAEAAAEAAAAAAQAABQAAAAABAAACAAAAAAEAAAAAAAAA\n",
              "AQAAAQAAAAABAAAFAAAAAAEAAAIAAAAAAQAAAAAAAAABAAABAAAAAAEAAAUAAAAAAQAAAgAAAAAB\n",
              "AAAAAAAAAAEAAAEAAAAAAQAABQAAAAABAAACAAAAAAEAAAAAAAAAAQAAAQAAAAABAAAEAAAAAAIA\n",
              "AAEAAAAAAQAAAwAAAAABAAABAAAAAAMAAAIAAAAAAQAABQAAAAABAAACAAAAAAEAAAAAAAAAAQAA\n",
              "AQAAAAABAAAFAAAAAAEAAAIAAAAAAQAAAAAAAAABAAABAAAAAAEAAAUAAAAAAQAAAgAAAAABAAAA\n",
              "AAAAAAEAAAEAAAAAAQAABQAAAAABAAACAAAAAAEAAAAAAAAAAQAAAQAAAAABAAAFAAAAAAEAAAIA\n",
              "AAAAAQAAAAAAAAABAAABAAAAAAEAAAUAAAAAAQAAAgAAAAABAAAAAAAAAAEAAAEAAAAAAQAABQAA\n",
              "AAABAAACAAAAAAEAAAAAAAAAAQAAAQAAAAABAAAFAAAAAAEAAAIAAAAAAQAAAAAAAAABAAABAAAA\n",
              "AAEAAAQAAAAAAgAAAQAAAAACAAACAAAAAAEAAAQAAAAAAgAAAQAAAAABAAADAAAAAAEAAAEAAAAA\n",
              "AQAABQAAAAABAAACAAAAAAEAAAAAAAAAAQAAAQAAAAABAAAFAAAAAAEAAAIAAAAAAQAAAAAAAAAB\n",
              "AAABAAAAAAEAAAUAAAAAAQAAAgAAAAABAAAAAAAAAAEAAAEAAAAAAQAABQAAAAABAAACAAAAAAEA\n",
              "AAAAAAAAAQAAAQAAAAABAAADAAAAAAEAAAEAAAAAAQAABAAAAAACAAABAAAAAAEAAAQAAAAAAgAA\n",
              "AQAAAAABAAAFAAAAAAEAAAIAAAAAAQAAAAAAAAABAAABAAAAAAEAAAUAAAAAAQAAAgAAAAABAAAA\n",
              "AAAAAAEAAAEAAAAAAQAABAAAAAACAAABAAAAABxzdHNjAAAAAAAAAAEAAAABAAAAyAAAAAEAAAM0\n",
              "c3RzegAAAAAAAAAAAAAAyAAAE1sAAALhAAADYQAAAlEAAAD1AAAAiQAAANsAAACVAAAAuwAAAFkA\n",
              "AADJAAAAZwAAAUAAAABwAAAA3AAAAH0AAACPAAAAwQAAAJMAAABSAAAAXAAAAIwAAAB3AAAATQAA\n",
              "AHMAAACJAAAAYQAAAHoAAABZAAAAhQAAAFQAAABPAAAAPgAAAJoAAAB8AAAATQAAAHAAAACfAAAA\n",
              "6QAAAHgAAACDAAAAwQAAAHsAAACeAAAAeAAAAK4AAABqAAAAcQAAAHwAAABQAAAAggAAAHcAAACd\n",
              "AAAAiAAAAI0AAAChAAAAgwAAAGAAAABgAAAAeAAAAHsAAABkAAAAgwAAAHEAAABtAAAAgQAAAIEA\n",
              "AACDAAAAjgAAAF8AAAB+AAAAhgAAAHUAAABJAAAAaQAAAJ8AAABuAAAAcwAAAJkAAABzAAAAnAAA\n",
              "AKoAAACDAAAAaAAAANQAAAC3AAAAkAAAAI8AAABMAAAAgQAAAIoAAAB6AAABHAAAAJAAAACAAAAA\n",
              "sgAAAIYAAAB6AAAAdwAAAHYAAAB6AAAAgAAAAHUAAABqAAAAlAAAAIAAAABdAAAAiwAAAHMAAABY\n",
              "AAAAWAAAAGoAAABPAAAAdAAAAHEAAACDAAAAlAAAAH4AAACOAAAAbAAAALkAAACAAAAAnwAAAOYA\n",
              "AACiAAAAnAAAAIcAAABrAAAAfgAAAHQAAADVAAAAdgAAAI0AAABZAAAAcgAAAIgAAAB3AAAAdQAA\n",
              "AG8AAAB3AAAASAAAAIgAAACTAAAAcgAAAIoAAAB2AAAAdwAAAJQAAACXAAAAkAAAAH4AAABcAAAA\n",
              "XgAAAIoAAACFAAAAlAAAAF0AAACnAAAAagAAAHEAAAClAAABQwAAAGsAAAC4AAAAlQAAAI0AAAC8\n",
              "AAAAiwAAAFYAAACtAAAAkAAAAHkAAABeAAAAZQAAAGoAAACQAAAAegAAAGwAAAC/AAAAigAAAFsA\n",
              "AAB1AAAAZwAAAGQAAACIAAAAawAAAKsAAABwAAAAegAAAG8AAACUAAAAfwAAAF8AAABvAAAAjAAA\n",
              "AHoAAACKAAAAlQAAAGcAAABrAAAAFHN0Y28AAAAAAAAAAQAAADAAAABidWR0YQAAAFptZXRhAAAA\n",
              "AAAAACFoZGxyAAAAAAAAAABtZGlyYXBwbAAAAAAAAAAAAAAAAC1pbHN0AAAAJal0b28AAAAdZGF0\n",
              "YQAAAAEAAAAATGF2ZjU4Ljc2LjEwMA==\n",
              "\">\n",
              "  Your browser does not support the video tag.\n",
              "</video>"
            ]
          },
          "metadata": {},
          "execution_count": 24
        },
        {
          "output_type": "display_data",
          "data": {
            "text/plain": [
              "<Figure size 1200x700 with 1 Axes>"
            ],
            "image/png": "[encoded data removed]"
          },
          "metadata": {}
        }
      ]
    },
    {
      "cell_type": "markdown",
      "metadata": {
        "id": "s0dAgWUt2o6E"
      },
      "source": [
        "# Conclusion\n",
        "You should now have a grasp of the basic features of snnTorch and be able to start running your own experiments. [In the next tutorial](https://snntorch.readthedocs.io/en/latest/tutorials/index.html), we will train a network using a neuromorphic dataset.\n",
        "\n",
        "A special thanks to [Gianfrancesco Angelini](https://github.com/gianfa) for providing valuable feedback on the tutorial.\n",
        "\n",
        "If you like this project, please consider starring ⭐ the repo on GitHub as it is the easiest and best way to support it."
      ]
    },
    {
      "cell_type": "markdown",
      "metadata": {
        "id": "q8eFeW-yeGci"
      },
      "source": [
        "# Additional Resources\n",
        "* [Check out the snnTorch GitHub project here.](https://github.com/jeshraghian/snntorch)"
      ]
    }
  ],
  "metadata": {
    "accelerator": "GPU",
    "colab": {
      "name": "snntorch_tutorial_6.ipynb",
      "provenance": [],
      "include_colab_link": true
    },
    "kernelspec": {
      "display_name": "Python 3",
      "language": "python",
      "name": "python3"
    },
    "language_info": {
      "codemirror_mode": {
        "name": "ipython",
        "version": 3
      },
      "file_extension": ".py",
      "mimetype": "text/x-python",
      "name": "python",
      "nbconvert_exporter": "python",
      "pygments_lexer": "ipython2",
      "version": "3.11.1 (v3.11.1:a7a450f84a, Dec  6 2022, 15:24:06) [Clang 13.0.0 (clang-1300.0.29.30)]"
    },
    "vscode": {
      "interpreter": {
        "hash": "aee8b7b246df8f9039afb4144a1f6fd8d2ca17a180786b69acc140d282b71a49"
      }
    }
  },
  "nbformat": 4,
  "nbformat_minor": 0
}