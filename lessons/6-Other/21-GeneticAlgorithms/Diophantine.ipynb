{
 "cells": [
  {
   "cell_type": "markdown",
   "metadata": {},
   "source": [
    "## Assignment: Diophantine Equations\n",
    "\n",
    "> This assignment is part of [AI for Beginners Curriculum](http://github.com/microsoft/ai-for-beginners) and is inspired by [this post](https://habr.com/post/128704/).\n",
    "\n",
    "Your goal is to solve so-called **Diophantine equation** - an equation with integer roots and integer coefficients. For example, consider the following equation:\n",
    "\n",
    "$$a+2b+3c+4d=30$$\n",
    "\n",
    "You need to find integer roots $a$,$b$,$c$,$d\\in\\mathbb{N}$ that satisfy this equation.\n",
    "\n",
    "Hints:\n",
    "1. You can consider roots to be in the interval [0;30]\n",
    "1. As a gene, consider using the list of root values"
   ]
  },
  {
   "cell_type": "markdown",
   "metadata": {},
   "source": [
    "# Kaleb implementation\n",
    "We will need a crossover, mutation, fit, and evolve function"
   ]
  },
  {
   "cell_type": "code",
   "execution_count": 18,
   "metadata": {},
   "outputs": [],
   "source": [
    "import random\n",
    "import matplotlib.pyplot as plt\n",
    "import numpy as np\n",
    "import math\n",
    "import time"
   ]
  },
  {
   "cell_type": "markdown",
   "metadata": {},
   "source": [
    "## Prepare data"
   ]
  },
  {
   "cell_type": "code",
   "execution_count": 32,
   "metadata": {},
   "outputs": [
    {
     "name": "stdout",
     "output_type": "stream",
     "text": [
      "[[6, 2, 19, 29], [3, 28, 19, 19], [5, 23, 2, 8], [20, 21, 10, 3], [16, 3, 28, 25], [6, 0, 0, 0], [21, 30, 12, 0], [8, 11, 11, 15]]\n"
     ]
    }
   ],
   "source": [
    "genes = []\n",
    "num_genes = 8 # arbitrary number 8\n",
    "for i in range(num_genes): \n",
    "    gene = []\n",
    "    for j in range(4): gene.append(random.randint(0, 30))\n",
    "    genes.append(gene)\n",
    "print(genes)"
   ]
  },
  {
   "cell_type": "markdown",
   "metadata": {},
   "source": [
    "## Functions"
   ]
  },
  {
   "cell_type": "code",
   "execution_count": 55,
   "metadata": {},
   "outputs": [
    {
     "name": "stdout",
     "output_type": "stream",
     "text": [
      "Cross over gene1: [6, 2, 19, 29], gene2: [3, 28, 19, 19].\n",
      "New gene: [4, 15, 19, 24]\n"
     ]
    }
   ],
   "source": [
    "# 'Crossing' two genes, lists of digits from 0-30, will involve an average as this makes the most sense simplicity wise.\n",
    "def crossover(gene1, gene2):\n",
    "    g0 = []\n",
    "    for i in range(len(gene1)): # 'Crossover' 2 genes by averaging\n",
    "        g0.append(int((gene1[i] + gene2[i]) / 2))\n",
    "    return g0\n",
    "\n",
    "print(f\"Cross over gene1: {genes[0]}, gene2: {genes[1]}.\\nNew gene: {crossover(genes[0],genes[1])}\")"
   ]
  },
  {
   "cell_type": "code",
   "execution_count": 46,
   "metadata": {},
   "outputs": [],
   "source": [
    "# Mutate by taking a random gene and randomizing\n",
    "def mutate(genes):\n",
    "    x = genes.copy()\n",
    "    g0 = []\n",
    "\n",
    "    for j in range(4): g0.append(random.randint(0, 30)) # Generate new gene\n",
    "        \n",
    "    i = random.randint(0, len(genes)-1)\n",
    "    x[i] = g0 # replace randomly selected gene with new gene\n",
    "    \n",
    "    return x"
   ]
  },
  {
   "cell_type": "code",
   "execution_count": 56,
   "metadata": {},
   "outputs": [],
   "source": [
    "def fit(gene):\n",
    "    x = 1*gene[0] + 2*gene[1] + 3*gene[2] + 4*gene[3]\n",
    "    return (30 + x) / 2"
   ]
  },
  {
   "cell_type": "code",
   "execution_count": 60,
   "metadata": {},
   "outputs": [
    {
     "ename": "TypeError",
     "evalue": "unsupported operand type(s) for +: 'int' and 'list'",
     "output_type": "error",
     "traceback": [
      "\u001b[0;31m---------------------------------------------------------------------------\u001b[0m",
      "\u001b[0;31mTypeError\u001b[0m                                 Traceback (most recent call last)",
      "Cell \u001b[0;32mIn[60], line 25\u001b[0m\n\u001b[1;32m     22\u001b[0m     i \u001b[38;5;241m=\u001b[39m np\u001b[38;5;241m.\u001b[39margmin([fit(b) \u001b[38;5;28;01mfor\u001b[39;00m b \u001b[38;5;129;01min\u001b[39;00m genes])\n\u001b[1;32m     23\u001b[0m     \u001b[38;5;28;01mreturn\u001b[39;00m (genes[i],res)\n\u001b[0;32m---> 25\u001b[0m (s,hist) \u001b[38;5;241m=\u001b[39m \u001b[43mevolve\u001b[49m\u001b[43m(\u001b[49m\u001b[43mgenes\u001b[49m\u001b[43m)\u001b[49m\n\u001b[1;32m     26\u001b[0m \u001b[38;5;28mprint\u001b[39m(s,fit(s))\n",
      "Cell \u001b[0;32mIn[60], line 4\u001b[0m, in \u001b[0;36mevolve\u001b[0;34m(genes, n)\u001b[0m\n\u001b[1;32m      2\u001b[0m res \u001b[38;5;241m=\u001b[39m []\n\u001b[1;32m      3\u001b[0m \u001b[38;5;28;01mfor\u001b[39;00m _ \u001b[38;5;129;01min\u001b[39;00m \u001b[38;5;28mrange\u001b[39m(n):\n\u001b[0;32m----> 4\u001b[0m     f \u001b[38;5;241m=\u001b[39m \u001b[38;5;28mmin\u001b[39m([fit(b) \u001b[38;5;28;01mfor\u001b[39;00m b \u001b[38;5;129;01min\u001b[39;00m genes])\n\u001b[1;32m      5\u001b[0m     res\u001b[38;5;241m.\u001b[39mappend(f)\n\u001b[1;32m      6\u001b[0m     \u001b[38;5;28;01mif\u001b[39;00m f\u001b[38;5;241m==\u001b[39m\u001b[38;5;241m0\u001b[39m:\n",
      "Cell \u001b[0;32mIn[60], line 4\u001b[0m, in \u001b[0;36m<listcomp>\u001b[0;34m(.0)\u001b[0m\n\u001b[1;32m      2\u001b[0m res \u001b[38;5;241m=\u001b[39m []\n\u001b[1;32m      3\u001b[0m \u001b[38;5;28;01mfor\u001b[39;00m _ \u001b[38;5;129;01min\u001b[39;00m \u001b[38;5;28mrange\u001b[39m(n):\n\u001b[0;32m----> 4\u001b[0m     f \u001b[38;5;241m=\u001b[39m \u001b[38;5;28mmin\u001b[39m([\u001b[43mfit\u001b[49m\u001b[43m(\u001b[49m\u001b[43mb\u001b[49m\u001b[43m)\u001b[49m \u001b[38;5;28;01mfor\u001b[39;00m b \u001b[38;5;129;01min\u001b[39;00m genes])\n\u001b[1;32m      5\u001b[0m     res\u001b[38;5;241m.\u001b[39mappend(f)\n\u001b[1;32m      6\u001b[0m     \u001b[38;5;28;01mif\u001b[39;00m f\u001b[38;5;241m==\u001b[39m\u001b[38;5;241m0\u001b[39m:\n",
      "Cell \u001b[0;32mIn[56], line 3\u001b[0m, in \u001b[0;36mfit\u001b[0;34m(gene)\u001b[0m\n\u001b[1;32m      1\u001b[0m \u001b[38;5;28;01mdef\u001b[39;00m \u001b[38;5;21mfit\u001b[39m(gene):\n\u001b[1;32m      2\u001b[0m     x \u001b[38;5;241m=\u001b[39m \u001b[38;5;241m1\u001b[39m\u001b[38;5;241m*\u001b[39mgene[\u001b[38;5;241m0\u001b[39m] \u001b[38;5;241m+\u001b[39m \u001b[38;5;241m2\u001b[39m\u001b[38;5;241m*\u001b[39mgene[\u001b[38;5;241m1\u001b[39m] \u001b[38;5;241m+\u001b[39m \u001b[38;5;241m3\u001b[39m\u001b[38;5;241m*\u001b[39mgene[\u001b[38;5;241m2\u001b[39m] \u001b[38;5;241m+\u001b[39m \u001b[38;5;241m4\u001b[39m\u001b[38;5;241m*\u001b[39mgene[\u001b[38;5;241m3\u001b[39m]\n\u001b[0;32m----> 3\u001b[0m     \u001b[38;5;28;01mreturn\u001b[39;00m (\u001b[38;5;241;43m30\u001b[39;49m\u001b[43m \u001b[49m\u001b[38;5;241;43m+\u001b[39;49m\u001b[43m \u001b[49m\u001b[43mx\u001b[49m) \u001b[38;5;241m/\u001b[39m \u001b[38;5;241m2\u001b[39m\n",
      "\u001b[0;31mTypeError\u001b[0m: unsupported operand type(s) for +: 'int' and 'list'"
     ]
    }
   ],
   "source": [
    "def evolve(genes, n = 2000): # traditionally, we'd use S for the set, but I just have it constant 0-30\n",
    "    res = []\n",
    "    for _ in range(n):\n",
    "        f = min([fit(b) for b in genes])\n",
    "        res.append(f)\n",
    "        if f==0:\n",
    "            break\n",
    "        if random.randint(1,10)<3:\n",
    "            b = mutate(genes)\n",
    "            i = np.argmax([fit(z) for z in genes])\n",
    "            genes[i] = b\n",
    "        else:\n",
    "            i = random.randint(0,len(genes)-1)\n",
    "            j = random.randint(0,len(genes)-1)\n",
    "            b = crossover(genes[i],genes[j])\n",
    "            if fit(b)<fit(genes[i]):\n",
    "                genes[i]=b\n",
    "            elif fit(b)<fit(genes[j]):\n",
    "                genes[j]=b\n",
    "            else:\n",
    "                pass\n",
    "    i = np.argmin([fit(b) for b in genes])\n",
    "    return (genes[i],res)\n",
    "\n",
    "(s,hist) = evolve(genes)\n",
    "print(s,fit(s))"
   ]
  },
  {
   "cell_type": "code",
   "execution_count": null,
   "metadata": {},
   "outputs": [],
   "source": []
  }
 ],
 "metadata": {
  "kernelspec": {
   "display_name": "Python 3 (ipykernel)",
   "language": "python",
   "name": "python3"
  },
  "language_info": {
   "codemirror_mode": {
    "name": "ipython",
    "version": 3
   },
   "file_extension": ".py",
   "mimetype": "text/x-python",
   "name": "python",
   "nbconvert_exporter": "python",
   "pygments_lexer": "ipython3",
   "version": "3.8.10"
  }
 },
 "nbformat": 4,
 "nbformat_minor": 4
}
