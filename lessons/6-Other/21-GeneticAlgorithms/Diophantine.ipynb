{
 "cells": [
  {
   "cell_type": "markdown",
   "metadata": {},
   "source": [
    "## Assignment: Diophantine Equations\n",
    "\n",
    "> This assignment is part of [AI for Beginners Curriculum](http://github.com/microsoft/ai-for-beginners) and is inspired by [this post](https://habr.com/post/128704/).\n",
    "\n",
    "Your goal is to solve so-called **Diophantine equation** - an equation with integer roots and integer coefficients. For example, consider the following equation:\n",
    "\n",
    "$$a+2b+3c+4d=30$$\n",
    "\n",
    "You need to find integer roots $a$,$b$,$c$,$d\\in\\mathbb{N}$ that satisfy this equation.\n",
    "\n",
    "Hints:\n",
    "1. You can consider roots to be in the interval [0;30]\n",
    "1. As a gene, consider using the list of root values"
   ]
  },
  {
   "cell_type": "markdown",
   "metadata": {},
   "source": [
    "# Kaleb implementation\n",
    "We will need a crossover, mutation, fit, and evolve function"
   ]
  },
  {
   "cell_type": "code",
   "execution_count": 1,
   "metadata": {},
   "outputs": [],
   "source": [
    "import random\n",
    "import matplotlib.pyplot as plt\n",
    "import numpy as np\n",
    "import math\n",
    "import time"
   ]
  },
  {
   "cell_type": "markdown",
   "metadata": {},
   "source": [
    "## Prepare data"
   ]
  },
  {
   "cell_type": "code",
   "execution_count": 2,
   "metadata": {},
   "outputs": [],
   "source": [
    "def prep_data():\n",
    "    genes = []\n",
    "    num_genes = 8 # arbitrary number 8\n",
    "    for i in range(num_genes): \n",
    "        gene = []\n",
    "        for j in range(4): gene.append(random.randint(0, 30))\n",
    "        genes.append(gene)\n",
    "    return genes"
   ]
  },
  {
   "cell_type": "markdown",
   "metadata": {},
   "source": [
    "## Functions"
   ]
  },
  {
   "cell_type": "code",
   "execution_count": 3,
   "metadata": {},
   "outputs": [],
   "source": [
    "# 'Crossing' two genes, lists of digits from 0-30, will involve an average as this makes the most sense simplicity wise.\n",
    "def crossover(gene1, gene2):\n",
    "    g0 = []\n",
    "    for i in range(len(gene1)): # 'Crossover' 2 genes by averaging\n",
    "        g0.append(int((gene1[i] + gene2[i]) / 2))\n",
    "    return g0"
   ]
  },
  {
   "cell_type": "code",
   "execution_count": 4,
   "metadata": {},
   "outputs": [],
   "source": [
    "# Mutate by taking a random gene and randomizing\n",
    "def mutate(genes):\n",
    "    x = genes.copy()\n",
    "    g0 = []\n",
    "\n",
    "    for j in range(4): g0.append(random.randint(0, 30)) # Generate new gene\n",
    "        \n",
    "    i = random.randint(0, len(genes)-1)\n",
    "    x[i] = g0 # replace randomly selected gene with new gene\n",
    "    \n",
    "    return x"
   ]
  },
  {
   "cell_type": "code",
   "execution_count": 10,
   "metadata": {},
   "outputs": [],
   "source": [
    "def fit(gene, target=30):\n",
    "    # 1*a + 2*b + 3*c + 4*d\n",
    "    x = 1 * gene[0] + 2 * gene[1] + 3 * gene[2] + 4 * gene[3]\n",
    "    return abs(x - target)"
   ]
  },
  {
   "cell_type": "code",
   "execution_count": 11,
   "metadata": {},
   "outputs": [],
   "source": [
    "def evolve(genes, n = 5000): # traditionally, we'd use S for the set, but I just have it constant 0-30\n",
    "    res = []\n",
    "    for _ in range(n):\n",
    "        f = min([fit(b) for b in genes])\n",
    "        res.append(f)\n",
    "        if f==0:\n",
    "            break\n",
    "        if random.randint(1,10)<3:\n",
    "            b = mutate(genes)\n",
    "            i = np.argmax([fit(z) for z in genes])\n",
    "            genes[i] = b[i] # changed to b[i]\n",
    "        else:\n",
    "            i = random.randint(0,len(genes)-1)\n",
    "            j = random.randint(0,len(genes)-1)\n",
    "            b = crossover(genes[i],genes[j])\n",
    "            if fit(b)<fit(genes[i]):\n",
    "                genes[i]=b\n",
    "            elif fit(b)<fit(genes[j]):\n",
    "                genes[j]=b\n",
    "            else:\n",
    "                pass\n",
    "    i = np.argmin([fit(b) for b in genes])\n",
    "    return (genes[i],res)"
   ]
  },
  {
   "cell_type": "markdown",
   "metadata": {},
   "source": [
    "## Go Time"
   ]
  },
  {
   "cell_type": "code",
   "execution_count": 12,
   "metadata": {},
   "outputs": [
    {
     "name": "stdout",
     "output_type": "stream",
     "text": [
      "Initial genes list: [[21, 28, 13, 0], [16, 19, 18, 11], [21, 2, 17, 23], [26, 10, 4, 20], [10, 7, 22, 23], [14, 15, 22, 8], [14, 6, 25, 25], [21, 15, 17, 25]]\n",
      "[8, 3, 4, 1] 0\n",
      "Solution: 1 * 8 + 2 * 3 + 3 * 4 + 4 * 1 = 30\n"
     ]
    }
   ],
   "source": [
    "genes = prep_data()\n",
    "print(f\"Initial genes list: {genes}\")\n",
    "(s,hist) = evolve(genes, n=100000)\n",
    "print(s,fit(s))\n",
    "solution = 1 * s[0] + 2 * s[1] + 3 * s[2] + 4 * s[3]\n",
    "print(f\"Solution: 1 * {s[0]} + 2 * {s[1]} + 3 * {s[2]} + 4 * {s[3]} = {solution}\")"
   ]
  },
  {
   "cell_type": "code",
   "execution_count": null,
   "metadata": {},
   "outputs": [],
   "source": []
  }
 ],
 "metadata": {
  "kernelspec": {
   "display_name": "Python 3 (ipykernel)",
   "language": "python",
   "name": "python3"
  },
  "language_info": {
   "codemirror_mode": {
    "name": "ipython",
    "version": 3
   },
   "file_extension": ".py",
   "mimetype": "text/x-python",
   "name": "python",
   "nbconvert_exporter": "python",
   "pygments_lexer": "ipython3",
   "version": "3.8.10"
  }
 },
 "nbformat": 4,
 "nbformat_minor": 4
}
