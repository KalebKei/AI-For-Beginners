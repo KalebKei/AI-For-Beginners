{
 "cells": [
  {
   "cell_type": "markdown",
   "metadata": {},
   "source": [
    "# Classification of Pet's Faces\n",
    "\n",
    "Lab Assignment from [AI for Beginners Curriculum](https://github.com/microsoft/ai-for-beginners).\n",
    "\n"
   ]
  },
  {
   "cell_type": "markdown",
   "metadata": {},
   "source": [
    "# **IMPORTANT MESSAGE FROM KALEB** \n",
    "When this file is used it will grow to a file size that github cannot support for free\n",
    "### To fix this issue:\n",
    "Go to `Edit`\n",
    "Select: `Clear Outputs of All Cells`\n"
   ]
  },
  {
   "cell_type": "markdown",
   "metadata": {},
   "source": [
    "### Getting the Data\n",
    "\n",
    "In this assignment, we will focus on relatively simple classification task - classification of pet's faces. This dataset consists of cut-out faces from [Oxford-IIIT Dataset](https://www.robots.ox.ac.uk/~vgg/data/pets/). Let's start by loading and visualizing the dataset."
   ]
  },
  {
   "cell_type": "code",
   "execution_count": 1,
   "metadata": {},
   "outputs": [],
   "source": [
    "# !wget https://mslearntensorflowlp.blob.core.windows.net/data/petfaces.tar.gz\n",
    "# !tar xfz petfaces.tar.gz\n",
    "# !rm petfaces.tar.gz"
   ]
  },
  {
   "cell_type": "markdown",
   "metadata": {},
   "source": [
    "We will define generic function to display a series of images from a list:"
   ]
  },
  {
   "cell_type": "code",
   "execution_count": 2,
   "metadata": {},
   "outputs": [],
   "source": [
    "import matplotlib.pyplot as plt\n",
    "import os\n",
    "from PIL import Image\n",
    "import numpy as np\n",
    "\n",
    "def display_images(l,titles=None,fontsize=12):\n",
    "    n=len(l)\n",
    "    fig,ax = plt.subplots(1,n)\n",
    "    for i,im in enumerate(l):\n",
    "        ax[i].imshow(im)\n",
    "        ax[i].axis('off')\n",
    "        if titles is not None:\n",
    "            ax[i].set_title(titles[i],fontsize=fontsize)\n",
    "    fig.set_size_inches(fig.get_size_inches()*n)\n",
    "    plt.tight_layout()\n",
    "    plt.show()"
   ]
  },
  {
   "cell_type": "markdown",
   "metadata": {},
   "source": [
    "Now let's traverse all class subdirectories and plot first few images of each class:"
   ]
  },
  {
   "cell_type": "code",
   "execution_count": 3,
   "metadata": {
    "scrolled": true
   },
   "outputs": [],
   "source": [
    "# for cls in os.listdir('petfaces'):\n",
    "#     print(cls)\n",
    "#     display_images([Image.open(os.path.join('petfaces',cls,x)) \n",
    "#                     for x in os.listdir(os.path.join('petfaces',cls))[:10]])"
   ]
  },
  {
   "cell_type": "markdown",
   "metadata": {},
   "source": [
    "Let's also define the number of classes in our dataset:"
   ]
  },
  {
   "cell_type": "code",
   "execution_count": 4,
   "metadata": {},
   "outputs": [
    {
     "data": {
      "text/plain": [
       "37"
      ]
     },
     "execution_count": 4,
     "metadata": {},
     "output_type": "execute_result"
    }
   ],
   "source": [
    "num_classes = len(os.listdir('petfaces'))\n",
    "num_classes"
   ]
  },
  {
   "cell_type": "markdown",
   "metadata": {},
   "source": [
    "## Preparing dataset for Deep Learning\n",
    "\n",
    "To start training our neural network, we need to convert all images to tensors, and also create tensors corresponding to labels (class numbers). Most neural network frameworks contain simple tools for dealing with images:\n",
    "* In Tensorflow, use `tf.keras.preprocessing.image_dataset_from_directory`\n",
    "* In PyTorch, use `torchvision.datasets.ImageFolder`\n",
    "\n",
    "As you have seen from the pictures above, all of them are close to square image ratio, so we need to resize all images to square size. Also, we can organize images in minibatches."
   ]
  },
  {
   "cell_type": "code",
   "execution_count": 5,
   "metadata": {},
   "outputs": [
    {
     "name": "stdout",
     "output_type": "stream",
     "text": [
      "7390\n"
     ]
    }
   ],
   "source": [
    "# CODE TO LOAD DATASET\n",
    "from torchvision import transforms, datasets\n",
    "from torch.utils.data import DataLoader\n",
    "\n",
    "transform = transforms.Compose([\n",
    "    transforms.Resize(256),         \n",
    "    transforms.CenterCrop(256),     \n",
    "    transforms.ToTensor(),          \n",
    "])\n",
    "\n",
    "dataset = datasets.ImageFolder('petfaces', transform = transform)\n",
    "print(len(dataset))"
   ]
  },
  {
   "cell_type": "markdown",
   "metadata": {},
   "source": [
    "Now we need to separate dataset into train and test portions:"
   ]
  },
  {
   "cell_type": "code",
   "execution_count": 6,
   "metadata": {},
   "outputs": [
    {
     "name": "stdout",
     "output_type": "stream",
     "text": [
      "155\n",
      "77\n"
     ]
    }
   ],
   "source": [
    "# CODE TO DO TRAIN/TEST SPLIT\n",
    "from torch.utils.data import random_split\n",
    "\n",
    "# Calculate the lengths of splits\n",
    "total_len = len(dataset)\n",
    "train_len = int(total_len * 0.67)\n",
    "test_len = total_len - train_len\n",
    "\n",
    "# Create the random splits\n",
    "train_dataset, test_dataset = random_split(dataset, [train_len, test_len])\n",
    "\n",
    "# Create data loaders\n",
    "train_dataloader = DataLoader(train_dataset, batch_size=32, shuffle=True)\n",
    "test_dataloader = DataLoader(test_dataset, batch_size=32, shuffle=True)\n",
    "print(len(train_dataloader))\n",
    "print(len(test_dataloader))"
   ]
  },
  {
   "cell_type": "markdown",
   "metadata": {},
   "source": [
    "Now let's print the size of tensors in our dataset. If you have done everything correctly, the size of training elements should be\n",
    " * `batch_size,3,image_size,image_size` for PyTorch\n",
    " * `batch_size` for Labels\n",
    " \n",
    " Labels should contain numbers of classes."
   ]
  },
  {
   "cell_type": "code",
   "execution_count": 7,
   "metadata": {},
   "outputs": [
    {
     "name": "stdout",
     "output_type": "stream",
     "text": [
      "<torch.utils.data.dataloader.DataLoader object at 0x7f46ae707df0>\n"
     ]
    }
   ],
   "source": [
    "# Print tensor sizes\n",
    "print(train_dataloader)"
   ]
  },
  {
   "cell_type": "code",
   "execution_count": 9,
   "metadata": {},
   "outputs": [
    {
     "name": "stdout",
     "output_type": "stream",
     "text": [
      "Images tensor shape: torch.Size([32, 3, 256, 256])\n",
      "Labels tensor shape: torch.Size([32])\n",
      "Images tensor shape: torch.Size([32, 3, 256, 256])\n",
      "Labels tensor shape: torch.Size([32])\n"
     ]
    }
   ],
   "source": [
    "# Display the data\n",
    "# Print the size of the tensors in the training set\n",
    "for images, labels in train_dataloader:\n",
    "    print('Images tensor shape:', images.shape)\n",
    "    print('Labels tensor shape:', labels.shape)\n",
    "    break  # We break after the first batch\n",
    "\n",
    "# Print the size of the tensors in the testing set\n",
    "for images, labels in test_dataloader:\n",
    "    print('Images tensor shape:', images.shape)\n",
    "    print('Labels tensor shape:', labels.shape)\n",
    "    break  # We break after the first batch"
   ]
  },
  {
   "cell_type": "markdown",
   "metadata": {},
   "source": [
    "## Define a neural network\n",
    "\n",
    "For image classification, you should probably define a convolutional neural network with several layers. What to keep an eye for:\n",
    "* Keep in mind the pyramid architecture, i.e. number of filters should increase as you go deeper\n",
    "* Do not forget activation functions between layers (ReLU) and Max Pooling\n",
    "* Final classifier can be with or without hidden layers, but the number of output neurons should be equal to number of classes.\n",
    "\n",
    "An important thing is to get the activation function on the last layer + loss function right:\n",
    "* In Tensorflow, you can use `softmax` as the activation, and `sparse_categorical_crossentropy` as loss. The difference between sparse categorical cross-entropy and non-sparse one is that the former expects output as the number of class, and not as one-hot vector.\n",
    "* In PyTorch, you can have the final layer without activation function, and use `CrossEntropyLoss` loss function. This function applies softmax automatically. "
   ]
  },
  {
   "cell_type": "code",
   "execution_count": 34,
   "metadata": {},
   "outputs": [
    {
     "data": {
      "text/plain": [
       "==========================================================================================\n",
       "Layer (type:depth-idx)                   Output Shape              Param #\n",
       "==========================================================================================\n",
       "KeiNet                                   [32, 37]                  --\n",
       "├─Conv2d: 1-1                            [32, 9, 252, 252]         684\n",
       "├─Flatten: 1-2                           [32, 571536]              --\n",
       "├─Linear: 1-3                            [32, 37]                  21,146,869\n",
       "==========================================================================================\n",
       "Total params: 21,147,553\n",
       "Trainable params: 21,147,553\n",
       "Non-trainable params: 0\n",
       "Total mult-adds (G): 2.07\n",
       "==========================================================================================\n",
       "Input size (MB): 25.17\n",
       "Forward/backward pass size (MB): 146.32\n",
       "Params size (MB): 84.59\n",
       "Estimated Total Size (MB): 256.08\n",
       "=========================================================================================="
      ]
     },
     "execution_count": 34,
     "metadata": {},
     "output_type": "execute_result"
    }
   ],
   "source": [
    "# CODE TO DEFINE NEURAL NETWORK\n",
    "import torch.nn as nn\n",
    "\n",
    "class KeiNet(nn.Module):\n",
    "    def __init__(self):\n",
    "        super(KeiNet, self).__init__()\n",
    "        self.conv = nn.Conv2d(in_channels=3,out_channels=9,kernel_size=(5,5))\n",
    "        self.flatten = nn.Flatten()\n",
    "        self.fc = nn.Linear(571536,37)\n",
    "\n",
    "    def forward(self, x):\n",
    "        # [3, 256, 256]\n",
    "        x = nn.functional.relu(self.conv(x))\n",
    "        # [9, 252, 252]\n",
    "        x = self.flatten(x)\n",
    "        # [571, 536]\n",
    "        x = nn.functional.log_softmax(self.fc(x),dim=1)\n",
    "        # [37]\n",
    "        return x\n",
    "test_net = KeiNet().to(device)\n",
    "summary(test_net,input_size=(32,3,256,256))"
   ]
  },
  {
   "cell_type": "markdown",
   "metadata": {},
   "source": [
    "## Train the Neural Network\n",
    "\n",
    "Now we are ready to train the neural network. During training, please collect accuracy on train and test data on each epoch, and then plot the accuracy to see if there is overfitting.\n",
    "\n",
    "> To speed up training, you need to use GPU if available. While TensorFlow/Keras will automatically use GPU, in PyTorch you need to move both the model and data to GPU during training using `.to()` method in order to take advantage of GPU acceleration. \n"
   ]
  },
  {
   "cell_type": "code",
   "execution_count": 35,
   "metadata": {},
   "outputs": [
    {
     "name": "stdout",
     "output_type": "stream",
     "text": [
      "Using cuda device\n",
      "NVIDIA GeForce GTX 1080\n"
     ]
    }
   ],
   "source": [
    "import torch\n",
    "torch.__version__\n",
    "# Kaleb code\n",
    "device = (\n",
    "    \"cuda\"\n",
    "    if torch.cuda.is_available()\n",
    "    else \"mps\"\n",
    "    if torch.backends.mps.is_available()\n",
    "    else \"cpu\"\n",
    ")\n",
    "print(f\"Using {device} device\")\n",
    "print(torch.cuda.get_device_name(0))"
   ]
  },
  {
   "cell_type": "code",
   "execution_count": 46,
   "metadata": {},
   "outputs": [
    {
     "name": "stdout",
     "output_type": "stream",
     "text": [
      "Epoch 0 TRAIN last loss: 3.52070689201355, average accuracy: 0.05935308337211609\n",
      "Epoch 0 TEST last loss: 3.47412109375, average accuracy: 0.0643552839756012\n",
      "Epoch 1 TRAIN last loss: 1.654506802558899, average accuracy: 0.5317496657371521\n",
      "Epoch 1 TEST last loss: 4.093550682067871, average accuracy: 0.08198051899671555\n",
      "Epoch 2 TRAIN last loss: 0.28542691469192505, average accuracy: 0.9333099126815796\n",
      "Epoch 2 TEST last loss: 4.029034614562988, average accuracy: 0.08893784880638123\n",
      "Epoch 3 TRAIN last loss: 0.0686221718788147, average accuracy: 0.9965725541114807\n",
      "Epoch 3 TEST last loss: 7.814624309539795, average accuracy: 0.08180658519268036\n",
      "Epoch 4 TRAIN last loss: 0.00023041540407575667, average accuracy: 1.0\n",
      "Epoch 4 TEST last loss: 7.812180519104004, average accuracy: 0.08887986838817596\n"
     ]
    }
   ],
   "source": [
    "# TRAIN THE NETWORK\n",
    "from torchinfo import summary\n",
    "\n",
    "def train(net, dataloader_train, dataloader_test, epochs = 5, lr = 0.001):\n",
    "    train_loss, train_acc = [],[]\n",
    "    test_loss, test_acc = [],[]\n",
    "\n",
    "    loss_fn = torch.nn.CrossEntropyLoss()\n",
    "    optimizer = torch.optim.Adam(net.parameters(), lr=lr)\n",
    "    for ep in range(epochs):\n",
    "        train_loss_list, test_loss_list = [], []\n",
    "        sum_train_acc, sum_test_acc = [],[]\n",
    "        net.train()\n",
    "        for X, y in dataloader_train:\n",
    "            X, y = X.to(device), y.to(device)\n",
    "\n",
    "            # Make predictions and loss calculations\n",
    "            pred = net(X)\n",
    "            loss = loss_fn(pred, y)\n",
    "            train_loss_list.append(loss.item())\n",
    "\n",
    "            # Back prop\n",
    "            optimizer.zero_grad()\n",
    "            loss.backward()\n",
    "            optimizer.step()\n",
    "\n",
    "            # Batch accuracy calculations\n",
    "            class_pred = torch.argmax(pred, axis=1)\n",
    "            correct = (class_pred == y).sum()\n",
    "            curr_acc = correct / len(y)\n",
    "            sum_train_acc.append(curr_acc)\n",
    "\n",
    "        train_loss.append(loss.item())\n",
    "        train_acc.append((sum(sum_train_acc) / len(sum_train_acc)).cpu().detach().numpy())\n",
    "        print(f\"Epoch {ep} TRAIN last loss: {loss.item()}, average accuracy: {sum(sum_train_acc) / len(sum_train_acc)}\")\n",
    "        \n",
    "        \n",
    "        net.eval()\n",
    "        for X, y in dataloader_test:\n",
    "            X, y = X.to(device), y.to(device)\n",
    "\n",
    "            # Make predictions and loss calculations\n",
    "            pred = net(X)\n",
    "            loss = loss_fn(pred, y)\n",
    "\n",
    "             # Batch accuracy calculations\n",
    "            class_pred = torch.argmax(pred, axis=1)\n",
    "            correct = (class_pred == y).sum()\n",
    "            curr_acc = correct / len(y)\n",
    "            sum_test_acc.append(curr_acc)\n",
    "\n",
    "        test_loss.append(loss.item())\n",
    "        test_acc.append((sum(sum_test_acc) / len(sum_test_acc)).cpu().detach().numpy())\n",
    "        print(f\"Epoch {ep} TEST last loss: {loss.item()}, average accuracy: {sum(sum_test_acc) / len(sum_test_acc)}\")\n",
    "        \n",
    "            \n",
    "    \n",
    "    return train_loss, train_acc, test_loss, test_acc\n",
    "\n",
    "net = KeiNet().to(device)\n",
    "train_loss_list, train_acc_list, test_loss_list, test_acc_list = train(net, train_dataloader, test_dataloader)"
   ]
  },
  {
   "cell_type": "code",
   "execution_count": 45,
   "metadata": {},
   "outputs": [
    {
     "data": {
      "image/png": "[encoded data removed]",
      "text/plain": [
       "<Figure size 640x480 with 1 Axes>"
      ]
     },
     "metadata": {},
     "output_type": "display_data"
    },
    {
     "data": {
      "image/png": "[encoded data removed]",
      "text/plain": [
       "<Figure size 640x480 with 1 Axes>"
      ]
     },
     "metadata": {},
     "output_type": "display_data"
    }
   ],
   "source": [
    "# PLOT THE ACCURACY on train and validation dataset\n",
    "def graph_loss_acc(train_loss_list, train_acc_list, test_loss_list, test_acc_list):\n",
    "    epochs = range(len(train_loss_list))\n",
    "    plt.plot(epochs, train_loss_list, label='Training Loss')\n",
    "    plt.plot(epochs, test_loss_list, label='Testing Loss')\n",
    "    plt.legend()\n",
    "    plt.xlabel('Epoch')\n",
    "    plt.ylabel('Value')\n",
    "    plt.title('Loss')\n",
    "    plt.show()\n",
    "    plt.plot(epochs, train_acc_list, label='Training Accuracy')\n",
    "    plt.plot(epochs, test_acc_list, label='Testing Accuracy')\n",
    "    plt.legend()\n",
    "    plt.xlabel('Epoch')\n",
    "    plt.ylabel('Percent')\n",
    "    plt.title('Training Accuracy')\n",
    "    plt.show()\n",
    "\n",
    "# for i in range(len(train_acc_list)):\n",
    "#     train_acc_list[i] = train_acc_list[i].cpu().detach().numpy()\n",
    "#     test_acc_list[i] = test_acc_list[i].cpu().detach().numpy()\n",
    "    \n",
    "graph_loss_acc(train_loss_list, train_acc_list, test_loss_list, test_acc_list)"
   ]
  },
  {
   "cell_type": "markdown",
   "metadata": {},
   "source": [
    "What can you say about overfitting? What can be done to improve the accuracy of the model\n",
    "\n",
    "## Optional: Calculate Top3 Accuracy\n",
    "\n",
    "In this exercise, we were dealing with classification with quite high number of classes (35), so our result - around 50% validation accuracy - is pretty good. Standard ImageNet dataset has even more - 1000 classes.\n",
    "\n",
    "In such cases it is difficult to ensure that model **always** correctly predicts the class. There are cases when two breeds are very similar to each other, and the model returns very similar probablities (eg., 0.45 and 0.43). If we measure standard accuracy, it will be considered a wrong case, even though the model did very small mistake. This, we often measure another metric - an accuracy within top 3 most probable predictions of the model.\n",
    "\n",
    "We consider the case accurate if target label is contained within top 3 model predictions. \n",
    "\n",
    "To compute top-3 accuracy on the test dataset, you need to manually go over the dataset, apply the neural network to get the prediction, and then do the calculations. Some hints:\n",
    "\n",
    "* In Tensorflow, use `tf.nn.in_top_k` function to see if the `predictions` (output of the model) are in top-k (pass `k=3` as parameter), with respect to `targets`. This function returns a tensor of boolean values, which can be converted to `int` using `tf.cast`, and then accumulated using `tf.reduce_sum`.\n",
    "* In PyTorch, you can use `torch.topk` function to get indices of classes with highers probabilities, and then see if the correct class belongs to them. See [this](https://gist.github.com/weiaicunzai/2a5ae6eac6712c70bde0630f3e76b77b) for more hints.\n"
   ]
  },
  {
   "cell_type": "code",
   "execution_count": null,
   "metadata": {},
   "outputs": [],
   "source": [
    "# CALCULATE TOP-3 ACCURACY"
   ]
  },
  {
   "cell_type": "markdown",
   "metadata": {},
   "source": [
    "## Optional: Build Cats vs. Dogs classification\n",
    "\n",
    "We also want to see how accurate our binary cats vs. dogs classification would be on the same dateset. To do it, we need to adjust labels:"
   ]
  },
  {
   "cell_type": "code",
   "execution_count": null,
   "metadata": {},
   "outputs": [],
   "source": [
    "# Define dataset that contains only two labels: 0 = cat, 1 = dog\n",
    "# Hint: use class name prefix to figure out which one is which"
   ]
  },
  {
   "cell_type": "code",
   "execution_count": null,
   "metadata": {},
   "outputs": [],
   "source": [
    "# Define neural network architecture and train"
   ]
  }
 ],
 "metadata": {
  "interpreter": {
   "hash": "86193a1ab0ba47eac1c69c1756090baa3b420b3eea7d4aafab8b85f8b312f0c5"
  },
  "kernelspec": {
   "display_name": "ai-env",
   "language": "python",
   "name": "ai-env"
  },
  "language_info": {
   "codemirror_mode": {
    "name": "ipython",
    "version": 3
   },
   "file_extension": ".py",
   "mimetype": "text/x-python",
   "name": "python",
   "nbconvert_exporter": "python",
   "pygments_lexer": "ipython3",
   "version": "3.8.10"
  }
 },
 "nbformat": 4,
 "nbformat_minor": 4
}
